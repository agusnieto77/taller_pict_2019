{
  "nbformat": 4,
  "nbformat_minor": 0,
  "metadata": {
    "colab": {
      "provenance": [],
      "authorship_tag": "ABX9TyNaAiL1keCVi5E2oZIyVCAP",
      "include_colab_link": true
    },
    "kernelspec": {
      "name": "ir",
      "display_name": "R"
    },
    "language_info": {
      "name": "R"
    }
  },
  "cells": [
    {
      "cell_type": "markdown",
      "metadata": {
        "id": "view-in-github",
        "colab_type": "text"
      },
      "source": [
        "<a href=\"https://colab.research.google.com/github/agusnieto77/taller_pict_2019/blob/main/Colabs/ACEP_laboratorio_VIII.ipynb\" target=\"_parent\"><img src=\"https://colab.research.google.com/assets/colab-badge.svg\" alt=\"Open In Colab\"/></a>"
      ]
    },
    {
      "cell_type": "markdown",
      "source": [
        "# Ejercicio 4"
      ],
      "metadata": {
        "id": "mxHA5aNWT3pn"
      }
    },
    {
      "cell_type": "code",
      "execution_count": null,
      "metadata": {
        "id": "ThmpIJYljSTT"
      },
      "outputs": [],
      "source": [
        "install.packages(\"ACEP\")"
      ]
    },
    {
      "cell_type": "code",
      "source": [
        "require(ACEP)"
      ],
      "metadata": {
        "id": "yvhkmoqEjvZO"
      },
      "execution_count": null,
      "outputs": []
    },
    {
      "cell_type": "code",
      "source": [
        "dic_conf <- acep_load_base(acep_diccionarios$dicc_confl_sismos)\n",
        "print(dic_conf)"
      ],
      "metadata": {
        "id": "VQ6sBePJVNCX"
      },
      "execution_count": null,
      "outputs": []
    },
    {
      "cell_type": "code",
      "source": [
        "texto <-     \"\n",
        "    La UTA inició un paro de colectivos por tiempo indeterminado\n",
        "    El gremio que nuclea a los choferes lo resolvió por un atraso salarial. \n",
        "    La medida de fuerza comenzó a partir de las 18.\n",
        "    Por un atraso salarial, la Unión Tranviarios Automotor (UTA) inició un paro \n",
        "    por tiempo indeterminado a partir de las 18 de este lunes, según \n",
        "    confirmaron fuentes del gremio que nuclea a los choferes.\n",
        "    \""
      ],
      "metadata": {
        "id": "i56AhZoNZim3"
      },
      "execution_count": null,
      "outputs": []
    },
    {
      "cell_type": "code",
      "source": [
        "texto_limpio <- acep_clean(texto)\n",
        "texto_limpio"
      ],
      "metadata": {
        "id": "ubZxi3WJj2Se"
      },
      "execution_count": null,
      "outputs": []
    },
    {
      "cell_type": "code",
      "source": [
        "acep_men(texto_limpio, dic_conf)"
      ],
      "metadata": {
        "id": "uhOCAIp4kOAm"
      },
      "execution_count": null,
      "outputs": []
    },
    {
      "cell_type": "code",
      "source": [
        "acep_men(texto, dic_conf)"
      ],
      "metadata": {
        "id": "LGQR-BcoZYWf"
      },
      "execution_count": null,
      "outputs": []
    }
  ]
}