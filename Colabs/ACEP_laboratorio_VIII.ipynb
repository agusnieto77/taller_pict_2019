{
  "nbformat": 4,
  "nbformat_minor": 0,
  "metadata": {
    "colab": {
      "provenance": [],
      "authorship_tag": "ABX9TyO0sb2yJTL7NukM9GRtuYsh",
      "include_colab_link": true
    },
    "kernelspec": {
      "name": "ir",
      "display_name": "R"
    },
    "language_info": {
      "name": "R"
    }
  },
  "cells": [
    {
      "cell_type": "markdown",
      "metadata": {
        "id": "view-in-github",
        "colab_type": "text"
      },
      "source": [
        "<a href=\"https://colab.research.google.com/github/agusnieto77/taller_pict_2019/blob/main/Colabs/ACEP_laboratorio_VIII.ipynb\" target=\"_parent\"><img src=\"https://colab.research.google.com/assets/colab-badge.svg\" alt=\"Open In Colab\"/></a>"
      ]
    },
    {
      "cell_type": "markdown",
      "source": [
        "# Ejercicio 8"
      ],
      "metadata": {
        "id": "mxHA5aNWT3pn"
      }
    },
    {
      "cell_type": "code",
      "execution_count": null,
      "metadata": {
        "id": "ThmpIJYljSTT"
      },
      "outputs": [],
      "source": [
        "install.packages(\"ACEP\")"
      ]
    },
    {
      "cell_type": "code",
      "source": [
        "require(httr)\n",
        "require(jsonlite)\n",
        "require(purrr)\n",
        "require(googledrive)"
      ],
      "metadata": {
        "id": "yvhkmoqEjvZO"
      },
      "execution_count": null,
      "outputs": []
    },
    {
      "cell_type": "code",
      "source": [
        "drive_download(file = as_id(\"1xkQb3k93nBP2kVCQgl6I1TkuK7NEUSzw\"), path = \"api_gpt.rds\")\n",
        "drive_download(file = as_id(\"10JcWvdV2aFm22vfWPWkHJQ_9hiB4sNuz\"), path = \"osal_arg_tot_230510.rds\")"
      ],
      "metadata": {
        "id": "cAaiuUXR3v8_"
      },
      "execution_count": null,
      "outputs": []
    },
    {
      "cell_type": "code",
      "source": [
        "# Datos\n",
        "osal_arg_tot <- readRDS(\"/content/osal_arg_tot_230510.rds\")[1:3,2:3]\n",
        "vectro_osal <- paste0(\"Fecha: \", osal_arg_tot$fecha, \". \", osal_arg_tot$texto)\n",
        "text_vector <- vectro_osal\n",
        "text_vector"
      ],
      "metadata": {
        "id": "i56AhZoNZim3",
        "outputId": "16161d94-c3d9-4986-8d0b-7176cbb3959e",
        "colab": {
          "base_uri": "https://localhost:8080/",
          "height": 173
        }
      },
      "execution_count": 11,
      "outputs": [
        {
          "output_type": "display_data",
          "data": {
            "text/html": [
              "<style>\n",
              ".list-inline {list-style: none; margin:0; padding: 0}\n",
              ".list-inline>li {display: inline-block}\n",
              ".list-inline>li:not(:last-child)::after {content: \"\\00b7\"; padding: 0 .5ex}\n",
              "</style>\n",
              "<ol class=list-inline><li>'Fecha: 2000-01-12. La CTA y la CGT realizaron sendas movilizaciones en la Provincia de Corrientes en contra de la reducción de la planta del personal y del pago de sueldos con bonos anunciada por el Interventor Federal actualmente a cargo del gobierno de la Provincia.'</li><li>'Fecha: 2000-01-24. Empleados municipales de la ciudad de Gral. Güemes, Salta, iniciaron el corte de la ruta nacional 34 en demanda de los sueldos atrasados desde hace 9 meses. Ex obreros del quebrado ingenio San Isidro se sumaron a la manifestación para reclamar el pago de indemnizaciones adeudadas.'</li><li><span style=white-space:pre-wrap>'Fecha: 2000-01-26. Trabajadores estatales y del sindicato de Luz y Fuerza realizaron una marcha en la ciudad de Córdoba en oposición a la ley ómnibus enviada por el Gobierno Provincial al Parlamento local. Dicha ley prevee entre otras cuestiones, la privatización de EPEC (Empresa Provincial de Energía Eléctrica) y del Banco de Córdoba y determina duros parámetros de disciplina fiscal.  El Sindicato de Peones de Taxi realizo una marcha a Plaza de Mayo para entregar un petitorio en el ministerio del Interior reclamando más seguridad. 59  La policía salteña reprimió a los trabajadores que cortaban la ruta nacional 34 en la provincia de Salta. 48 detenidos, entre ellos dirigentes gremiales y un periodista, y un número no definido de lesionados fue el resultado del operativo'</span></li></ol>\n"
            ],
            "text/markdown": "1. 'Fecha: 2000-01-12. La CTA y la CGT realizaron sendas movilizaciones en la Provincia de Corrientes en contra de la reducción de la planta del personal y del pago de sueldos con bonos anunciada por el Interventor Federal actualmente a cargo del gobierno de la Provincia.'\n2. 'Fecha: 2000-01-24. Empleados municipales de la ciudad de Gral. Güemes, Salta, iniciaron el corte de la ruta nacional 34 en demanda de los sueldos atrasados desde hace 9 meses. Ex obreros del quebrado ingenio San Isidro se sumaron a la manifestación para reclamar el pago de indemnizaciones adeudadas.'\n3. <span style=white-space:pre-wrap>'Fecha: 2000-01-26. Trabajadores estatales y del sindicato de Luz y Fuerza realizaron una marcha en la ciudad de Córdoba en oposición a la ley ómnibus enviada por el Gobierno Provincial al Parlamento local. Dicha ley prevee entre otras cuestiones, la privatización de EPEC (Empresa Provincial de Energía Eléctrica) y del Banco de Córdoba y determina duros parámetros de disciplina fiscal.  El Sindicato de Peones de Taxi realizo una marcha a Plaza de Mayo para entregar un petitorio en el ministerio del Interior reclamando más seguridad. 59  La policía salteña reprimió a los trabajadores que cortaban la ruta nacional 34 en la provincia de Salta. 48 detenidos, entre ellos dirigentes gremiales y un periodista, y un número no definido de lesionados fue el resultado del operativo'</span>\n\n\n",
            "text/latex": "\\begin{enumerate*}\n\\item 'Fecha: 2000-01-12. La CTA y la CGT realizaron sendas movilizaciones en la Provincia de Corrientes en contra de la reducción de la planta del personal y del pago de sueldos con bonos anunciada por el Interventor Federal actualmente a cargo del gobierno de la Provincia.'\n\\item 'Fecha: 2000-01-24. Empleados municipales de la ciudad de Gral. Güemes, Salta, iniciaron el corte de la ruta nacional 34 en demanda de los sueldos atrasados desde hace 9 meses. Ex obreros del quebrado ingenio San Isidro se sumaron a la manifestación para reclamar el pago de indemnizaciones adeudadas.'\n\\item 'Fecha: 2000-01-26. Trabajadores estatales y del sindicato de Luz y Fuerza realizaron una marcha en la ciudad de Córdoba en oposición a la ley ómnibus enviada por el Gobierno Provincial al Parlamento local. Dicha ley prevee entre otras cuestiones, la privatización de EPEC (Empresa Provincial de Energía Eléctrica) y del Banco de Córdoba y determina duros parámetros de disciplina fiscal.  El Sindicato de Peones de Taxi realizo una marcha a Plaza de Mayo para entregar un petitorio en el ministerio del Interior reclamando más seguridad. 59  La policía salteña reprimió a los trabajadores que cortaban la ruta nacional 34 en la provincia de Salta. 48 detenidos, entre ellos dirigentes gremiales y un periodista, y un número no definido de lesionados fue el resultado del operativo'\n\\end{enumerate*}\n",
            "text/plain": [
              "[1] \"Fecha: 2000-01-12. La CTA y la CGT realizaron sendas movilizaciones en la Provincia de Corrientes en contra de la reducción de la planta del personal y del pago de sueldos con bonos anunciada por el Interventor Federal actualmente a cargo del gobierno de la Provincia.\"                                                                                                                                                                                                                                                                                                                                                                                                                                                                                                                                \n",
              "[2] \"Fecha: 2000-01-24. Empleados municipales de la ciudad de Gral. Güemes, Salta, iniciaron el corte de la ruta nacional 34 en demanda de los sueldos atrasados desde hace 9 meses. Ex obreros del quebrado ingenio San Isidro se sumaron a la manifestación para reclamar el pago de indemnizaciones adeudadas.\"                                                                                                                                                                                                                                                                                                                                                                                                                                                                                                \n",
              "[3] \"Fecha: 2000-01-26. Trabajadores estatales y del sindicato de Luz y Fuerza realizaron una marcha en la ciudad de Córdoba en oposición a la ley ómnibus enviada por el Gobierno Provincial al Parlamento local. Dicha ley prevee entre otras cuestiones, la privatización de EPEC (Empresa Provincial de Energía Eléctrica) y del Banco de Córdoba y determina duros parámetros de disciplina fiscal.  El Sindicato de Peones de Taxi realizo una marcha a Plaza de Mayo para entregar un petitorio en el ministerio del Interior reclamando más seguridad. 59  La policía salteña reprimió a los trabajadores que cortaban la ruta nacional 34 en la provincia de Salta. 48 detenidos, entre ellos dirigentes gremiales y un periodista, y un número no definido de lesionados fue el resultado del operativo\""
            ]
          },
          "metadata": {}
        }
      ]
    },
    {
      "cell_type": "code",
      "source": [
        "# función ACEP\n",
        "acep_gpt_tripletes <- function(text_vector, gpt_api) {\n",
        "  triplets <- c()\n",
        "  vector <- paste(\"Su tarea es generar un JSON que incluya solo 4 claves:\",\n",
        "                  \"'fecha', 'sujeto', 'accion', 'objeto', 'lugar'.\\n\",\n",
        "                  \"La clave 'fecha' debe identificar el formato 'yyyy-mm-dd'\",\n",
        "                  \"de la fecha de la acción de protesta descripta en el resumen.\\n\",\n",
        "                  \"La clave 'sujeto' debe identificar en un máximo de 5 palabras\",\n",
        "                  \"quién realiza la acción de protesta descripta en el resumen.\\n\",\n",
        "                  \"La clave 'accion' debe identificar en un máximo de 3 palabras\",\n",
        "                  \"el formato de la acción de protesta descripta en el resumen.\\n\",\n",
        "                  \"La clave 'objeto' debe identificar en un máximo de 6 palabras\",\n",
        "                  \"contra quién o contra qué se realiza la acción de protesta\",\n",
        "                  \"descripta en el resumen.\\n\",\n",
        "                  \"La clave 'lugar' debe identificar en un máximo de 4 palabras\",\n",
        "                  \"la localización geográfica dónde se realiza la acción de protesta\",\n",
        "                  \"descripta en el resumen. Si el resumen no informa sobre el lugar de\",\n",
        "                  \"la protesta debe escribir 'sin datos'.\\n\",\n",
        "                  \"El resumen a analizar aparece a continuación\",\n",
        "                  \"delimitado por '```': \\n```\", text_vector, \"```\", sep = \" \")\n",
        "  for (i in vector) {\n",
        "    output <- httr::POST(\n",
        "      url = \"https://api.openai.com/v1/chat/completions\", \n",
        "      httr::add_headers(Authorization = base::paste(\"Bearer\", gpt_api)), \n",
        "      httr::content_type_json(),\n",
        "      encode = \"json\",\n",
        "      body = base::list(\n",
        "        model = \"gpt-3.5-turbo-0301\",\n",
        "        messages = base::list(\n",
        "          base::list(\n",
        "            role = \"user\",\n",
        "            content = i\n",
        "          )\n",
        "        )\n",
        "      )\n",
        "    )\n",
        "    \n",
        "    triplets <- append(triplets, httr::content(output)$choices[[1]]$message$content)\n",
        "  }\n",
        "  return(triplets)\n",
        "}"
      ],
      "metadata": {
        "id": "ubZxi3WJj2Se"
      },
      "execution_count": 12,
      "outputs": []
    },
    {
      "cell_type": "code",
      "source": [
        "json_eventos <- acep_gpt_tripletes(text_vector = text_vector, gpt_api = readRDS(\"/content/api_gpt.rds\"))\n",
        "cat(paste0(json_eventos, collapse = \"\\n\"))"
      ],
      "metadata": {
        "id": "uhOCAIp4kOAm",
        "outputId": "6f70f41e-b1a6-492c-a664-688588bf0557",
        "colab": {
          "base_uri": "https://localhost:8080/"
        }
      },
      "execution_count": 14,
      "outputs": [
        {
          "output_type": "stream",
          "name": "stdout",
          "text": [
            "{\n",
            " \"fecha\": \"2000-01-12\",\n",
            " \"sujeto\": \"La CTA y la CGT\",\n",
            " \"accion\": \"realizaron movilizaciones\",\n",
            " \"objeto\": \"reducción de la planta del personal y pago de sueldos con bonos\",\n",
            " \"lugar\": \"Provincia de Corrientes\"\n",
            "}\n",
            "{\n",
            "  \"fecha\": \"2000-01-24\",\n",
            "  \"sujeto\": \"Empleados municipales y ex obreros\",\n",
            "  \"accion\": \"Iniciaron corte\",\n",
            "  \"objeto\": \"Sueldos e indemnizaciones adeudadas\",\n",
            "  \"lugar\": \"Gral. Güemes, Salta\"\n",
            "}\n",
            "{\n",
            "  \"fecha\": \"2000-01-26\",\n",
            "  \"sujeto\": \"Trabajadores estatales y del sindicato de Luz y Fuerza\",\n",
            "  \"accion\": \"realizaron una marcha\",\n",
            "  \"objeto\": \"en oposición a la ley ómnibus enviada por el Gobierno Provincial al Parlamento local\",\n",
            "  \"lugar\": \"ciudad de Córdoba\"\n",
            "}"
          ]
        }
      ]
    },
    {
      "cell_type": "code",
      "source": [
        "(df <- purrr::map_df(json_eventos, ~jsonlite::fromJSON(.x), .id = \"id\"))"
      ],
      "metadata": {
        "id": "LGQR-BcoZYWf",
        "outputId": "c1828e52-54e4-43fc-b962-606783c50db1",
        "colab": {
          "base_uri": "https://localhost:8080/",
          "height": 244
        }
      },
      "execution_count": 15,
      "outputs": [
        {
          "output_type": "display_data",
          "data": {
            "text/html": [
              "<table class=\"dataframe\">\n",
              "<caption>A tibble: 3 × 6</caption>\n",
              "<thead>\n",
              "\t<tr><th scope=col>id</th><th scope=col>fecha</th><th scope=col>sujeto</th><th scope=col>accion</th><th scope=col>objeto</th><th scope=col>lugar</th></tr>\n",
              "\t<tr><th scope=col>&lt;chr&gt;</th><th scope=col>&lt;chr&gt;</th><th scope=col>&lt;chr&gt;</th><th scope=col>&lt;chr&gt;</th><th scope=col>&lt;chr&gt;</th><th scope=col>&lt;chr&gt;</th></tr>\n",
              "</thead>\n",
              "<tbody>\n",
              "\t<tr><td>1</td><td>2000-01-12</td><td>La CTA y la CGT                                       </td><td>realizaron movilizaciones</td><td>reducción de la planta del personal y pago de sueldos con bonos                     </td><td>Provincia de Corrientes</td></tr>\n",
              "\t<tr><td>2</td><td>2000-01-24</td><td>Empleados municipales y ex obreros                    </td><td>Iniciaron corte          </td><td>Sueldos e indemnizaciones adeudadas                                                 </td><td>Gral. Güemes, Salta    </td></tr>\n",
              "\t<tr><td>3</td><td>2000-01-26</td><td>Trabajadores estatales y del sindicato de Luz y Fuerza</td><td>realizaron una marcha    </td><td>en oposición a la ley ómnibus enviada por el Gobierno Provincial al Parlamento local</td><td>ciudad de Córdoba      </td></tr>\n",
              "</tbody>\n",
              "</table>\n"
            ],
            "text/markdown": "\nA tibble: 3 × 6\n\n| id &lt;chr&gt; | fecha &lt;chr&gt; | sujeto &lt;chr&gt; | accion &lt;chr&gt; | objeto &lt;chr&gt; | lugar &lt;chr&gt; |\n|---|---|---|---|---|---|\n| 1 | 2000-01-12 | La CTA y la CGT                                        | realizaron movilizaciones | reducción de la planta del personal y pago de sueldos con bonos                      | Provincia de Corrientes |\n| 2 | 2000-01-24 | Empleados municipales y ex obreros                     | Iniciaron corte           | Sueldos e indemnizaciones adeudadas                                                  | Gral. Güemes, Salta     |\n| 3 | 2000-01-26 | Trabajadores estatales y del sindicato de Luz y Fuerza | realizaron una marcha     | en oposición a la ley ómnibus enviada por el Gobierno Provincial al Parlamento local | ciudad de Córdoba       |\n\n",
            "text/latex": "A tibble: 3 × 6\n\\begin{tabular}{llllll}\n id & fecha & sujeto & accion & objeto & lugar\\\\\n <chr> & <chr> & <chr> & <chr> & <chr> & <chr>\\\\\n\\hline\n\t 1 & 2000-01-12 & La CTA y la CGT                                        & realizaron movilizaciones & reducción de la planta del personal y pago de sueldos con bonos                      & Provincia de Corrientes\\\\\n\t 2 & 2000-01-24 & Empleados municipales y ex obreros                     & Iniciaron corte           & Sueldos e indemnizaciones adeudadas                                                  & Gral. Güemes, Salta    \\\\\n\t 3 & 2000-01-26 & Trabajadores estatales y del sindicato de Luz y Fuerza & realizaron una marcha     & en oposición a la ley ómnibus enviada por el Gobierno Provincial al Parlamento local & ciudad de Córdoba      \\\\\n\\end{tabular}\n",
            "text/plain": [
              "  id fecha      sujeto                                                \n",
              "1 1  2000-01-12 La CTA y la CGT                                       \n",
              "2 2  2000-01-24 Empleados municipales y ex obreros                    \n",
              "3 3  2000-01-26 Trabajadores estatales y del sindicato de Luz y Fuerza\n",
              "  accion                   \n",
              "1 realizaron movilizaciones\n",
              "2 Iniciaron corte          \n",
              "3 realizaron una marcha    \n",
              "  objeto                                                                              \n",
              "1 reducción de la planta del personal y pago de sueldos con bonos                     \n",
              "2 Sueldos e indemnizaciones adeudadas                                                 \n",
              "3 en oposición a la ley ómnibus enviada por el Gobierno Provincial al Parlamento local\n",
              "  lugar                  \n",
              "1 Provincia de Corrientes\n",
              "2 Gral. Güemes, Salta    \n",
              "3 ciudad de Córdoba      "
            ]
          },
          "metadata": {}
        }
      ]
    }
  ]
}