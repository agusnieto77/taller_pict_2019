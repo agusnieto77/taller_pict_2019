{
  "nbformat": 4,
  "nbformat_minor": 0,
  "metadata": {
    "colab": {
      "provenance": [],
      "authorship_tag": "ABX9TyNkdYYsu56AHQyxFy81UJy4",
      "include_colab_link": true
    },
    "kernelspec": {
      "name": "ir",
      "display_name": "R"
    },
    "language_info": {
      "name": "R"
    }
  },
  "cells": [
    {
      "cell_type": "markdown",
      "metadata": {
        "id": "view-in-github",
        "colab_type": "text"
      },
      "source": [
        "<a href=\"https://colab.research.google.com/github/agusnieto77/taller_pict_2019/blob/main/Colabs/ACEP_funciones_desarrollo_I.ipynb\" target=\"_parent\"><img src=\"https://colab.research.google.com/assets/colab-badge.svg\" alt=\"Open In Colab\"/></a>"
      ]
    },
    {
      "cell_type": "markdown",
      "source": [
        "# Ejercicio 3"
      ],
      "metadata": {
        "id": "mxHA5aNWT3pn"
      }
    },
    {
      "cell_type": "code",
      "execution_count": null,
      "metadata": {
        "id": "ThmpIJYljSTT",
        "outputId": "75dc7ab3-3b09-400e-d258-341e7cb5e75a",
        "colab": {
          "base_uri": "https://localhost:8080/"
        }
      },
      "outputs": [
        {
          "metadata": {
            "tags": null
          },
          "name": "stderr",
          "output_type": "stream",
          "text": [
            "Installing package into ‘/usr/local/lib/R/site-library’\n",
            "(as ‘lib’ is unspecified)\n",
            "\n",
            "also installing the dependencies ‘Rcpp’, ‘httpuv’, ‘xtable’, ‘sourcetools’, ‘later’, ‘promises’, ‘textshaping’, ‘shiny’, ‘downlit’, ‘ragg’, ‘htmlwidgets’, ‘miniUI’, ‘pkgdown’, ‘profvis’, ‘urlchecker’\n",
            "\n",
            "\n",
            "Warning message in install.packages(\"devtools\"):\n",
            "“installation of package ‘textshaping’ had non-zero exit status”\n",
            "Warning message in install.packages(\"devtools\"):\n",
            "“installation of package ‘later’ had non-zero exit status”\n",
            "Warning message in install.packages(\"devtools\"):\n",
            "“installation of package ‘ragg’ had non-zero exit status”\n",
            "Warning message in install.packages(\"devtools\"):\n",
            "“installation of package ‘promises’ had non-zero exit status”\n",
            "Warning message in install.packages(\"devtools\"):\n",
            "“installation of package ‘pkgdown’ had non-zero exit status”\n",
            "Warning message in install.packages(\"devtools\"):\n",
            "“installation of package ‘httpuv’ had non-zero exit status”\n",
            "Warning message in install.packages(\"devtools\"):\n",
            "“installation of package ‘shiny’ had non-zero exit status”\n",
            "Warning message in install.packages(\"devtools\"):\n",
            "“installation of package ‘miniUI’ had non-zero exit status”\n",
            "Warning message in install.packages(\"devtools\"):\n",
            "“installation of package ‘devtools’ had non-zero exit status”\n",
            "Downloading GitHub repo agusnieto77/ACEP@HEAD\n",
            "\n"
          ]
        },
        {
          "metadata": {
            "tags": null
          },
          "name": "stdout",
          "output_type": "stream",
          "text": [
            "vctrs        (0.6.1  -> 0.6.2 ) [CRAN]\n",
            "rlang        (1.1.0  -> 1.1.1 ) [CRAN]\n",
            "jsonlite     (1.8.3  -> 1.8.4 ) [CRAN]\n",
            "png          (NA     -> 0.1-8 ) [CRAN]\n",
            "here         (NA     -> 1.0.1 ) [CRAN]\n",
            "RcppTOML     (NA     -> 0.2.2 ) [CRAN]\n",
            "httr         (1.4.5  -> 1.4.6 ) [CRAN]\n",
            "dplyr        (1.1.1  -> 1.1.2 ) [CRAN]\n",
            "reticulate   (NA     -> 1.28  ) [CRAN]\n",
            "stringr      (1.4.1  -> 1.5.0 ) [CRAN]\n",
            "tokenbrowser (NA     -> 0.1.5 ) [CRAN]\n",
            "digest       (0.6.30 -> 0.6.31) [CRAN]\n",
            "igraph       (NA     -> 1.4.2 ) [CRAN]\n",
            "tidygeocoder (NA     -> 1.0.5 ) [CRAN]\n",
            "udpipe       (NA     -> 0.8.11) [CRAN]\n",
            "spacyr       (NA     -> 1.2.1 ) [CRAN]\n",
            "rsyntax      (NA     -> 0.1.4 ) [CRAN]\n"
          ]
        },
        {
          "metadata": {
            "tags": null
          },
          "name": "stderr",
          "output_type": "stream",
          "text": [
            "Installing 17 packages: vctrs, rlang, jsonlite, png, here, RcppTOML, httr, dplyr, reticulate, stringr, tokenbrowser, digest, igraph, tidygeocoder, udpipe, spacyr, rsyntax\n",
            "\n",
            "Installing packages into ‘/usr/local/lib/R/site-library’\n",
            "(as ‘lib’ is unspecified)\n",
            "\n",
            "Warning message in i.p(...):\n",
            "“installation of package ‘RcppTOML’ had non-zero exit status”\n",
            "Warning message in i.p(...):\n",
            "“installation of package ‘digest’ had non-zero exit status”\n"
          ]
        }
      ],
      "source": [
        "devtools::install_github(\"agusnieto77/ACEP\")"
      ]
    },
    {
      "cell_type": "code",
      "source": [
        "require(ACEP)"
      ],
      "metadata": {
        "id": "yvhkmoqEjvZO"
      },
      "execution_count": null,
      "outputs": []
    },
    {
      "cell_type": "code",
      "source": [
        "dic_conf <- acep_load_base(acep_diccionarios$dicc_confl_sismos)\n",
        "print(dic_conf)"
      ],
      "metadata": {
        "id": "VQ6sBePJVNCX"
      },
      "execution_count": null,
      "outputs": []
    },
    {
      "cell_type": "code",
      "source": [
        "texto <-     \"\n",
        "    La UTA inició un paro de colectivos por tiempo indeterminado\n",
        "    El gremio que nuclea a los choferes lo resolvió por un atraso salarial. \n",
        "    La medida de fuerza comenzó a partir de las 18.\n",
        "    Por un atraso salarial, la Unión Tranviarios Automotor (UTA) inició un paro \n",
        "    por tiempo indeterminado a partir de las 18 de este lunes, según \n",
        "    confirmaron fuentes del gremio que nuclea a los choferes.\n",
        "    \""
      ],
      "metadata": {
        "id": "i56AhZoNZim3"
      },
      "execution_count": null,
      "outputs": []
    },
    {
      "cell_type": "code",
      "source": [
        "texto_limpio <- acep_clean(texto)\n",
        "texto_limpio"
      ],
      "metadata": {
        "id": "ubZxi3WJj2Se"
      },
      "execution_count": null,
      "outputs": []
    },
    {
      "cell_type": "code",
      "source": [
        "acep_men(texto_limpio, dic_conf)"
      ],
      "metadata": {
        "id": "uhOCAIp4kOAm"
      },
      "execution_count": null,
      "outputs": []
    },
    {
      "cell_type": "code",
      "source": [
        "acep_men(texto, dic_conf)"
      ],
      "metadata": {
        "id": "LGQR-BcoZYWf"
      },
      "execution_count": null,
      "outputs": []
    }
  ]
}