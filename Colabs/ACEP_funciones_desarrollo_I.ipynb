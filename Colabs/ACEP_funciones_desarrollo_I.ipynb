{
  "nbformat": 4,
  "nbformat_minor": 0,
  "metadata": {
    "colab": {
      "provenance": [],
      "authorship_tag": "ABX9TyN3vTW/sy/wrWdtdzGlRXLy",
      "include_colab_link": true
    },
    "kernelspec": {
      "name": "ir",
      "display_name": "R"
    },
    "language_info": {
      "name": "R"
    }
  },
  "cells": [
    {
      "cell_type": "markdown",
      "metadata": {
        "id": "view-in-github",
        "colab_type": "text"
      },
      "source": [
        "<a href=\"https://colab.research.google.com/github/agusnieto77/taller_pict_2019/blob/main/Colabs/ACEP_funciones_desarrollo_I.ipynb\" target=\"_parent\"><img src=\"https://colab.research.google.com/assets/colab-badge.svg\" alt=\"Open In Colab\"/></a>"
      ]
    },
    {
      "cell_type": "markdown",
      "source": [
        "# Ejercicio 3"
      ],
      "metadata": {
        "id": "mxHA5aNWT3pn"
      }
    },
    {
      "cell_type": "code",
      "source": [
        "devtools::install_github(\"agusnieto77/ACEP\")"
      ],
      "metadata": {
        "id": "ofBoKSw3HNcE"
      },
      "execution_count": null,
      "outputs": []
    },
    {
      "cell_type": "code",
      "source": [
        "require(ACEP)"
      ],
      "metadata": {
        "id": "yvhkmoqEjvZO"
      },
      "execution_count": null,
      "outputs": []
    },
    {
      "cell_type": "code",
      "source": [
        "acep_context(\"La UTA inició un paro de colectivos por tiempo indeterminado\", \"paro\")"
      ],
      "metadata": {
        "id": "VQ6sBePJVNCX",
        "outputId": "0c853a24-b1ba-4571-c9a7-6ffdbb5637f5",
        "colab": {
          "base_uri": "https://localhost:8080/",
          "height": 129
        }
      },
      "execution_count": 8,
      "outputs": [
        {
          "output_type": "display_data",
          "data": {
            "text/html": [
              "<table class=\"dataframe\">\n",
              "<caption>A data.frame: 1 × 2</caption>\n",
              "<thead>\n",
              "\t<tr><th scope=col>doc_id</th><th scope=col>contexto</th></tr>\n",
              "\t<tr><th scope=col>&lt;int&gt;</th><th scope=col>&lt;chr&gt;</th></tr>\n",
              "</thead>\n",
              "<tbody>\n",
              "\t<tr><td>1</td><td>un | paro | de</td></tr>\n",
              "</tbody>\n",
              "</table>\n"
            ],
            "text/markdown": "\nA data.frame: 1 × 2\n\n| doc_id &lt;int&gt; | contexto &lt;chr&gt; |\n|---|---|\n| 1 | un | paro | de |\n\n",
            "text/latex": "A data.frame: 1 × 2\n\\begin{tabular}{ll}\n doc\\_id & contexto\\\\\n <int> & <chr>\\\\\n\\hline\n\t 1 & un \\textbar{} paro \\textbar{} de\\\\\n\\end{tabular}\n",
            "text/plain": [
              "  doc_id contexto      \n",
              "1 1      un | paro | de"
            ]
          },
          "metadata": {}
        }
      ]
    },
    {
      "cell_type": "code",
      "source": [
        "acep_context(acep_clean(\"La UTA inició un paro de colectivos por tiempo indeterminado\"), \"paro\")"
      ],
      "metadata": {
        "id": "ywJB5qRLKNyq",
        "outputId": "d91f4be9-838f-4ef1-eef0-21f41e323b99",
        "colab": {
          "base_uri": "https://localhost:8080/",
          "height": 129
        }
      },
      "execution_count": 9,
      "outputs": [
        {
          "output_type": "display_data",
          "data": {
            "text/html": [
              "<table class=\"dataframe\">\n",
              "<caption>A data.frame: 1 × 2</caption>\n",
              "<thead>\n",
              "\t<tr><th scope=col>doc_id</th><th scope=col>contexto</th></tr>\n",
              "\t<tr><th scope=col>&lt;int&gt;</th><th scope=col>&lt;chr&gt;</th></tr>\n",
              "</thead>\n",
              "<tbody>\n",
              "\t<tr><td>1</td><td>inicio | paro | colectivos</td></tr>\n",
              "</tbody>\n",
              "</table>\n"
            ],
            "text/markdown": "\nA data.frame: 1 × 2\n\n| doc_id &lt;int&gt; | contexto &lt;chr&gt; |\n|---|---|\n| 1 | inicio | paro | colectivos |\n\n",
            "text/latex": "A data.frame: 1 × 2\n\\begin{tabular}{ll}\n doc\\_id & contexto\\\\\n <int> & <chr>\\\\\n\\hline\n\t 1 & inicio \\textbar{} paro \\textbar{} colectivos\\\\\n\\end{tabular}\n",
            "text/plain": [
              "  doc_id contexto                  \n",
              "1 1      inicio | paro | colectivos"
            ]
          },
          "metadata": {}
        }
      ]
    },
    {
      "cell_type": "code",
      "source": [
        "acep_context(acep_clean(\"La UTA inició un paro de colectivos por tiempo indeterminado\"), \"paro\", izq = 2, der = 2)"
      ],
      "metadata": {
        "id": "txqRQSihKchq",
        "outputId": "fe8bebce-649b-4a1a-eba9-371df87b7485",
        "colab": {
          "base_uri": "https://localhost:8080/",
          "height": 129
        }
      },
      "execution_count": 10,
      "outputs": [
        {
          "output_type": "display_data",
          "data": {
            "text/html": [
              "<table class=\"dataframe\">\n",
              "<caption>A data.frame: 1 × 2</caption>\n",
              "<thead>\n",
              "\t<tr><th scope=col>doc_id</th><th scope=col>contexto</th></tr>\n",
              "\t<tr><th scope=col>&lt;int&gt;</th><th scope=col>&lt;chr&gt;</th></tr>\n",
              "</thead>\n",
              "<tbody>\n",
              "\t<tr><td>1</td><td>uta inicio | paro | colectivos tiempo</td></tr>\n",
              "</tbody>\n",
              "</table>\n"
            ],
            "text/markdown": "\nA data.frame: 1 × 2\n\n| doc_id &lt;int&gt; | contexto &lt;chr&gt; |\n|---|---|\n| 1 | uta inicio | paro | colectivos tiempo |\n\n",
            "text/latex": "A data.frame: 1 × 2\n\\begin{tabular}{ll}\n doc\\_id & contexto\\\\\n <int> & <chr>\\\\\n\\hline\n\t 1 & uta inicio \\textbar{} paro \\textbar{} colectivos tiempo\\\\\n\\end{tabular}\n",
            "text/plain": [
              "  doc_id contexto                             \n",
              "1 1      uta inicio | paro | colectivos tiempo"
            ]
          },
          "metadata": {}
        }
      ]
    },
    {
      "cell_type": "code",
      "source": [
        "acep_context(acep_clean(\"La UTA inició un paro de colectivos por tiempo indeterminado\"), \"paro\", izq = 2, der = 3)"
      ],
      "metadata": {
        "id": "7SeJbSyRKogj",
        "outputId": "d86481a5-b2f8-4657-d842-8eb1b05d2cfd",
        "colab": {
          "base_uri": "https://localhost:8080/",
          "height": 129
        }
      },
      "execution_count": 11,
      "outputs": [
        {
          "output_type": "display_data",
          "data": {
            "text/html": [
              "<table class=\"dataframe\">\n",
              "<caption>A data.frame: 1 × 2</caption>\n",
              "<thead>\n",
              "\t<tr><th scope=col>doc_id</th><th scope=col>contexto</th></tr>\n",
              "\t<tr><th scope=col>&lt;int&gt;</th><th scope=col>&lt;chr&gt;</th></tr>\n",
              "</thead>\n",
              "<tbody>\n",
              "\t<tr><td>1</td><td>uta inicio | paro | colectivos tiempo indeterminado</td></tr>\n",
              "</tbody>\n",
              "</table>\n"
            ],
            "text/markdown": "\nA data.frame: 1 × 2\n\n| doc_id &lt;int&gt; | contexto &lt;chr&gt; |\n|---|---|\n| 1 | uta inicio | paro | colectivos tiempo indeterminado |\n\n",
            "text/latex": "A data.frame: 1 × 2\n\\begin{tabular}{ll}\n doc\\_id & contexto\\\\\n <int> & <chr>\\\\\n\\hline\n\t 1 & uta inicio \\textbar{} paro \\textbar{} colectivos tiempo indeterminado\\\\\n\\end{tabular}\n",
            "text/plain": [
              "  doc_id contexto                                           \n",
              "1 1      uta inicio | paro | colectivos tiempo indeterminado"
            ]
          },
          "metadata": {}
        }
      ]
    },
    {
      "cell_type": "code",
      "source": [
        "acep_context(acep_clean(\"La UTA inició un paro de colectivos por tiempo indeterminado\"), \"inicio paro colectivos\", izq = 1, der = 3)"
      ],
      "metadata": {
        "id": "X111dMtuK2hD",
        "outputId": "8329a832-16b6-4678-c87f-9512f29336a2",
        "colab": {
          "base_uri": "https://localhost:8080/",
          "height": 129
        }
      },
      "execution_count": 13,
      "outputs": [
        {
          "output_type": "display_data",
          "data": {
            "text/html": [
              "<table class=\"dataframe\">\n",
              "<caption>A data.frame: 1 × 2</caption>\n",
              "<thead>\n",
              "\t<tr><th scope=col>doc_id</th><th scope=col>contexto</th></tr>\n",
              "\t<tr><th scope=col>&lt;int&gt;</th><th scope=col>&lt;chr&gt;</th></tr>\n",
              "</thead>\n",
              "<tbody>\n",
              "\t<tr><td>1</td><td>uta | inicio paro colectivos | tiempo indeterminado</td></tr>\n",
              "</tbody>\n",
              "</table>\n"
            ],
            "text/markdown": "\nA data.frame: 1 × 2\n\n| doc_id &lt;int&gt; | contexto &lt;chr&gt; |\n|---|---|\n| 1 | uta | inicio paro colectivos | tiempo indeterminado |\n\n",
            "text/latex": "A data.frame: 1 × 2\n\\begin{tabular}{ll}\n doc\\_id & contexto\\\\\n <int> & <chr>\\\\\n\\hline\n\t 1 & uta \\textbar{} inicio paro colectivos \\textbar{} tiempo indeterminado\\\\\n\\end{tabular}\n",
            "text/plain": [
              "  doc_id contexto                                           \n",
              "1 1      uta | inicio paro colectivos | tiempo indeterminado"
            ]
          },
          "metadata": {}
        }
      ]
    },
    {
      "cell_type": "code",
      "source": [
        "texto <-     \n",
        "  c(\"La UTA inició un paro de colectivos por tiempo indeterminado.\", \n",
        "    \"El gremio que nuclea a los choferes lo resolvió por un atraso salarial.\",\n",
        "    \"La medida de fuerza comenzó a partir de las 18.\",\n",
        "    \"Por un atraso salarial, la Unión Tranviarios Automotor (UTA) inició \n",
        "    un paro por tiempo indeterminado a partir de las 18 de este lunes, \n",
        "    según confirmaron fuentes del gremio que nuclea a los choferes.\")"
      ],
      "metadata": {
        "id": "i56AhZoNZim3"
      },
      "execution_count": 18,
      "outputs": []
    },
    {
      "cell_type": "code",
      "source": [
        "acep_context(acep_clean(texto), \"paro\", izq = 2, der = 2)"
      ],
      "metadata": {
        "id": "ubZxi3WJj2Se",
        "outputId": "9cf76e30-3bb1-49fe-be17-ece4c9bade6b",
        "colab": {
          "base_uri": "https://localhost:8080/",
          "height": 161
        }
      },
      "execution_count": 20,
      "outputs": [
        {
          "output_type": "display_data",
          "data": {
            "text/html": [
              "<table class=\"dataframe\">\n",
              "<caption>A data.frame: 2 × 2</caption>\n",
              "<thead>\n",
              "\t<tr><th scope=col>doc_id</th><th scope=col>contexto</th></tr>\n",
              "\t<tr><th scope=col>&lt;int&gt;</th><th scope=col>&lt;chr&gt;</th></tr>\n",
              "</thead>\n",
              "<tbody>\n",
              "\t<tr><td>1</td><td>uta inicio | paro | colectivos tiempo   </td></tr>\n",
              "\t<tr><td>4</td><td>uta inicio | paro | tiempo indeterminado</td></tr>\n",
              "</tbody>\n",
              "</table>\n"
            ],
            "text/markdown": "\nA data.frame: 2 × 2\n\n| doc_id &lt;int&gt; | contexto &lt;chr&gt; |\n|---|---|\n| 1 | uta inicio | paro | colectivos tiempo    |\n| 4 | uta inicio | paro | tiempo indeterminado |\n\n",
            "text/latex": "A data.frame: 2 × 2\n\\begin{tabular}{ll}\n doc\\_id & contexto\\\\\n <int> & <chr>\\\\\n\\hline\n\t 1 & uta inicio \\textbar{} paro \\textbar{} colectivos tiempo   \\\\\n\t 4 & uta inicio \\textbar{} paro \\textbar{} tiempo indeterminado\\\\\n\\end{tabular}\n",
            "text/plain": [
              "  doc_id contexto                                \n",
              "1 1      uta inicio | paro | colectivos tiempo   \n",
              "2 4      uta inicio | paro | tiempo indeterminado"
            ]
          },
          "metadata": {}
        }
      ]
    },
    {
      "cell_type": "code",
      "source": [
        "acep_context(acep_clean(texto), c(\"paro\", \"medida fuerza\"), izq = 2, der = 2)"
      ],
      "metadata": {
        "id": "3fiIQ38tLiRT"
      },
      "execution_count": null,
      "outputs": []
    },
    {
      "cell_type": "code",
      "source": [
        "texto2 <-     \n",
        "  c(\"La UTA inició un paro por tiempo indeterminado. \n",
        "    El paro de la UTA no tiene relación con el paro de Moyano.\", \n",
        "    \"El gremio que nuclea a los choferes resolvió el paro por un atraso salarial.\",\n",
        "    \"La medida de fuerza comenzó a partir de las 18.\",\n",
        "    \"Por un atraso salarial, la Unión Tranviarios Automotor (UTA) inició \n",
        "    un paro por tiempo indeterminado a partir de las 18 de este lunes, \n",
        "    según confirmaron fuentes del gremio que nuclea a los choferes.\")"
      ],
      "metadata": {
        "id": "5FqKvz47MlpY"
      },
      "execution_count": 23,
      "outputs": []
    },
    {
      "cell_type": "code",
      "source": [
        "acep_context(acep_clean(texto2), c(\"paro\", \"medida fuerza\"), izq = 4, der = 4)"
      ],
      "metadata": {
        "id": "8KVwGuZvNAqs",
        "outputId": "aa1dcbe2-4fd9-4a47-b98c-72dde44c99ec",
        "colab": {
          "base_uri": "https://localhost:8080/",
          "height": 255
        }
      },
      "execution_count": 25,
      "outputs": [
        {
          "output_type": "display_data",
          "data": {
            "text/html": [
              "<table class=\"dataframe\">\n",
              "<caption>A data.frame: 5 × 2</caption>\n",
              "<thead>\n",
              "\t<tr><th scope=col>doc_id</th><th scope=col>contexto</th></tr>\n",
              "\t<tr><th scope=col>&lt;int&gt;</th><th scope=col>&lt;chr&gt;</th></tr>\n",
              "</thead>\n",
              "<tbody>\n",
              "\t<tr><td>1</td><td>uta inicio | paro | tiempo indeterminado | paro | uta                      </td></tr>\n",
              "\t<tr><td>1</td><td> relacion | paro | moyano                                                  </td></tr>\n",
              "\t<tr><td>2</td><td>gremio nuclea choferes resolvio | paro | atraso salarial                   </td></tr>\n",
              "\t<tr><td>4</td><td>tranviarios automotor uta inicio | paro | tiempo indeterminado partir segun</td></tr>\n",
              "\t<tr><td>3</td><td>| medida fuerza comenzo partir | comenzo partir                            </td></tr>\n",
              "</tbody>\n",
              "</table>\n"
            ],
            "text/markdown": "\nA data.frame: 5 × 2\n\n| doc_id &lt;int&gt; | contexto &lt;chr&gt; |\n|---|---|\n| 1 | uta inicio | paro | tiempo indeterminado | paro | uta                       |\n| 1 |  relacion | paro | moyano                                                   |\n| 2 | gremio nuclea choferes resolvio | paro | atraso salarial                    |\n| 4 | tranviarios automotor uta inicio | paro | tiempo indeterminado partir segun |\n| 3 | | medida fuerza comenzo partir | comenzo partir                             |\n\n",
            "text/latex": "A data.frame: 5 × 2\n\\begin{tabular}{ll}\n doc\\_id & contexto\\\\\n <int> & <chr>\\\\\n\\hline\n\t 1 & uta inicio \\textbar{} paro \\textbar{} tiempo indeterminado \\textbar{} paro \\textbar{} uta                      \\\\\n\t 1 &  relacion \\textbar{} paro \\textbar{} moyano                                                  \\\\\n\t 2 & gremio nuclea choferes resolvio \\textbar{} paro \\textbar{} atraso salarial                   \\\\\n\t 4 & tranviarios automotor uta inicio \\textbar{} paro \\textbar{} tiempo indeterminado partir segun\\\\\n\t 3 & \\textbar{} medida fuerza comenzo partir \\textbar{} comenzo partir                            \\\\\n\\end{tabular}\n",
            "text/plain": [
              "  doc_id\n",
              "1 1     \n",
              "2 1     \n",
              "3 2     \n",
              "4 4     \n",
              "5 3     \n",
              "  contexto                                                                   \n",
              "1 uta inicio | paro | tiempo indeterminado | paro | uta                      \n",
              "2  relacion | paro | moyano                                                  \n",
              "3 gremio nuclea choferes resolvio | paro | atraso salarial                   \n",
              "4 tranviarios automotor uta inicio | paro | tiempo indeterminado partir segun\n",
              "5 | medida fuerza comenzo partir | comenzo partir                            "
            ]
          },
          "metadata": {}
        }
      ]
    }
  ]
}