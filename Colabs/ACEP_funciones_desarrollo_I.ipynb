{
  "nbformat": 4,
  "nbformat_minor": 0,
  "metadata": {
    "colab": {
      "provenance": [],
      "authorship_tag": "ABX9TyPguLy7XtNRBnZqTRPopVw3",
      "include_colab_link": true
    },
    "kernelspec": {
      "name": "ir",
      "display_name": "R"
    },
    "language_info": {
      "name": "R"
    }
  },
  "cells": [
    {
      "cell_type": "markdown",
      "metadata": {
        "id": "view-in-github",
        "colab_type": "text"
      },
      "source": [
        "<a href=\"https://colab.research.google.com/github/agusnieto77/taller_pict_2019/blob/main/Colabs/ACEP_funciones_desarrollo_I.ipynb\" target=\"_parent\"><img src=\"https://colab.research.google.com/assets/colab-badge.svg\" alt=\"Open In Colab\"/></a>"
      ]
    },
    {
      "cell_type": "markdown",
      "source": [
        "# Ejercicio 3"
      ],
      "metadata": {
        "id": "mxHA5aNWT3pn"
      }
    },
    {
      "cell_type": "code",
      "source": [
        "devtools::install_github(\"agusnieto77/ACEP\")"
      ],
      "metadata": {
        "id": "ofBoKSw3HNcE"
      },
      "execution_count": null,
      "outputs": []
    },
    {
      "cell_type": "code",
      "source": [
        "require(ACEP)"
      ],
      "metadata": {
        "id": "yvhkmoqEjvZO"
      },
      "execution_count": null,
      "outputs": []
    },
    {
      "cell_type": "code",
      "source": [
        "acep_context(\"La UTA inició un paro de colectivos por tiempo indeterminado\", \"paro\")"
      ],
      "metadata": {
        "id": "VQ6sBePJVNCX"
      },
      "execution_count": null,
      "outputs": []
    },
    {
      "cell_type": "code",
      "source": [
        "acep_context(acep_clean(\"La UTA inició un paro de colectivos por tiempo indeterminado\"), \"paro\")"
      ],
      "metadata": {
        "id": "ywJB5qRLKNyq"
      },
      "execution_count": null,
      "outputs": []
    },
    {
      "cell_type": "code",
      "source": [
        "acep_context(acep_clean(\"La UTA inició un paro de colectivos por tiempo indeterminado\"), \"paro\", izq = 2, der = 2)"
      ],
      "metadata": {
        "id": "txqRQSihKchq"
      },
      "execution_count": null,
      "outputs": []
    },
    {
      "cell_type": "code",
      "source": [
        "acep_context(acep_clean(\"La UTA inició un paro de colectivos por tiempo indeterminado\"), \"paro\", izq = 2, der = 3)"
      ],
      "metadata": {
        "id": "7SeJbSyRKogj"
      },
      "execution_count": null,
      "outputs": []
    },
    {
      "cell_type": "code",
      "source": [
        "acep_context(acep_clean(\"La UTA inició un paro de colectivos por tiempo indeterminado\"), \"inicio paro colectivos\", izq = 1, der = 3)"
      ],
      "metadata": {
        "id": "X111dMtuK2hD"
      },
      "execution_count": null,
      "outputs": []
    },
    {
      "cell_type": "code",
      "source": [
        "texto <-     \n",
        "  c(\"La UTA inició un paro de colectivos por tiempo indeterminado.\", \n",
        "    \"El gremio que nuclea a los choferes lo resolvió por un atraso salarial.\",\n",
        "    \"La medida de fuerza comenzó a partir de las 18.\",\n",
        "    \"Por un atraso salarial, la Unión Tranviarios Automotor (UTA) inició \n",
        "    un paro por tiempo indeterminado a partir de las 18 de este lunes, \n",
        "    según confirmaron fuentes del gremio que nuclea a los choferes.\")"
      ],
      "metadata": {
        "id": "i56AhZoNZim3"
      },
      "execution_count": 9,
      "outputs": []
    },
    {
      "cell_type": "code",
      "source": [
        "acep_context(acep_clean(texto), \"paro\", izq = 2, der = 2)"
      ],
      "metadata": {
        "id": "ubZxi3WJj2Se"
      },
      "execution_count": null,
      "outputs": []
    },
    {
      "cell_type": "code",
      "source": [
        "acep_context(acep_clean(texto), c(\"paro\", \"medida fuerza\"), izq = 2, der = 2)"
      ],
      "metadata": {
        "colab": {
          "base_uri": "https://localhost:8080/",
          "height": 192
        },
        "id": "3fiIQ38tLiRT",
        "outputId": "a45dcf44-bd1f-4fdf-9b26-73b54a2bcd88"
      },
      "execution_count": 11,
      "outputs": [
        {
          "output_type": "display_data",
          "data": {
            "text/html": [
              "<table class=\"dataframe\">\n",
              "<caption>A data.frame: 3 × 2</caption>\n",
              "<thead>\n",
              "\t<tr><th scope=col>doc_id</th><th scope=col>contexto</th></tr>\n",
              "\t<tr><th scope=col>&lt;int&gt;</th><th scope=col>&lt;chr&gt;</th></tr>\n",
              "</thead>\n",
              "<tbody>\n",
              "\t<tr><td>1</td><td>uta inicio | paro | colectivos tiempo          </td></tr>\n",
              "\t<tr><td>4</td><td>uta inicio | paro | tiempo indeterminado       </td></tr>\n",
              "\t<tr><td>3</td><td>| medida fuerza comenzo partir | comenzo partir</td></tr>\n",
              "</tbody>\n",
              "</table>\n"
            ],
            "text/markdown": "\nA data.frame: 3 × 2\n\n| doc_id &lt;int&gt; | contexto &lt;chr&gt; |\n|---|---|\n| 1 | uta inicio | paro | colectivos tiempo           |\n| 4 | uta inicio | paro | tiempo indeterminado        |\n| 3 | | medida fuerza comenzo partir | comenzo partir |\n\n",
            "text/latex": "A data.frame: 3 × 2\n\\begin{tabular}{ll}\n doc\\_id & contexto\\\\\n <int> & <chr>\\\\\n\\hline\n\t 1 & uta inicio \\textbar{} paro \\textbar{} colectivos tiempo          \\\\\n\t 4 & uta inicio \\textbar{} paro \\textbar{} tiempo indeterminado       \\\\\n\t 3 & \\textbar{} medida fuerza comenzo partir \\textbar{} comenzo partir\\\\\n\\end{tabular}\n",
            "text/plain": [
              "  doc_id contexto                                       \n",
              "1 1      uta inicio | paro | colectivos tiempo          \n",
              "2 4      uta inicio | paro | tiempo indeterminado       \n",
              "3 3      | medida fuerza comenzo partir | comenzo partir"
            ]
          },
          "metadata": {}
        }
      ]
    },
    {
      "cell_type": "code",
      "source": [
        "texto2 <-     \n",
        "  c(\"La UTA inició un paro por tiempo indeterminado. \n",
        "    El paro de la UTA no tiene relación con el paro de Moyano.\", \n",
        "    \"El gremio que nuclea a los choferes resolvió el paro por un atraso salarial.\",\n",
        "    \"La medida de fuerza comenzó a partir de las 18.\",\n",
        "    \"Por un atraso salarial, la Unión Tranviarios Automotor (UTA) inició \n",
        "    un paro por tiempo indeterminado a partir de las 18 de este lunes, \n",
        "    según confirmaron fuentes del gremio que nuclea a los choferes.\")"
      ],
      "metadata": {
        "id": "5FqKvz47MlpY"
      },
      "execution_count": 12,
      "outputs": []
    },
    {
      "cell_type": "code",
      "source": [
        "acep_context(acep_clean(texto2), c(\"paro\", \"medida fuerza\"), izq = 4, der = 4)"
      ],
      "metadata": {
        "colab": {
          "base_uri": "https://localhost:8080/",
          "height": 255
        },
        "id": "8KVwGuZvNAqs",
        "outputId": "d51647ea-9dfa-4e38-fc37-b62c94caa98a"
      },
      "execution_count": 13,
      "outputs": [
        {
          "output_type": "display_data",
          "data": {
            "text/html": [
              "<table class=\"dataframe\">\n",
              "<caption>A data.frame: 5 × 2</caption>\n",
              "<thead>\n",
              "\t<tr><th scope=col>doc_id</th><th scope=col>contexto</th></tr>\n",
              "\t<tr><th scope=col>&lt;int&gt;</th><th scope=col>&lt;chr&gt;</th></tr>\n",
              "</thead>\n",
              "<tbody>\n",
              "\t<tr><td>1</td><td>uta inicio | paro | tiempo indeterminado | paro | uta                      </td></tr>\n",
              "\t<tr><td>1</td><td> relacion | paro | moyano                                                  </td></tr>\n",
              "\t<tr><td>2</td><td>gremio nuclea choferes resolvio | paro | atraso salarial                   </td></tr>\n",
              "\t<tr><td>4</td><td>tranviarios automotor uta inicio | paro | tiempo indeterminado partir segun</td></tr>\n",
              "\t<tr><td>3</td><td>| medida fuerza comenzo partir | comenzo partir                            </td></tr>\n",
              "</tbody>\n",
              "</table>\n"
            ],
            "text/markdown": "\nA data.frame: 5 × 2\n\n| doc_id &lt;int&gt; | contexto &lt;chr&gt; |\n|---|---|\n| 1 | uta inicio | paro | tiempo indeterminado | paro | uta                       |\n| 1 |  relacion | paro | moyano                                                   |\n| 2 | gremio nuclea choferes resolvio | paro | atraso salarial                    |\n| 4 | tranviarios automotor uta inicio | paro | tiempo indeterminado partir segun |\n| 3 | | medida fuerza comenzo partir | comenzo partir                             |\n\n",
            "text/latex": "A data.frame: 5 × 2\n\\begin{tabular}{ll}\n doc\\_id & contexto\\\\\n <int> & <chr>\\\\\n\\hline\n\t 1 & uta inicio \\textbar{} paro \\textbar{} tiempo indeterminado \\textbar{} paro \\textbar{} uta                      \\\\\n\t 1 &  relacion \\textbar{} paro \\textbar{} moyano                                                  \\\\\n\t 2 & gremio nuclea choferes resolvio \\textbar{} paro \\textbar{} atraso salarial                   \\\\\n\t 4 & tranviarios automotor uta inicio \\textbar{} paro \\textbar{} tiempo indeterminado partir segun\\\\\n\t 3 & \\textbar{} medida fuerza comenzo partir \\textbar{} comenzo partir                            \\\\\n\\end{tabular}\n",
            "text/plain": [
              "  doc_id\n",
              "1 1     \n",
              "2 1     \n",
              "3 2     \n",
              "4 4     \n",
              "5 3     \n",
              "  contexto                                                                   \n",
              "1 uta inicio | paro | tiempo indeterminado | paro | uta                      \n",
              "2  relacion | paro | moyano                                                  \n",
              "3 gremio nuclea choferes resolvio | paro | atraso salarial                   \n",
              "4 tranviarios automotor uta inicio | paro | tiempo indeterminado partir segun\n",
              "5 | medida fuerza comenzo partir | comenzo partir                            "
            ]
          },
          "metadata": {}
        }
      ]
    },
    {
      "cell_type": "markdown",
      "source": [
        "### Posible solución"
      ],
      "metadata": {
        "id": "Bge51x8nN26U"
      }
    },
    {
      "cell_type": "code",
      "source": [
        "acep_context <- function(texto, clave, izq = 1, der = 1){\n",
        "  nwi <- \"[[:graph:]]*[[:space:]]*\"\n",
        "  nwd <- \"[[:space:]]*[[:graph:]]*\"\n",
        "  lista_frases <- c()\n",
        "  doc_id <- c()\n",
        "  for (c in clave) {\n",
        "    claveb <- paste0(c, \"[[:graph:]]*\", collapse = \"|\")\n",
        "    capturar <- paste0(\"(\", paste0(rep(nwi,izq), collapse = \"\"),\n",
        "                       claveb, paste0(rep(nwd, der), collapse = \"\"), \")\")\n",
        "    for (i in seq_along(texto)) {\n",
        "      vector <- unlist(regmatches(texto[i], gregexpr(capturar, texto[i])))\n",
        "      doc_id <- append(doc_id, rep(i, length(vector)))\n",
        "      claves <- unlist(regmatches(texto[i], gregexpr(claveb, texto[i])))\n",
        "      lista <- sapply(seq_along(vector), function(x) gsub(claveb, paste0(\"\\\\| \", claves[x], \" \\\\|\"), vector[x]))\n",
        "      lista_frases <- unlist(append(lista_frases, lista))\n",
        "    }\n",
        "  }\n",
        "  lista_frases <- data.frame(doc_id = doc_id, contexto = lista_frases)\n",
        "  return(lista_frases)\n",
        "}"
      ],
      "metadata": {
        "id": "uhWU0y0wN82c"
      },
      "execution_count": 14,
      "outputs": []
    },
    {
      "cell_type": "code",
      "source": [
        "acep_context(acep_clean(texto2), c(\"paro\", \"medida fuerza\"), izq = 4, der = 4)"
      ],
      "metadata": {
        "id": "oHwdr4AoOvjc",
        "outputId": "cb6faecd-be4e-431b-ded3-f02b73bc19ce",
        "colab": {
          "base_uri": "https://localhost:8080/",
          "height": 255
        }
      },
      "execution_count": 15,
      "outputs": [
        {
          "output_type": "display_data",
          "data": {
            "text/html": [
              "<table class=\"dataframe\">\n",
              "<caption>A data.frame: 5 × 2</caption>\n",
              "<thead>\n",
              "\t<tr><th scope=col>doc_id</th><th scope=col>contexto</th></tr>\n",
              "\t<tr><th scope=col>&lt;int&gt;</th><th scope=col>&lt;chr&gt;</th></tr>\n",
              "</thead>\n",
              "<tbody>\n",
              "\t<tr><td>1</td><td>uta inicio | paro | tiempo indeterminado | paro | uta                      </td></tr>\n",
              "\t<tr><td>1</td><td> relacion | paro | moyano                                                  </td></tr>\n",
              "\t<tr><td>2</td><td>gremio nuclea choferes resolvio | paro | atraso salarial                   </td></tr>\n",
              "\t<tr><td>4</td><td>tranviarios automotor uta inicio | paro | tiempo indeterminado partir segun</td></tr>\n",
              "\t<tr><td>3</td><td>| medida fuerza | comenzo partir                                           </td></tr>\n",
              "</tbody>\n",
              "</table>\n"
            ],
            "text/markdown": "\nA data.frame: 5 × 2\n\n| doc_id &lt;int&gt; | contexto &lt;chr&gt; |\n|---|---|\n| 1 | uta inicio | paro | tiempo indeterminado | paro | uta                       |\n| 1 |  relacion | paro | moyano                                                   |\n| 2 | gremio nuclea choferes resolvio | paro | atraso salarial                    |\n| 4 | tranviarios automotor uta inicio | paro | tiempo indeterminado partir segun |\n| 3 | | medida fuerza | comenzo partir                                            |\n\n",
            "text/latex": "A data.frame: 5 × 2\n\\begin{tabular}{ll}\n doc\\_id & contexto\\\\\n <int> & <chr>\\\\\n\\hline\n\t 1 & uta inicio \\textbar{} paro \\textbar{} tiempo indeterminado \\textbar{} paro \\textbar{} uta                      \\\\\n\t 1 &  relacion \\textbar{} paro \\textbar{} moyano                                                  \\\\\n\t 2 & gremio nuclea choferes resolvio \\textbar{} paro \\textbar{} atraso salarial                   \\\\\n\t 4 & tranviarios automotor uta inicio \\textbar{} paro \\textbar{} tiempo indeterminado partir segun\\\\\n\t 3 & \\textbar{} medida fuerza \\textbar{} comenzo partir                                           \\\\\n\\end{tabular}\n",
            "text/plain": [
              "  doc_id\n",
              "1 1     \n",
              "2 1     \n",
              "3 2     \n",
              "4 4     \n",
              "5 3     \n",
              "  contexto                                                                   \n",
              "1 uta inicio | paro | tiempo indeterminado | paro | uta                      \n",
              "2  relacion | paro | moyano                                                  \n",
              "3 gremio nuclea choferes resolvio | paro | atraso salarial                   \n",
              "4 tranviarios automotor uta inicio | paro | tiempo indeterminado partir segun\n",
              "5 | medida fuerza | comenzo partir                                           "
            ]
          },
          "metadata": {}
        }
      ]
    },
    {
      "cell_type": "code",
      "source": [
        "acep_context <- function(texto, clave, izq = 1, der = 1){\n",
        "  nwi <- \"[[:graph:]]*[[:space:]]*\"\n",
        "  nwd <- \"[[:space:]]*[[:graph:]]*\"\n",
        "  lista_frases <- c()\n",
        "  doc_id <- c()\n",
        "  oraciones_id <- c()\n",
        "  \n",
        "  for (c in clave) {\n",
        "    claveb <- paste0(c, \"[[:graph:]]*\", collapse = \"|\")\n",
        "    capturar <- paste0(\"(\", paste0(rep(nwi,izq), collapse = \"\"),\n",
        "                       claveb, paste0(rep(nwd, der), collapse = \"\"), \")\")\n",
        "    \n",
        "    for (o in seq_along(texto)) {\n",
        "      oraciones <- unlist(strsplit(texto[o], \"(?<=[a-z]\\\\.|\\\\?|\\\\!)\\\\s*(?=[A-Z]|\\n[A-Z])\", perl=T))\n",
        "      \n",
        "      for (i in seq_along(oraciones)) {\n",
        "        vector <- unlist(regmatches(oraciones[i], gregexpr(capturar, oraciones[i])))\n",
        "        \n",
        "        for (v in seq_along(vector)) {\n",
        "          doc_id <- append(doc_id, o)\n",
        "          oraciones_id <- append(oraciones_id, i)\n",
        "          claves <- unlist(regmatches(vector[v], gregexpr(claveb, vector[v])))\n",
        "          lista <- sapply(seq_along(vector[v]), function(x) sub(claveb, paste0(\"\\\\| \", claves[x], \" \\\\|\"), vector[v][x]))\n",
        "          lista_frases <- unlist(append(lista_frases, lista))\n",
        "        }\n",
        "      }\n",
        "    }\n",
        "  }\n",
        "    \n",
        "  lista_frases <- data.frame(doc_id = doc_id, oraciones_id = oraciones_id, contexto = lista_frases)\n",
        "  return(lista_frases)\n",
        "}"
      ],
      "metadata": {
        "id": "KSPiOTr9V-eZ"
      },
      "execution_count": 16,
      "outputs": []
    },
    {
      "cell_type": "code",
      "source": [
        "acep_context(acep_clean(texto2), c(\"paro\", \"medida fuerza\"), izq = 4, der = 4)"
      ],
      "metadata": {
        "id": "r_w26zb7WFfF",
        "outputId": "18664e36-9f11-4ea1-92aa-ea3b7ca1ca34",
        "colab": {
          "base_uri": "https://localhost:8080/",
          "height": 255
        }
      },
      "execution_count": 17,
      "outputs": [
        {
          "output_type": "display_data",
          "data": {
            "text/html": [
              "<table class=\"dataframe\">\n",
              "<caption>A data.frame: 5 × 3</caption>\n",
              "<thead>\n",
              "\t<tr><th scope=col>doc_id</th><th scope=col>oraciones_id</th><th scope=col>contexto</th></tr>\n",
              "\t<tr><th scope=col>&lt;int&gt;</th><th scope=col>&lt;int&gt;</th><th scope=col>&lt;chr&gt;</th></tr>\n",
              "</thead>\n",
              "<tbody>\n",
              "\t<tr><td>1</td><td>1</td><td>uta inicio | paro | tiempo indeterminado paro uta                          </td></tr>\n",
              "\t<tr><td>1</td><td>1</td><td> relacion | paro | moyano                                                  </td></tr>\n",
              "\t<tr><td>2</td><td>1</td><td>gremio nuclea choferes resolvio | paro | atraso salarial                   </td></tr>\n",
              "\t<tr><td>4</td><td>1</td><td>tranviarios automotor uta inicio | paro | tiempo indeterminado partir segun</td></tr>\n",
              "\t<tr><td>3</td><td>1</td><td>| medida fuerza | comenzo partir                                           </td></tr>\n",
              "</tbody>\n",
              "</table>\n"
            ],
            "text/markdown": "\nA data.frame: 5 × 3\n\n| doc_id &lt;int&gt; | oraciones_id &lt;int&gt; | contexto &lt;chr&gt; |\n|---|---|---|\n| 1 | 1 | uta inicio | paro | tiempo indeterminado paro uta                           |\n| 1 | 1 |  relacion | paro | moyano                                                   |\n| 2 | 1 | gremio nuclea choferes resolvio | paro | atraso salarial                    |\n| 4 | 1 | tranviarios automotor uta inicio | paro | tiempo indeterminado partir segun |\n| 3 | 1 | | medida fuerza | comenzo partir                                            |\n\n",
            "text/latex": "A data.frame: 5 × 3\n\\begin{tabular}{lll}\n doc\\_id & oraciones\\_id & contexto\\\\\n <int> & <int> & <chr>\\\\\n\\hline\n\t 1 & 1 & uta inicio \\textbar{} paro \\textbar{} tiempo indeterminado paro uta                          \\\\\n\t 1 & 1 &  relacion \\textbar{} paro \\textbar{} moyano                                                  \\\\\n\t 2 & 1 & gremio nuclea choferes resolvio \\textbar{} paro \\textbar{} atraso salarial                   \\\\\n\t 4 & 1 & tranviarios automotor uta inicio \\textbar{} paro \\textbar{} tiempo indeterminado partir segun\\\\\n\t 3 & 1 & \\textbar{} medida fuerza \\textbar{} comenzo partir                                           \\\\\n\\end{tabular}\n",
            "text/plain": [
              "  doc_id oraciones_id\n",
              "1 1      1           \n",
              "2 1      1           \n",
              "3 2      1           \n",
              "4 4      1           \n",
              "5 3      1           \n",
              "  contexto                                                                   \n",
              "1 uta inicio | paro | tiempo indeterminado paro uta                          \n",
              "2  relacion | paro | moyano                                                  \n",
              "3 gremio nuclea choferes resolvio | paro | atraso salarial                   \n",
              "4 tranviarios automotor uta inicio | paro | tiempo indeterminado partir segun\n",
              "5 | medida fuerza | comenzo partir                                           "
            ]
          },
          "metadata": {}
        }
      ]
    },
    {
      "cell_type": "code",
      "source": [
        "acep_context(texto2, c(\"paro\", \"medida de fuerza\"), izq = 4, der = 4)"
      ],
      "metadata": {
        "id": "ZemN13f2YeMe",
        "outputId": "14f45c77-d131-4087-83e9-4ed09650f709",
        "colab": {
          "base_uri": "https://localhost:8080/",
          "height": 286
        }
      },
      "execution_count": 18,
      "outputs": [
        {
          "output_type": "display_data",
          "data": {
            "text/html": [
              "<table class=\"dataframe\">\n",
              "<caption>A data.frame: 6 × 3</caption>\n",
              "<thead>\n",
              "\t<tr><th scope=col>doc_id</th><th scope=col>oraciones_id</th><th scope=col>contexto</th></tr>\n",
              "\t<tr><th scope=col>&lt;int&gt;</th><th scope=col>&lt;int&gt;</th><th scope=col>&lt;chr&gt;</th></tr>\n",
              "</thead>\n",
              "<tbody>\n",
              "\t<tr><td>1</td><td>1</td><td>La UTA inició un | paro | por tiempo indeterminado.                </td></tr>\n",
              "\t<tr><td>1</td><td>2</td><td>El | paro | de la UTA no                                           </td></tr>\n",
              "\t<tr><td>1</td><td>2</td><td>tiene relación con el | paro | de Moyano.                          </td></tr>\n",
              "\t<tr><td>2</td><td>1</td><td>los choferes resolvió el | paro | por un atraso salarial.          </td></tr>\n",
              "\t<tr><td>4</td><td>1</td><td>Automotor (UTA) inició \n",
              "    un | paro | por tiempo indeterminado a</td></tr>\n",
              "\t<tr><td>3</td><td>1</td><td>La | medida de fuerza | comenzó a partir de                        </td></tr>\n",
              "</tbody>\n",
              "</table>\n"
            ],
            "text/markdown": "\nA data.frame: 6 × 3\n\n| doc_id &lt;int&gt; | oraciones_id &lt;int&gt; | contexto &lt;chr&gt; |\n|---|---|---|\n| 1 | 1 | La UTA inició un | paro | por tiempo indeterminado.                 |\n| 1 | 2 | El | paro | de la UTA no                                            |\n| 1 | 2 | tiene relación con el | paro | de Moyano.                           |\n| 2 | 1 | los choferes resolvió el | paro | por un atraso salarial.           |\n| 4 | 1 | Automotor (UTA) inició \n    un | paro | por tiempo indeterminado a |\n| 3 | 1 | La | medida de fuerza | comenzó a partir de                         |\n\n",
            "text/latex": "A data.frame: 6 × 3\n\\begin{tabular}{lll}\n doc\\_id & oraciones\\_id & contexto\\\\\n <int> & <int> & <chr>\\\\\n\\hline\n\t 1 & 1 & La UTA inició un \\textbar{} paro \\textbar{} por tiempo indeterminado.                \\\\\n\t 1 & 2 & El \\textbar{} paro \\textbar{} de la UTA no                                           \\\\\n\t 1 & 2 & tiene relación con el \\textbar{} paro \\textbar{} de Moyano.                          \\\\\n\t 2 & 1 & los choferes resolvió el \\textbar{} paro \\textbar{} por un atraso salarial.          \\\\\n\t 4 & 1 & Automotor (UTA) inició \n    un \\textbar{} paro \\textbar{} por tiempo indeterminado a\\\\\n\t 3 & 1 & La \\textbar{} medida de fuerza \\textbar{} comenzó a partir de                        \\\\\n\\end{tabular}\n",
            "text/plain": [
              "  doc_id oraciones_id\n",
              "1 1      1           \n",
              "2 1      2           \n",
              "3 1      2           \n",
              "4 2      1           \n",
              "5 4      1           \n",
              "6 3      1           \n",
              "  contexto                                                           \n",
              "1 La UTA inició un | paro | por tiempo indeterminado.                \n",
              "2 El | paro | de la UTA no                                           \n",
              "3 tiene relación con el | paro | de Moyano.                          \n",
              "4 los choferes resolvió el | paro | por un atraso salarial.          \n",
              "5 Automotor (UTA) inició \\n    un | paro | por tiempo indeterminado a\n",
              "6 La | medida de fuerza | comenzó a partir de                        "
            ]
          },
          "metadata": {}
        }
      ]
    }
  ]
}