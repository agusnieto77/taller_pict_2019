{
  "nbformat": 4,
  "nbformat_minor": 0,
  "metadata": {
    "colab": {
      "provenance": [],
      "authorship_tag": "ABX9TyNgp0m3ZeVme48gDuc3hubd",
      "include_colab_link": true
    },
    "kernelspec": {
      "name": "ir",
      "display_name": "R"
    },
    "language_info": {
      "name": "R"
    }
  },
  "cells": [
    {
      "cell_type": "markdown",
      "metadata": {
        "id": "view-in-github",
        "colab_type": "text"
      },
      "source": [
        "<a href=\"https://colab.research.google.com/github/agusnieto77/taller_pict_2019/blob/main/Colabs/ACEP_funciones_desarrollo_I.ipynb\" target=\"_parent\"><img src=\"https://colab.research.google.com/assets/colab-badge.svg\" alt=\"Open In Colab\"/></a>"
      ]
    },
    {
      "cell_type": "markdown",
      "source": [
        "# Ejercicio 3"
      ],
      "metadata": {
        "id": "mxHA5aNWT3pn"
      }
    },
    {
      "cell_type": "code",
      "source": [
        "devtools::install_github(\"agusnieto77/ACEP\")"
      ],
      "metadata": {
        "id": "ofBoKSw3HNcE",
        "outputId": "f07c677a-e713-4c12-d01b-73dc8eaa4eac",
        "colab": {
          "base_uri": "https://localhost:8080/"
        }
      },
      "execution_count": null,
      "outputs": [
        {
          "output_type": "stream",
          "name": "stderr",
          "text": [
            "Downloading GitHub repo agusnieto77/ACEP@HEAD\n",
            "\n"
          ]
        },
        {
          "output_type": "stream",
          "name": "stdout",
          "text": [
            "sys          (3.4.1  -> 3.4.2 ) [CRAN]\n",
            "jsonlite     (1.8.3  -> 1.8.4 ) [CRAN]\n",
            "png          (NA     -> 0.1-8 ) [CRAN]\n",
            "here         (NA     -> 1.0.1 ) [CRAN]\n",
            "RcppTOML     (NA     -> 0.2.2 ) [CRAN]\n",
            "Rcpp         (NA     -> 1.0.10) [CRAN]\n",
            "reticulate   (NA     -> 1.28  ) [CRAN]\n",
            "tokenbrowser (NA     -> 0.1.5 ) [CRAN]\n",
            "digest       (0.6.30 -> 0.6.31) [CRAN]\n",
            "igraph       (NA     -> 1.4.3 ) [CRAN]\n",
            "tidygeocoder (NA     -> 1.0.5 ) [CRAN]\n",
            "udpipe       (NA     -> 0.8.11) [CRAN]\n",
            "spacyr       (NA     -> 1.2.1 ) [CRAN]\n",
            "rsyntax      (NA     -> 0.1.4 ) [CRAN]\n"
          ]
        },
        {
          "output_type": "stream",
          "name": "stderr",
          "text": [
            "Installing 14 packages: sys, jsonlite, png, here, RcppTOML, Rcpp, reticulate, tokenbrowser, digest, igraph, tidygeocoder, udpipe, spacyr, rsyntax\n",
            "\n",
            "Installing packages into ‘/usr/local/lib/R/site-library’\n",
            "(as ‘lib’ is unspecified)\n",
            "\n"
          ]
        },
        {
          "output_type": "stream",
          "name": "stdout",
          "text": [
            "\u001b[36m──\u001b[39m \u001b[36mR CMD build\u001b[39m \u001b[36m─────────────────────────────────────────────────────────────────\u001b[39m\n",
            "* checking for file ‘/tmp/RtmpW5d7HT/remotes2d33ce5ec81/agusnieto77-ACEP-f401cfe/DESCRIPTION’ ... OK\n",
            "* preparing ‘ACEP’:\n",
            "* checking DESCRIPTION meta-information ... OK\n",
            "* checking for LF line-endings in source and make files and shell scripts\n",
            "* checking for empty or unneeded directories\n",
            "* building ‘ACEP_0.0.3.9001.tar.gz’\n",
            "\n"
          ]
        },
        {
          "output_type": "stream",
          "name": "stderr",
          "text": [
            "Installing package into ‘/usr/local/lib/R/site-library’\n",
            "(as ‘lib’ is unspecified)\n",
            "\n"
          ]
        }
      ]
    },
    {
      "cell_type": "code",
      "source": [
        "require(ACEP)"
      ],
      "metadata": {
        "id": "yvhkmoqEjvZO"
      },
      "execution_count": null,
      "outputs": []
    },
    {
      "cell_type": "code",
      "source": [
        "acep_context(\"La UTA inició un paro de colectivos por tiempo indeterminado\", \"paro\")"
      ],
      "metadata": {
        "id": "VQ6sBePJVNCX",
        "outputId": "c761db47-cbda-40ad-d633-44895e724f26",
        "colab": {
          "base_uri": "https://localhost:8080/",
          "height": 129
        }
      },
      "execution_count": null,
      "outputs": [
        {
          "output_type": "display_data",
          "data": {
            "text/html": [
              "<table class=\"dataframe\">\n",
              "<caption>A data.frame: 1 × 2</caption>\n",
              "<thead>\n",
              "\t<tr><th scope=col>doc_id</th><th scope=col>contexto</th></tr>\n",
              "\t<tr><th scope=col>&lt;int&gt;</th><th scope=col>&lt;chr&gt;</th></tr>\n",
              "</thead>\n",
              "<tbody>\n",
              "\t<tr><td>1</td><td>un | paro | de</td></tr>\n",
              "</tbody>\n",
              "</table>\n"
            ],
            "text/markdown": "\nA data.frame: 1 × 2\n\n| doc_id &lt;int&gt; | contexto &lt;chr&gt; |\n|---|---|\n| 1 | un | paro | de |\n\n",
            "text/latex": "A data.frame: 1 × 2\n\\begin{tabular}{ll}\n doc\\_id & contexto\\\\\n <int> & <chr>\\\\\n\\hline\n\t 1 & un \\textbar{} paro \\textbar{} de\\\\\n\\end{tabular}\n",
            "text/plain": [
              "  doc_id contexto      \n",
              "1 1      un | paro | de"
            ]
          },
          "metadata": {}
        }
      ]
    },
    {
      "cell_type": "code",
      "source": [
        "acep_context(acep_clean(\"La UTA inició un paro de colectivos por tiempo indeterminado\"), \"paro\")"
      ],
      "metadata": {
        "id": "ywJB5qRLKNyq",
        "outputId": "6844b861-3efd-4487-c089-2e9202e65a27",
        "colab": {
          "base_uri": "https://localhost:8080/",
          "height": 129
        }
      },
      "execution_count": null,
      "outputs": [
        {
          "output_type": "display_data",
          "data": {
            "text/html": [
              "<table class=\"dataframe\">\n",
              "<caption>A data.frame: 1 × 2</caption>\n",
              "<thead>\n",
              "\t<tr><th scope=col>doc_id</th><th scope=col>contexto</th></tr>\n",
              "\t<tr><th scope=col>&lt;int&gt;</th><th scope=col>&lt;chr&gt;</th></tr>\n",
              "</thead>\n",
              "<tbody>\n",
              "\t<tr><td>1</td><td>inicio | paro | colectivos</td></tr>\n",
              "</tbody>\n",
              "</table>\n"
            ],
            "text/markdown": "\nA data.frame: 1 × 2\n\n| doc_id &lt;int&gt; | contexto &lt;chr&gt; |\n|---|---|\n| 1 | inicio | paro | colectivos |\n\n",
            "text/latex": "A data.frame: 1 × 2\n\\begin{tabular}{ll}\n doc\\_id & contexto\\\\\n <int> & <chr>\\\\\n\\hline\n\t 1 & inicio \\textbar{} paro \\textbar{} colectivos\\\\\n\\end{tabular}\n",
            "text/plain": [
              "  doc_id contexto                  \n",
              "1 1      inicio | paro | colectivos"
            ]
          },
          "metadata": {}
        }
      ]
    },
    {
      "cell_type": "code",
      "source": [
        "acep_context(acep_clean(\"La UTA inició un paro de colectivos por tiempo indeterminado\"), \"paro\", izq = 2, der = 2)"
      ],
      "metadata": {
        "id": "txqRQSihKchq",
        "outputId": "2bef374f-8038-457e-bf76-6950d5a17d35",
        "colab": {
          "base_uri": "https://localhost:8080/",
          "height": 129
        }
      },
      "execution_count": null,
      "outputs": [
        {
          "output_type": "display_data",
          "data": {
            "text/html": [
              "<table class=\"dataframe\">\n",
              "<caption>A data.frame: 1 × 2</caption>\n",
              "<thead>\n",
              "\t<tr><th scope=col>doc_id</th><th scope=col>contexto</th></tr>\n",
              "\t<tr><th scope=col>&lt;int&gt;</th><th scope=col>&lt;chr&gt;</th></tr>\n",
              "</thead>\n",
              "<tbody>\n",
              "\t<tr><td>1</td><td>uta inicio | paro | colectivos tiempo</td></tr>\n",
              "</tbody>\n",
              "</table>\n"
            ],
            "text/markdown": "\nA data.frame: 1 × 2\n\n| doc_id &lt;int&gt; | contexto &lt;chr&gt; |\n|---|---|\n| 1 | uta inicio | paro | colectivos tiempo |\n\n",
            "text/latex": "A data.frame: 1 × 2\n\\begin{tabular}{ll}\n doc\\_id & contexto\\\\\n <int> & <chr>\\\\\n\\hline\n\t 1 & uta inicio \\textbar{} paro \\textbar{} colectivos tiempo\\\\\n\\end{tabular}\n",
            "text/plain": [
              "  doc_id contexto                             \n",
              "1 1      uta inicio | paro | colectivos tiempo"
            ]
          },
          "metadata": {}
        }
      ]
    },
    {
      "cell_type": "code",
      "source": [
        "acep_context(acep_clean(\"La UTA inició un paro de colectivos por tiempo indeterminado\"), \"paro\", izq = 2, der = 3)"
      ],
      "metadata": {
        "id": "7SeJbSyRKogj",
        "outputId": "621a9bed-93b8-4b77-f2ba-219897fb4b6a",
        "colab": {
          "base_uri": "https://localhost:8080/",
          "height": 129
        }
      },
      "execution_count": null,
      "outputs": [
        {
          "output_type": "display_data",
          "data": {
            "text/html": [
              "<table class=\"dataframe\">\n",
              "<caption>A data.frame: 1 × 2</caption>\n",
              "<thead>\n",
              "\t<tr><th scope=col>doc_id</th><th scope=col>contexto</th></tr>\n",
              "\t<tr><th scope=col>&lt;int&gt;</th><th scope=col>&lt;chr&gt;</th></tr>\n",
              "</thead>\n",
              "<tbody>\n",
              "\t<tr><td>1</td><td>uta inicio | paro | colectivos tiempo indeterminado</td></tr>\n",
              "</tbody>\n",
              "</table>\n"
            ],
            "text/markdown": "\nA data.frame: 1 × 2\n\n| doc_id &lt;int&gt; | contexto &lt;chr&gt; |\n|---|---|\n| 1 | uta inicio | paro | colectivos tiempo indeterminado |\n\n",
            "text/latex": "A data.frame: 1 × 2\n\\begin{tabular}{ll}\n doc\\_id & contexto\\\\\n <int> & <chr>\\\\\n\\hline\n\t 1 & uta inicio \\textbar{} paro \\textbar{} colectivos tiempo indeterminado\\\\\n\\end{tabular}\n",
            "text/plain": [
              "  doc_id contexto                                           \n",
              "1 1      uta inicio | paro | colectivos tiempo indeterminado"
            ]
          },
          "metadata": {}
        }
      ]
    },
    {
      "cell_type": "code",
      "source": [
        "acep_context(acep_clean(\"La UTA inició un paro de colectivos por tiempo indeterminado\"), \"inicio paro colectivos\", izq = 1, der = 3)"
      ],
      "metadata": {
        "id": "X111dMtuK2hD",
        "outputId": "b818b9f7-e17a-4bc5-bc7d-8a1cfcae96fa",
        "colab": {
          "base_uri": "https://localhost:8080/",
          "height": 129
        }
      },
      "execution_count": null,
      "outputs": [
        {
          "output_type": "display_data",
          "data": {
            "text/html": [
              "<table class=\"dataframe\">\n",
              "<caption>A data.frame: 1 × 2</caption>\n",
              "<thead>\n",
              "\t<tr><th scope=col>doc_id</th><th scope=col>contexto</th></tr>\n",
              "\t<tr><th scope=col>&lt;int&gt;</th><th scope=col>&lt;chr&gt;</th></tr>\n",
              "</thead>\n",
              "<tbody>\n",
              "\t<tr><td>1</td><td>uta | inicio paro colectivos | tiempo indeterminado</td></tr>\n",
              "</tbody>\n",
              "</table>\n"
            ],
            "text/markdown": "\nA data.frame: 1 × 2\n\n| doc_id &lt;int&gt; | contexto &lt;chr&gt; |\n|---|---|\n| 1 | uta | inicio paro colectivos | tiempo indeterminado |\n\n",
            "text/latex": "A data.frame: 1 × 2\n\\begin{tabular}{ll}\n doc\\_id & contexto\\\\\n <int> & <chr>\\\\\n\\hline\n\t 1 & uta \\textbar{} inicio paro colectivos \\textbar{} tiempo indeterminado\\\\\n\\end{tabular}\n",
            "text/plain": [
              "  doc_id contexto                                           \n",
              "1 1      uta | inicio paro colectivos | tiempo indeterminado"
            ]
          },
          "metadata": {}
        }
      ]
    },
    {
      "cell_type": "code",
      "source": [
        "texto <-\n",
        "  c(\"La UTA inició un paro de colectivos por tiempo indeterminado.\",\n",
        "    \"El gremio que nuclea a los choferes lo resolvió por un atraso salarial.\",\n",
        "    \"La medida de fuerza comenzó a partir de las 18.\",\n",
        "    \"Por un atraso salarial, la Unión Tranviarios Automotor (UTA) inició\n",
        "    un paro por tiempo indeterminado a partir de las 18 de este lunes,\n",
        "    según confirmaron fuentes del gremio que nuclea a los choferes.\")"
      ],
      "metadata": {
        "id": "i56AhZoNZim3"
      },
      "execution_count": null,
      "outputs": []
    },
    {
      "cell_type": "code",
      "source": [
        "acep_context(acep_clean(texto), \"paro\", izq = 2, der = 2)"
      ],
      "metadata": {
        "id": "ubZxi3WJj2Se",
        "outputId": "9281335d-05bd-4ce4-b3fe-65551414f588",
        "colab": {
          "base_uri": "https://localhost:8080/",
          "height": 161
        }
      },
      "execution_count": null,
      "outputs": [
        {
          "output_type": "display_data",
          "data": {
            "text/html": [
              "<table class=\"dataframe\">\n",
              "<caption>A data.frame: 2 × 2</caption>\n",
              "<thead>\n",
              "\t<tr><th scope=col>doc_id</th><th scope=col>contexto</th></tr>\n",
              "\t<tr><th scope=col>&lt;int&gt;</th><th scope=col>&lt;chr&gt;</th></tr>\n",
              "</thead>\n",
              "<tbody>\n",
              "\t<tr><td>1</td><td>uta inicio | paro | colectivos tiempo   </td></tr>\n",
              "\t<tr><td>4</td><td>uta inicio | paro | tiempo indeterminado</td></tr>\n",
              "</tbody>\n",
              "</table>\n"
            ],
            "text/markdown": "\nA data.frame: 2 × 2\n\n| doc_id &lt;int&gt; | contexto &lt;chr&gt; |\n|---|---|\n| 1 | uta inicio | paro | colectivos tiempo    |\n| 4 | uta inicio | paro | tiempo indeterminado |\n\n",
            "text/latex": "A data.frame: 2 × 2\n\\begin{tabular}{ll}\n doc\\_id & contexto\\\\\n <int> & <chr>\\\\\n\\hline\n\t 1 & uta inicio \\textbar{} paro \\textbar{} colectivos tiempo   \\\\\n\t 4 & uta inicio \\textbar{} paro \\textbar{} tiempo indeterminado\\\\\n\\end{tabular}\n",
            "text/plain": [
              "  doc_id contexto                                \n",
              "1 1      uta inicio | paro | colectivos tiempo   \n",
              "2 4      uta inicio | paro | tiempo indeterminado"
            ]
          },
          "metadata": {}
        }
      ]
    },
    {
      "cell_type": "code",
      "source": [
        "acep_context(acep_clean(texto), c(\"paro\", \"medida fuerza\"), izq = 2, der = 2)"
      ],
      "metadata": {
        "colab": {
          "base_uri": "https://localhost:8080/",
          "height": 192
        },
        "id": "3fiIQ38tLiRT",
        "outputId": "b4662304-c991-4ecc-f36d-a9f31e06bcb4"
      },
      "execution_count": null,
      "outputs": [
        {
          "output_type": "display_data",
          "data": {
            "text/html": [
              "<table class=\"dataframe\">\n",
              "<caption>A data.frame: 3 × 2</caption>\n",
              "<thead>\n",
              "\t<tr><th scope=col>doc_id</th><th scope=col>contexto</th></tr>\n",
              "\t<tr><th scope=col>&lt;int&gt;</th><th scope=col>&lt;chr&gt;</th></tr>\n",
              "</thead>\n",
              "<tbody>\n",
              "\t<tr><td>1</td><td>uta inicio | paro | colectivos tiempo          </td></tr>\n",
              "\t<tr><td>4</td><td>uta inicio | paro | tiempo indeterminado       </td></tr>\n",
              "\t<tr><td>3</td><td>| medida fuerza comenzo partir | comenzo partir</td></tr>\n",
              "</tbody>\n",
              "</table>\n"
            ],
            "text/markdown": "\nA data.frame: 3 × 2\n\n| doc_id &lt;int&gt; | contexto &lt;chr&gt; |\n|---|---|\n| 1 | uta inicio | paro | colectivos tiempo           |\n| 4 | uta inicio | paro | tiempo indeterminado        |\n| 3 | | medida fuerza comenzo partir | comenzo partir |\n\n",
            "text/latex": "A data.frame: 3 × 2\n\\begin{tabular}{ll}\n doc\\_id & contexto\\\\\n <int> & <chr>\\\\\n\\hline\n\t 1 & uta inicio \\textbar{} paro \\textbar{} colectivos tiempo          \\\\\n\t 4 & uta inicio \\textbar{} paro \\textbar{} tiempo indeterminado       \\\\\n\t 3 & \\textbar{} medida fuerza comenzo partir \\textbar{} comenzo partir\\\\\n\\end{tabular}\n",
            "text/plain": [
              "  doc_id contexto                                       \n",
              "1 1      uta inicio | paro | colectivos tiempo          \n",
              "2 4      uta inicio | paro | tiempo indeterminado       \n",
              "3 3      | medida fuerza comenzo partir | comenzo partir"
            ]
          },
          "metadata": {}
        }
      ]
    },
    {
      "cell_type": "code",
      "source": [
        "texto2 <-\n",
        "  c(\"La UTA inició un paro por tiempo indeterminado. El paro de la UTA no tiene relación con el paro de Moyano.\n",
        "    El nuevo paro de colectivos es total.\",\n",
        "    \"El gremio que nuclea a los choferes resolvió el paro por un atraso salarial. El paro es total.\",\n",
        "    \"La medida de fuerza comenzó a partir de las 18. El gremio que nuclea a los choferes resolvió el paro por un atraso salarial.\",\n",
        "    \"Por un atraso salarial, la Unión Tranviarios Automotor (UTA) inició un paro por tiempo indeterminado. A partir de las 18 de este lunes,\n",
        "    según confirmaron fuentes del gremio que nuclea a los choferes que están en paro por tiempo indeterminado.\")"
      ],
      "metadata": {
        "id": "5FqKvz47MlpY"
      },
      "execution_count": null,
      "outputs": []
    },
    {
      "cell_type": "code",
      "source": [
        "acep_context(acep_clean(texto2), c(\"paro\", \"medida fuerza\"), izq = 4, der = 4)"
      ],
      "metadata": {
        "colab": {
          "base_uri": "https://localhost:8080/",
          "height": 317
        },
        "id": "8KVwGuZvNAqs",
        "outputId": "6e234c2f-7845-4ab3-f298-6d2e0e5192e7"
      },
      "execution_count": null,
      "outputs": [
        {
          "output_type": "display_data",
          "data": {
            "text/html": [
              "<table class=\"dataframe\">\n",
              "<caption>A data.frame: 7 × 2</caption>\n",
              "<thead>\n",
              "\t<tr><th scope=col>doc_id</th><th scope=col>contexto</th></tr>\n",
              "\t<tr><th scope=col>&lt;int&gt;</th><th scope=col>&lt;chr&gt;</th></tr>\n",
              "</thead>\n",
              "<tbody>\n",
              "\t<tr><td>1</td><td>uta inicio | paro | tiempo indeterminado | paro | uta                                                             </td></tr>\n",
              "\t<tr><td>1</td><td> relacion | paro | moyano nuevo | paro | colectivos                                                               </td></tr>\n",
              "\t<tr><td>2</td><td>gremio nuclea choferes resolvio | paro | atraso salarial | paro | total                                           </td></tr>\n",
              "\t<tr><td>3</td><td>gremio nuclea choferes resolvio | paro | atraso salarial                                                          </td></tr>\n",
              "\t<tr><td>4</td><td>tranviarios automotor uta inicio | paro | tiempo indeterminado partir segun                                       </td></tr>\n",
              "\t<tr><td>4</td><td>gremio nuclea choferes estan | paro | tiempo indeterminado                                                        </td></tr>\n",
              "\t<tr><td>3</td><td>| medida fuerza comenzo partir gremio nuclea choferes resolvio paro atraso salarial | comenzo partir gremio nuclea</td></tr>\n",
              "</tbody>\n",
              "</table>\n"
            ],
            "text/markdown": "\nA data.frame: 7 × 2\n\n| doc_id &lt;int&gt; | contexto &lt;chr&gt; |\n|---|---|\n| 1 | uta inicio | paro | tiempo indeterminado | paro | uta                                                              |\n| 1 |  relacion | paro | moyano nuevo | paro | colectivos                                                                |\n| 2 | gremio nuclea choferes resolvio | paro | atraso salarial | paro | total                                            |\n| 3 | gremio nuclea choferes resolvio | paro | atraso salarial                                                           |\n| 4 | tranviarios automotor uta inicio | paro | tiempo indeterminado partir segun                                        |\n| 4 | gremio nuclea choferes estan | paro | tiempo indeterminado                                                         |\n| 3 | | medida fuerza comenzo partir gremio nuclea choferes resolvio paro atraso salarial | comenzo partir gremio nuclea |\n\n",
            "text/latex": "A data.frame: 7 × 2\n\\begin{tabular}{ll}\n doc\\_id & contexto\\\\\n <int> & <chr>\\\\\n\\hline\n\t 1 & uta inicio \\textbar{} paro \\textbar{} tiempo indeterminado \\textbar{} paro \\textbar{} uta                                                             \\\\\n\t 1 &  relacion \\textbar{} paro \\textbar{} moyano nuevo \\textbar{} paro \\textbar{} colectivos                                                               \\\\\n\t 2 & gremio nuclea choferes resolvio \\textbar{} paro \\textbar{} atraso salarial \\textbar{} paro \\textbar{} total                                           \\\\\n\t 3 & gremio nuclea choferes resolvio \\textbar{} paro \\textbar{} atraso salarial                                                          \\\\\n\t 4 & tranviarios automotor uta inicio \\textbar{} paro \\textbar{} tiempo indeterminado partir segun                                       \\\\\n\t 4 & gremio nuclea choferes estan \\textbar{} paro \\textbar{} tiempo indeterminado                                                        \\\\\n\t 3 & \\textbar{} medida fuerza comenzo partir gremio nuclea choferes resolvio paro atraso salarial \\textbar{} comenzo partir gremio nuclea\\\\\n\\end{tabular}\n",
            "text/plain": [
              "  doc_id\n",
              "1 1     \n",
              "2 1     \n",
              "3 2     \n",
              "4 3     \n",
              "5 4     \n",
              "6 4     \n",
              "7 3     \n",
              "  contexto                                                                                                          \n",
              "1 uta inicio | paro | tiempo indeterminado | paro | uta                                                             \n",
              "2  relacion | paro | moyano nuevo | paro | colectivos                                                               \n",
              "3 gremio nuclea choferes resolvio | paro | atraso salarial | paro | total                                           \n",
              "4 gremio nuclea choferes resolvio | paro | atraso salarial                                                          \n",
              "5 tranviarios automotor uta inicio | paro | tiempo indeterminado partir segun                                       \n",
              "6 gremio nuclea choferes estan | paro | tiempo indeterminado                                                        \n",
              "7 | medida fuerza comenzo partir gremio nuclea choferes resolvio paro atraso salarial | comenzo partir gremio nuclea"
            ]
          },
          "metadata": {}
        }
      ]
    },
    {
      "cell_type": "markdown",
      "source": [
        "### Posible solución"
      ],
      "metadata": {
        "id": "Bge51x8nN26U"
      }
    },
    {
      "cell_type": "code",
      "source": [
        "acep_context <- function(texto, clave, izq = 1, der = 1){\n",
        "  nwi <- \"[[:graph:]]*[[:space:]]*\"\n",
        "  nwd <- \"[[:space:]]*[[:graph:]]*\"\n",
        "  lista_frases <- c()\n",
        "\n",
        "  for (c in clave) {\n",
        "    claveb <- paste0(c, \"[[:graph:]]*\", collapse = \"|\")\n",
        "    capturar <- paste0(\"(\", paste0(rep(nwi,izq), collapse = \"\"),\n",
        "                       claveb, paste0(rep(nwd, der), collapse = \"\"), \")\")\n",
        "\n",
        "    for (o in seq_along(texto)) {\n",
        "      oraciones <- unlist(strsplit(texto[o], \"(?<=[a-z]\\\\.|\\\\?|\\\\!)\\\\s*(?=[A-Z]|\\n[A-Z])\", perl=T))\n",
        "\n",
        "      for (i in seq_along(oraciones)) {\n",
        "        vector <- unlist(regmatches(oraciones[i], gregexpr(capturar, oraciones[i])))\n",
        "\n",
        "        for (v in seq_along(vector)) {\n",
        "          claves <- unlist(regmatches(vector[v], gregexpr(claveb, vector[v])))\n",
        "          lista <- sapply(seq_along(vector[v]), function(x) sub(claveb, paste0(\"\\\\| \", claves[x], \" \\\\|\"), vector[v][x]))\n",
        "          contexto <- trimws(strsplit(lista, \"|\", fixed = TRUE)[[1]])\n",
        "          lista_frases <- rbind(lista_frases, data.frame(doc_id = o, oraciones_id = i, texto = lista, w_izq = contexto[1], key = contexto[2], w_der = contexto[3]))\n",
        "        }\n",
        "      }\n",
        "    }\n",
        "  }\n",
        "\n",
        "  lista_frases <- as.data.frame(mapply(format, lista_frases, justify=c(\"left\", \"left\", \"left\", \"right\", \"centre\", \"left\")))\n",
        "  return(lista_frases)\n",
        "}"
      ],
      "metadata": {
        "id": "uhWU0y0wN82c"
      },
      "execution_count": null,
      "outputs": []
    },
    {
      "cell_type": "code",
      "source": [
        "acep_context(acep_clean(texto2), c(\"paro\", \"medida fuerza\"), izq = 4, der = 4)"
      ],
      "metadata": {
        "id": "oHwdr4AoOvjc",
        "outputId": "4260c756-075f-451c-b5ea-c12e288674b2",
        "colab": {
          "base_uri": "https://localhost:8080/",
          "height": 317
        }
      },
      "execution_count": null,
      "outputs": [
        {
          "output_type": "display_data",
          "data": {
            "text/html": [
              "<table class=\"dataframe\">\n",
              "<caption>A data.frame: 7 × 6</caption>\n",
              "<thead>\n",
              "\t<tr><th scope=col>doc_id</th><th scope=col>oraciones_id</th><th scope=col>texto</th><th scope=col>w_izq</th><th scope=col>key</th><th scope=col>w_der</th></tr>\n",
              "\t<tr><th scope=col>&lt;int&gt;</th><th scope=col>&lt;int&gt;</th><th scope=col>&lt;chr&gt;</th><th scope=col>&lt;chr&gt;</th><th scope=col>&lt;chr&gt;</th><th scope=col>&lt;chr&gt;</th></tr>\n",
              "</thead>\n",
              "<tbody>\n",
              "\t<tr><td>1</td><td>1</td><td>uta inicio | paro | tiempo indeterminado paro uta                          </td><td>uta inicio                      </td><td>paro         </td><td>tiempo indeterminado paro uta    </td></tr>\n",
              "\t<tr><td>1</td><td>1</td><td> relacion | paro | moyano nuevo paro colectivos                            </td><td>relacion                        </td><td>paro         </td><td>moyano nuevo paro colectivos     </td></tr>\n",
              "\t<tr><td>2</td><td>1</td><td>gremio nuclea choferes resolvio | paro | atraso salarial paro total        </td><td>gremio nuclea choferes resolvio </td><td>paro         </td><td>atraso salarial paro total       </td></tr>\n",
              "\t<tr><td>3</td><td>1</td><td>gremio nuclea choferes resolvio | paro | atraso salarial                   </td><td>gremio nuclea choferes resolvio </td><td>paro         </td><td>atraso salarial                  </td></tr>\n",
              "\t<tr><td>4</td><td>1</td><td>tranviarios automotor uta inicio | paro | tiempo indeterminado partir segun</td><td>tranviarios automotor uta inicio</td><td>paro         </td><td>tiempo indeterminado partir segun</td></tr>\n",
              "\t<tr><td>4</td><td>1</td><td>gremio nuclea choferes estan | paro | tiempo indeterminado                 </td><td>gremio nuclea choferes estan    </td><td>paro         </td><td>tiempo indeterminado             </td></tr>\n",
              "\t<tr><td>3</td><td>1</td><td>| medida fuerza | comenzo partir gremio nuclea                             </td><td>                                </td><td>medida fuerza</td><td>comenzo partir gremio nuclea     </td></tr>\n",
              "</tbody>\n",
              "</table>\n"
            ],
            "text/markdown": "\nA data.frame: 7 × 6\n\n| doc_id &lt;int&gt; | oraciones_id &lt;int&gt; | texto &lt;chr&gt; | w_izq &lt;chr&gt; | key &lt;chr&gt; | w_der &lt;chr&gt; |\n|---|---|---|---|---|---|\n| 1 | 1 | uta inicio | paro | tiempo indeterminado paro uta                           | uta inicio                       | paro          | tiempo indeterminado paro uta     |\n| 1 | 1 |  relacion | paro | moyano nuevo paro colectivos                             | relacion                         | paro          | moyano nuevo paro colectivos      |\n| 2 | 1 | gremio nuclea choferes resolvio | paro | atraso salarial paro total         | gremio nuclea choferes resolvio  | paro          | atraso salarial paro total        |\n| 3 | 1 | gremio nuclea choferes resolvio | paro | atraso salarial                    | gremio nuclea choferes resolvio  | paro          | atraso salarial                   |\n| 4 | 1 | tranviarios automotor uta inicio | paro | tiempo indeterminado partir segun | tranviarios automotor uta inicio | paro          | tiempo indeterminado partir segun |\n| 4 | 1 | gremio nuclea choferes estan | paro | tiempo indeterminado                  | gremio nuclea choferes estan     | paro          | tiempo indeterminado              |\n| 3 | 1 | | medida fuerza | comenzo partir gremio nuclea                              | <!----> | medida fuerza | comenzo partir gremio nuclea      |\n\n",
            "text/latex": "A data.frame: 7 × 6\n\\begin{tabular}{llllll}\n doc\\_id & oraciones\\_id & texto & w\\_izq & key & w\\_der\\\\\n <int> & <int> & <chr> & <chr> & <chr> & <chr>\\\\\n\\hline\n\t 1 & 1 & uta inicio \\textbar{} paro \\textbar{} tiempo indeterminado paro uta                           & uta inicio                       & paro          & tiempo indeterminado paro uta    \\\\\n\t 1 & 1 &  relacion \\textbar{} paro \\textbar{} moyano nuevo paro colectivos                             & relacion                         & paro          & moyano nuevo paro colectivos     \\\\\n\t 2 & 1 & gremio nuclea choferes resolvio \\textbar{} paro \\textbar{} atraso salarial paro total         & gremio nuclea choferes resolvio  & paro          & atraso salarial paro total       \\\\\n\t 3 & 1 & gremio nuclea choferes resolvio \\textbar{} paro \\textbar{} atraso salarial                    & gremio nuclea choferes resolvio  & paro          & atraso salarial                  \\\\\n\t 4 & 1 & tranviarios automotor uta inicio \\textbar{} paro \\textbar{} tiempo indeterminado partir segun & tranviarios automotor uta inicio & paro          & tiempo indeterminado partir segun\\\\\n\t 4 & 1 & gremio nuclea choferes estan \\textbar{} paro \\textbar{} tiempo indeterminado                  & gremio nuclea choferes estan     & paro          & tiempo indeterminado             \\\\\n\t 3 & 1 & \\textbar{} medida fuerza \\textbar{} comenzo partir gremio nuclea                              &                                  & medida fuerza & comenzo partir gremio nuclea     \\\\\n\\end{tabular}\n",
            "text/plain": [
              "  doc_id oraciones_id\n",
              "1 1      1           \n",
              "2 1      1           \n",
              "3 2      1           \n",
              "4 3      1           \n",
              "5 4      1           \n",
              "6 4      1           \n",
              "7 3      1           \n",
              "  texto                                                                      \n",
              "1 uta inicio | paro | tiempo indeterminado paro uta                          \n",
              "2  relacion | paro | moyano nuevo paro colectivos                            \n",
              "3 gremio nuclea choferes resolvio | paro | atraso salarial paro total        \n",
              "4 gremio nuclea choferes resolvio | paro | atraso salarial                   \n",
              "5 tranviarios automotor uta inicio | paro | tiempo indeterminado partir segun\n",
              "6 gremio nuclea choferes estan | paro | tiempo indeterminado                 \n",
              "7 | medida fuerza | comenzo partir gremio nuclea                             \n",
              "  w_izq                            key          \n",
              "1 uta inicio                       paro         \n",
              "2 relacion                         paro         \n",
              "3 gremio nuclea choferes resolvio  paro         \n",
              "4 gremio nuclea choferes resolvio  paro         \n",
              "5 tranviarios automotor uta inicio paro         \n",
              "6 gremio nuclea choferes estan     paro         \n",
              "7                                  medida fuerza\n",
              "  w_der                            \n",
              "1 tiempo indeterminado paro uta    \n",
              "2 moyano nuevo paro colectivos     \n",
              "3 atraso salarial paro total       \n",
              "4 atraso salarial                  \n",
              "5 tiempo indeterminado partir segun\n",
              "6 tiempo indeterminado             \n",
              "7 comenzo partir gremio nuclea     "
            ]
          },
          "metadata": {}
        }
      ]
    },
    {
      "cell_type": "code",
      "source": [
        "acep_context(texto2, c(\"paro\", \"medida de fuerza\"), izq = 4, der = 4)"
      ],
      "metadata": {
        "id": "sXu62WtJx5Hd",
        "outputId": "a9427c06-fdb0-492c-d068-ab4bc35d60b5",
        "colab": {
          "base_uri": "https://localhost:8080/",
          "height": 411
        }
      },
      "execution_count": null,
      "outputs": [
        {
          "output_type": "display_data",
          "data": {
            "text/html": [
              "<table class=\"dataframe\">\n",
              "<caption>A data.frame: 10 × 6</caption>\n",
              "<thead>\n",
              "\t<tr><th scope=col>doc_id</th><th scope=col>oraciones_id</th><th scope=col>texto</th><th scope=col>w_izq</th><th scope=col>key</th><th scope=col>w_der</th></tr>\n",
              "\t<tr><th scope=col>&lt;int&gt;</th><th scope=col>&lt;int&gt;</th><th scope=col>&lt;chr&gt;</th><th scope=col>&lt;chr&gt;</th><th scope=col>&lt;chr&gt;</th><th scope=col>&lt;chr&gt;</th></tr>\n",
              "</thead>\n",
              "<tbody>\n",
              "\t<tr><td>1</td><td>1</td><td>La UTA inició un | paro | por tiempo indeterminado.         </td><td>La UTA inició un         </td><td>paro            </td><td>por tiempo indeterminado.</td></tr>\n",
              "\t<tr><td>1</td><td>2</td><td>El | paro | de la UTA no                                    </td><td>El                       </td><td>paro            </td><td>de la UTA no             </td></tr>\n",
              "\t<tr><td>1</td><td>2</td><td>tiene relación con el | paro | de Moyano.                   </td><td>tiene relación con el    </td><td>paro            </td><td>de Moyano.               </td></tr>\n",
              "\t<tr><td>1</td><td>3</td><td>El nuevo | paro | de colectivos es total.                   </td><td>El nuevo                 </td><td>paro            </td><td>de colectivos es total.  </td></tr>\n",
              "\t<tr><td>2</td><td>1</td><td>los choferes resolvió el | paro | por un atraso salarial.   </td><td>los choferes resolvió el </td><td>paro            </td><td>por un atraso salarial.  </td></tr>\n",
              "\t<tr><td>2</td><td>2</td><td>El | paro | es total.                                       </td><td>El                       </td><td>paro            </td><td>es total.                </td></tr>\n",
              "\t<tr><td>3</td><td>1</td><td>los choferes resolvió el | paro | por un atraso salarial.   </td><td>los choferes resolvió el </td><td>paro            </td><td>por un atraso salarial.  </td></tr>\n",
              "\t<tr><td>4</td><td>1</td><td>Automotor (UTA) inició un | paro | por tiempo indeterminado.</td><td>Automotor (UTA) inició un</td><td>paro            </td><td>por tiempo indeterminado.</td></tr>\n",
              "\t<tr><td>4</td><td>2</td><td>choferes que están en | paro | por tiempo indeterminado.    </td><td>choferes que están en    </td><td>paro            </td><td>por tiempo indeterminado.</td></tr>\n",
              "\t<tr><td>3</td><td>1</td><td>La | medida de fuerza | comenzó a partir de                 </td><td>La                       </td><td>medida de fuerza</td><td>comenzó a partir de      </td></tr>\n",
              "</tbody>\n",
              "</table>\n"
            ],
            "text/markdown": "\nA data.frame: 10 × 6\n\n| doc_id &lt;int&gt; | oraciones_id &lt;int&gt; | texto &lt;chr&gt; | w_izq &lt;chr&gt; | key &lt;chr&gt; | w_der &lt;chr&gt; |\n|---|---|---|---|---|---|\n| 1 | 1 | La UTA inició un | paro | por tiempo indeterminado.          | La UTA inició un          | paro             | por tiempo indeterminado. |\n| 1 | 2 | El | paro | de la UTA no                                     | El                        | paro             | de la UTA no              |\n| 1 | 2 | tiene relación con el | paro | de Moyano.                    | tiene relación con el     | paro             | de Moyano.                |\n| 1 | 3 | El nuevo | paro | de colectivos es total.                    | El nuevo                  | paro             | de colectivos es total.   |\n| 2 | 1 | los choferes resolvió el | paro | por un atraso salarial.    | los choferes resolvió el  | paro             | por un atraso salarial.   |\n| 2 | 2 | El | paro | es total.                                        | El                        | paro             | es total.                 |\n| 3 | 1 | los choferes resolvió el | paro | por un atraso salarial.    | los choferes resolvió el  | paro             | por un atraso salarial.   |\n| 4 | 1 | Automotor (UTA) inició un | paro | por tiempo indeterminado. | Automotor (UTA) inició un | paro             | por tiempo indeterminado. |\n| 4 | 2 | choferes que están en | paro | por tiempo indeterminado.     | choferes que están en     | paro             | por tiempo indeterminado. |\n| 3 | 1 | La | medida de fuerza | comenzó a partir de                  | La                        | medida de fuerza | comenzó a partir de       |\n\n",
            "text/latex": "A data.frame: 10 × 6\n\\begin{tabular}{llllll}\n doc\\_id & oraciones\\_id & texto & w\\_izq & key & w\\_der\\\\\n <int> & <int> & <chr> & <chr> & <chr> & <chr>\\\\\n\\hline\n\t 1 & 1 & La UTA inició un \\textbar{} paro \\textbar{} por tiempo indeterminado.          & La UTA inició un          & paro             & por tiempo indeterminado.\\\\\n\t 1 & 2 & El \\textbar{} paro \\textbar{} de la UTA no                                     & El                        & paro             & de la UTA no             \\\\\n\t 1 & 2 & tiene relación con el \\textbar{} paro \\textbar{} de Moyano.                    & tiene relación con el     & paro             & de Moyano.               \\\\\n\t 1 & 3 & El nuevo \\textbar{} paro \\textbar{} de colectivos es total.                    & El nuevo                  & paro             & de colectivos es total.  \\\\\n\t 2 & 1 & los choferes resolvió el \\textbar{} paro \\textbar{} por un atraso salarial.    & los choferes resolvió el  & paro             & por un atraso salarial.  \\\\\n\t 2 & 2 & El \\textbar{} paro \\textbar{} es total.                                        & El                        & paro             & es total.                \\\\\n\t 3 & 1 & los choferes resolvió el \\textbar{} paro \\textbar{} por un atraso salarial.    & los choferes resolvió el  & paro             & por un atraso salarial.  \\\\\n\t 4 & 1 & Automotor (UTA) inició un \\textbar{} paro \\textbar{} por tiempo indeterminado. & Automotor (UTA) inició un & paro             & por tiempo indeterminado.\\\\\n\t 4 & 2 & choferes que están en \\textbar{} paro \\textbar{} por tiempo indeterminado.     & choferes que están en     & paro             & por tiempo indeterminado.\\\\\n\t 3 & 1 & La \\textbar{} medida de fuerza \\textbar{} comenzó a partir de                  & La                        & medida de fuerza & comenzó a partir de      \\\\\n\\end{tabular}\n",
            "text/plain": [
              "   doc_id oraciones_id\n",
              "1  1      1           \n",
              "2  1      2           \n",
              "3  1      2           \n",
              "4  1      3           \n",
              "5  2      1           \n",
              "6  2      2           \n",
              "7  3      1           \n",
              "8  4      1           \n",
              "9  4      2           \n",
              "10 3      1           \n",
              "   texto                                                       \n",
              "1  La UTA inició un | paro | por tiempo indeterminado.         \n",
              "2  El | paro | de la UTA no                                    \n",
              "3  tiene relación con el | paro | de Moyano.                   \n",
              "4  El nuevo | paro | de colectivos es total.                   \n",
              "5  los choferes resolvió el | paro | por un atraso salarial.   \n",
              "6  El | paro | es total.                                       \n",
              "7  los choferes resolvió el | paro | por un atraso salarial.   \n",
              "8  Automotor (UTA) inició un | paro | por tiempo indeterminado.\n",
              "9  choferes que están en | paro | por tiempo indeterminado.    \n",
              "10 La | medida de fuerza | comenzó a partir de                 \n",
              "   w_izq                     key              w_der                    \n",
              "1  La UTA inició un          paro             por tiempo indeterminado.\n",
              "2  El                        paro             de la UTA no             \n",
              "3  tiene relación con el     paro             de Moyano.               \n",
              "4  El nuevo                  paro             de colectivos es total.  \n",
              "5  los choferes resolvió el  paro             por un atraso salarial.  \n",
              "6  El                        paro             es total.                \n",
              "7  los choferes resolvió el  paro             por un atraso salarial.  \n",
              "8  Automotor (UTA) inició un paro             por tiempo indeterminado.\n",
              "9  choferes que están en     paro             por tiempo indeterminado.\n",
              "10 La                        medida de fuerza comenzó a partir de      "
            ]
          },
          "metadata": {}
        }
      ]
    },
    {
      "cell_type": "code",
      "source": [
        "acep_context(acep_clean(texto2), c(\"paro\", \"medida fuerza\"), izq = 4, der = 4)"
      ],
      "metadata": {
        "id": "r_w26zb7WFfF",
        "outputId": "3a0b79d2-405d-465f-d5b4-d546459e25d5",
        "colab": {
          "base_uri": "https://localhost:8080/",
          "height": 317
        }
      },
      "execution_count": null,
      "outputs": [
        {
          "output_type": "display_data",
          "data": {
            "text/html": [
              "<table class=\"dataframe\">\n",
              "<caption>A data.frame: 7 × 6</caption>\n",
              "<thead>\n",
              "\t<tr><th scope=col>doc_id</th><th scope=col>oraciones_id</th><th scope=col>texto</th><th scope=col>w_izq</th><th scope=col>key</th><th scope=col>w_der</th></tr>\n",
              "\t<tr><th scope=col>&lt;int&gt;</th><th scope=col>&lt;int&gt;</th><th scope=col>&lt;chr&gt;</th><th scope=col>&lt;chr&gt;</th><th scope=col>&lt;chr&gt;</th><th scope=col>&lt;chr&gt;</th></tr>\n",
              "</thead>\n",
              "<tbody>\n",
              "\t<tr><td>1</td><td>1</td><td>uta inicio | paro | tiempo indeterminado paro uta                          </td><td>uta inicio                      </td><td>paro         </td><td>tiempo indeterminado paro uta    </td></tr>\n",
              "\t<tr><td>1</td><td>1</td><td> relacion | paro | moyano nuevo paro colectivos                            </td><td>relacion                        </td><td>paro         </td><td>moyano nuevo paro colectivos     </td></tr>\n",
              "\t<tr><td>2</td><td>1</td><td>gremio nuclea choferes resolvio | paro | atraso salarial paro total        </td><td>gremio nuclea choferes resolvio </td><td>paro         </td><td>atraso salarial paro total       </td></tr>\n",
              "\t<tr><td>3</td><td>1</td><td>gremio nuclea choferes resolvio | paro | atraso salarial                   </td><td>gremio nuclea choferes resolvio </td><td>paro         </td><td>atraso salarial                  </td></tr>\n",
              "\t<tr><td>4</td><td>1</td><td>tranviarios automotor uta inicio | paro | tiempo indeterminado partir segun</td><td>tranviarios automotor uta inicio</td><td>paro         </td><td>tiempo indeterminado partir segun</td></tr>\n",
              "\t<tr><td>4</td><td>1</td><td>gremio nuclea choferes estan | paro | tiempo indeterminado                 </td><td>gremio nuclea choferes estan    </td><td>paro         </td><td>tiempo indeterminado             </td></tr>\n",
              "\t<tr><td>3</td><td>1</td><td>| medida fuerza | comenzo partir gremio nuclea                             </td><td>                                </td><td>medida fuerza</td><td>comenzo partir gremio nuclea     </td></tr>\n",
              "</tbody>\n",
              "</table>\n"
            ],
            "text/markdown": "\nA data.frame: 7 × 6\n\n| doc_id &lt;int&gt; | oraciones_id &lt;int&gt; | texto &lt;chr&gt; | w_izq &lt;chr&gt; | key &lt;chr&gt; | w_der &lt;chr&gt; |\n|---|---|---|---|---|---|\n| 1 | 1 | uta inicio | paro | tiempo indeterminado paro uta                           | uta inicio                       | paro          | tiempo indeterminado paro uta     |\n| 1 | 1 |  relacion | paro | moyano nuevo paro colectivos                             | relacion                         | paro          | moyano nuevo paro colectivos      |\n| 2 | 1 | gremio nuclea choferes resolvio | paro | atraso salarial paro total         | gremio nuclea choferes resolvio  | paro          | atraso salarial paro total        |\n| 3 | 1 | gremio nuclea choferes resolvio | paro | atraso salarial                    | gremio nuclea choferes resolvio  | paro          | atraso salarial                   |\n| 4 | 1 | tranviarios automotor uta inicio | paro | tiempo indeterminado partir segun | tranviarios automotor uta inicio | paro          | tiempo indeterminado partir segun |\n| 4 | 1 | gremio nuclea choferes estan | paro | tiempo indeterminado                  | gremio nuclea choferes estan     | paro          | tiempo indeterminado              |\n| 3 | 1 | | medida fuerza | comenzo partir gremio nuclea                              | <!----> | medida fuerza | comenzo partir gremio nuclea      |\n\n",
            "text/latex": "A data.frame: 7 × 6\n\\begin{tabular}{llllll}\n doc\\_id & oraciones\\_id & texto & w\\_izq & key & w\\_der\\\\\n <int> & <int> & <chr> & <chr> & <chr> & <chr>\\\\\n\\hline\n\t 1 & 1 & uta inicio \\textbar{} paro \\textbar{} tiempo indeterminado paro uta                           & uta inicio                       & paro          & tiempo indeterminado paro uta    \\\\\n\t 1 & 1 &  relacion \\textbar{} paro \\textbar{} moyano nuevo paro colectivos                             & relacion                         & paro          & moyano nuevo paro colectivos     \\\\\n\t 2 & 1 & gremio nuclea choferes resolvio \\textbar{} paro \\textbar{} atraso salarial paro total         & gremio nuclea choferes resolvio  & paro          & atraso salarial paro total       \\\\\n\t 3 & 1 & gremio nuclea choferes resolvio \\textbar{} paro \\textbar{} atraso salarial                    & gremio nuclea choferes resolvio  & paro          & atraso salarial                  \\\\\n\t 4 & 1 & tranviarios automotor uta inicio \\textbar{} paro \\textbar{} tiempo indeterminado partir segun & tranviarios automotor uta inicio & paro          & tiempo indeterminado partir segun\\\\\n\t 4 & 1 & gremio nuclea choferes estan \\textbar{} paro \\textbar{} tiempo indeterminado                  & gremio nuclea choferes estan     & paro          & tiempo indeterminado             \\\\\n\t 3 & 1 & \\textbar{} medida fuerza \\textbar{} comenzo partir gremio nuclea                              &                                  & medida fuerza & comenzo partir gremio nuclea     \\\\\n\\end{tabular}\n",
            "text/plain": [
              "  doc_id oraciones_id\n",
              "1 1      1           \n",
              "2 1      1           \n",
              "3 2      1           \n",
              "4 3      1           \n",
              "5 4      1           \n",
              "6 4      1           \n",
              "7 3      1           \n",
              "  texto                                                                      \n",
              "1 uta inicio | paro | tiempo indeterminado paro uta                          \n",
              "2  relacion | paro | moyano nuevo paro colectivos                            \n",
              "3 gremio nuclea choferes resolvio | paro | atraso salarial paro total        \n",
              "4 gremio nuclea choferes resolvio | paro | atraso salarial                   \n",
              "5 tranviarios automotor uta inicio | paro | tiempo indeterminado partir segun\n",
              "6 gremio nuclea choferes estan | paro | tiempo indeterminado                 \n",
              "7 | medida fuerza | comenzo partir gremio nuclea                             \n",
              "  w_izq                            key          \n",
              "1 uta inicio                       paro         \n",
              "2 relacion                         paro         \n",
              "3 gremio nuclea choferes resolvio  paro         \n",
              "4 gremio nuclea choferes resolvio  paro         \n",
              "5 tranviarios automotor uta inicio paro         \n",
              "6 gremio nuclea choferes estan     paro         \n",
              "7                                  medida fuerza\n",
              "  w_der                            \n",
              "1 tiempo indeterminado paro uta    \n",
              "2 moyano nuevo paro colectivos     \n",
              "3 atraso salarial paro total       \n",
              "4 atraso salarial                  \n",
              "5 tiempo indeterminado partir segun\n",
              "6 tiempo indeterminado             \n",
              "7 comenzo partir gremio nuclea     "
            ]
          },
          "metadata": {}
        }
      ]
    }
  ]
}