{
  "nbformat": 4,
  "nbformat_minor": 0,
  "metadata": {
    "colab": {
      "provenance": [],
      "authorship_tag": "ABX9TyNIawzzfeaVsKt0AiK5suhf",
      "include_colab_link": true
    },
    "kernelspec": {
      "name": "ir",
      "display_name": "R"
    },
    "language_info": {
      "name": "R"
    }
  },
  "cells": [
    {
      "cell_type": "markdown",
      "metadata": {
        "id": "view-in-github",
        "colab_type": "text"
      },
      "source": [
        "<a href=\"https://colab.research.google.com/github/agusnieto77/taller_pict_2019/blob/main/Colabs/ACEP_funciones_existentes_II.ipynb\" target=\"_parent\"><img src=\"https://colab.research.google.com/assets/colab-badge.svg\" alt=\"Open In Colab\"/></a>"
      ]
    },
    {
      "cell_type": "markdown",
      "source": [
        "# Ejercicio 2"
      ],
      "metadata": {
        "id": "mxHA5aNWT3pn"
      }
    },
    {
      "cell_type": "code",
      "execution_count": null,
      "metadata": {
        "id": "ThmpIJYljSTT"
      },
      "outputs": [],
      "source": [
        "install.packages(\"ACEP\")"
      ]
    },
    {
      "cell_type": "code",
      "source": [
        "require(ACEP)"
      ],
      "metadata": {
        "id": "yvhkmoqEjvZO"
      },
      "execution_count": null,
      "outputs": []
    },
    {
      "cell_type": "code",
      "source": [
        "dic_conf <- acep_load_base(acep_diccionarios$dicc_confl_sismos)\n",
        "print(dic_conf)"
      ],
      "metadata": {
        "id": "VQ6sBePJVNCX"
      },
      "execution_count": null,
      "outputs": []
    },
    {
      "cell_type": "code",
      "source": [
        "texto_limpio <- acep_clean(\n",
        "    \"\n",
        "    La UTA inició un paro de colectivos por tiempo indeterminado\n",
        "    El gremio que nuclea a los choferes lo resolvió por un atraso salarial. \n",
        "    La medida de fuerza comenzó a partir de las 18.\n",
        "    Por un atraso salarial, la Unión Tranviarios Automotor (UTA) inició un paro \n",
        "    por tiempo indeterminado a partir de las 18 de este lunes, según \n",
        "    confirmaron fuentes del gremio que nuclea a los choferes.\n",
        "    \"\n",
        ")\n",
        "texto_limpio"
      ],
      "metadata": {
        "id": "ubZxi3WJj2Se",
        "outputId": "cb8cb144-b840-42a1-8947-576f24c33038",
        "colab": {
          "base_uri": "https://localhost:8080/",
          "height": 52
        }
      },
      "execution_count": 11,
      "outputs": [
        {
          "output_type": "display_data",
          "data": {
            "text/html": [
              "'uta inicio paro colectivos tiempo indeterminado gremio nuclea choferes resolvio atraso salarial medida fuerza comenzo partir atraso salarial union tranviarios automotor uta inicio paro tiempo indeterminado partir segun confirmaron fuentes gremio nuclea choferes'"
            ],
            "text/markdown": "'uta inicio paro colectivos tiempo indeterminado gremio nuclea choferes resolvio atraso salarial medida fuerza comenzo partir atraso salarial union tranviarios automotor uta inicio paro tiempo indeterminado partir segun confirmaron fuentes gremio nuclea choferes'",
            "text/latex": "'uta inicio paro colectivos tiempo indeterminado gremio nuclea choferes resolvio atraso salarial medida fuerza comenzo partir atraso salarial union tranviarios automotor uta inicio paro tiempo indeterminado partir segun confirmaron fuentes gremio nuclea choferes'",
            "text/plain": [
              "[1] \"uta inicio paro colectivos tiempo indeterminado gremio nuclea choferes resolvio atraso salarial medida fuerza comenzo partir atraso salarial union tranviarios automotor uta inicio paro tiempo indeterminado partir segun confirmaron fuentes gremio nuclea choferes\""
            ]
          },
          "metadata": {}
        }
      ]
    },
    {
      "cell_type": "code",
      "source": [
        "count_men <- acep_rs(texto_limpio)\n",
        "count_men"
      ],
      "metadata": {
        "id": "uhOCAIp4kOAm",
        "outputId": "2d977ba0-f76d-40a5-e33d-127b3e9e68e6",
        "colab": {
          "base_uri": "https://localhost:8080/",
          "height": 96
        }
      },
      "execution_count": 14,
      "outputs": [
        {
          "output_type": "error",
          "ename": "ERROR",
          "evalue": "ignored",
          "traceback": [
            "Error in acep_rs(texto_limpio): could not find function \"acep_rs\"\nTraceback:\n"
          ]
        }
      ]
    },
    {
      "cell_type": "code",
      "source": [
        "acep_token_table(uta$token)"
      ],
      "metadata": {
        "id": "-6YhRzyBk5ln"
      },
      "execution_count": null,
      "outputs": []
    },
    {
      "cell_type": "code",
      "source": [
        "acep_token_plot(uta$token)"
      ],
      "metadata": {
        "id": "cEG8Iam6lebX"
      },
      "execution_count": null,
      "outputs": []
    }
  ]
}