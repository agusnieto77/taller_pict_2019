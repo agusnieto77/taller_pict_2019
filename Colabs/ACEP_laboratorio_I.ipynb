{
  "cells": [
    {
      "cell_type": "markdown",
      "metadata": {
        "id": "view-in-github",
        "colab_type": "text"
      },
      "source": [
        "<a href=\"https://colab.research.google.com/github/agusnieto77/taller_pict_2019/blob/main/Colabs/ACEP_laboratorio_I.ipynb\" target=\"_parent\"><img src=\"https://colab.research.google.com/assets/colab-badge.svg\" alt=\"Open In Colab\"/></a>"
      ]
    },
    {
      "cell_type": "markdown",
      "id": "87857393-6369-4b66-87c9-5f3253edf28e",
      "metadata": {
        "id": "87857393-6369-4b66-87c9-5f3253edf28e"
      },
      "source": [
        "# Resumiendo\n",
        "Pasar de textos largos a cortos para luego extraer acciones y tripletes"
      ]
    },
    {
      "cell_type": "markdown",
      "source": [
        "### Instalo las librerías que voy a utilizar en el Colab"
      ],
      "metadata": {
        "id": "0fRRgehRf9Jn"
      },
      "id": "0fRRgehRf9Jn"
    },
    {
      "cell_type": "code",
      "source": [
        "!pip install openai"
      ],
      "metadata": {
        "id": "3r68YtqdgNC-"
      },
      "id": "3r68YtqdgNC-",
      "execution_count": null,
      "outputs": []
    },
    {
      "cell_type": "markdown",
      "source": [
        "### Ahora monto el Drive"
      ],
      "metadata": {
        "id": "H4InHPhUeUu_"
      },
      "id": "H4InHPhUeUu_"
    },
    {
      "cell_type": "code",
      "source": [
        "from google.colab import drive\n",
        "drive.mount('/content/drive')"
      ],
      "metadata": {
        "id": "pDtghW0Tegpw"
      },
      "id": "pDtghW0Tegpw",
      "execution_count": null,
      "outputs": []
    },
    {
      "cell_type": "markdown",
      "source": [
        "### Cargo la API Key de OpenAI"
      ],
      "metadata": {
        "id": "Ix8sGBqYd58v"
      },
      "id": "Ix8sGBqYd58v"
    },
    {
      "cell_type": "code",
      "execution_count": 3,
      "id": "8ac673e1",
      "metadata": {
        "id": "8ac673e1"
      },
      "outputs": [],
      "source": [
        "import openai\n",
        "import os\n",
        "\n",
        "openai.api_key_path = \"/content/drive/MyDrive/Colab Notebooks/gpt.txt\""
      ]
    },
    {
      "cell_type": "markdown",
      "source": [
        "### Creo la función para interactuar con el modelo gpt 3.5 turbo"
      ],
      "metadata": {
        "id": "28V1VAWrQkkG"
      },
      "id": "28V1VAWrQkkG"
    },
    {
      "cell_type": "code",
      "execution_count": 4,
      "id": "66de8ca6",
      "metadata": {
        "id": "66de8ca6"
      },
      "outputs": [],
      "source": [
        "def get_completion(prompt, model=\"gpt-3.5-turbo\"):\n",
        "    messages = [{\"role\": \"user\", \"content\": prompt}]\n",
        "    response = openai.ChatCompletion.create(\n",
        "        model=model,\n",
        "        messages=messages,\n",
        "        temperature=0, # es el grado de aleatoriedad de los resultados del modelo\n",
        "    )\n",
        "    return response.choices[0].message[\"content\"]\n"
      ]
    },
    {
      "cell_type": "markdown",
      "id": "387b0686-bea6-41a2-b879-88721dc0ec10",
      "metadata": {
        "id": "387b0686-bea6-41a2-b879-88721dc0ec10"
      },
      "source": [
        "### Nota a resumir"
      ]
    },
    {
      "cell_type": "code",
      "execution_count": 5,
      "id": "0ce2cf3c",
      "metadata": {
        "id": "0ce2cf3c",
        "colab": {
          "base_uri": "https://localhost:8080/"
        },
        "outputId": "8172f630-314f-4e4f-b61e-ab85cb9d1768"
      },
      "outputs": [
        {
          "output_type": "stream",
          "name": "stdout",
          "text": [
            "344\n"
          ]
        }
      ],
      "source": [
        "nota_completa = \"\"\"\n",
        "La Unión Tranviarios Automotor (UTA) anunció un paro de colectivos en \\\n",
        "todo el país a partir de esta medianoche por un reclamo salarial. \n",
        "“Las empresas niegan la posibilidad de un aumento salarial y los \\\n",
        "sueldos de los trabajadores requieren un aumento urgente”, argumentaron.\n",
        "\n",
        "La medida de fuerza es por 24 horas y comenzará a primera hora de este \\\n",
        "viernes en todo el territorio nacional, según confirmó el gremio que \\\n",
        "nuclea a los choferes.\n",
        "\n",
        "“La medida de fuerza es empujada por quienes tienen la responsabilidad \\\n",
        "de solucionar la grave crisis en la que están poniendo al transporte por \\\n",
        "todos los efectos “dañosos” que causan, afectando a los 10 millones de \\\n",
        "usuarios diarios del AMBA y 9 millones en el interior del país, poniendo \\\n",
        "seriamente en riesgo la seguridad pública, por lo que será la exclusiva \\\n",
        "responsabilidad del sector empresario, de las máximas autoridades del \\\n",
        "Ministerio de Trasporte de la Nación, de los responsables del Transporte \\\n",
        "en las provincias y el gobierno de la Ciudad Autónoma de Buenos Aires \\\n",
        "por la falta de acuerdo salarial”, explicó la UTA en un comunicado.\n",
        "\n",
        "No obstante, el inicio del paro dependerá de la decisión que adopte el \\\n",
        "Ministerio de Trabajo hasta las 0 de este viernes, ya que podría dictar \\\n",
        "la conciliación obligatoria.\n",
        "\n",
        "Vale remarcar que hace una semana la agrupación Juan Manuel Palacios \\\n",
        "(una de las facciones de la UTA) había anunciado un paro para el viernes \\\n",
        "por una disputa interna sindical pero finalmente decidió levantar \\\n",
        "la medida de fuerza.\n",
        "\n",
        "La organización tomó la decisión durante un plenario que se llevó a cabo \\\n",
        "en el salón de asamblea de la sede sindical del la Unión Tranviarios Automotor \\\n",
        "(UTA) ubicada en la calle Belgrano 4575, a la cual ingresaron el lunes \\\n",
        "argumentando que les “correspondía” por el resultado de las elecciones del \\\n",
        "gremio que se desarrollaron en diciembre a nivel nacional.\n",
        "\n",
        "Cabe recordar que por aquellos comicios comenzó la controversia que se \\\n",
        "extiende hasta hoy. Es que a nivel nacional se impuso Roberto Fernández, con \\\n",
        "un 70% de los votos, sobre la lista que encabezó el opositor Miguel Bustinduy.\n",
        "\"\"\"\n",
        "print(len(nota_completa.split()))"
      ]
    },
    {
      "cell_type": "markdown",
      "id": "5d95eba0-7744-491a-a30a-8ee687303b7a",
      "metadata": {
        "id": "5d95eba0-7744-491a-a30a-8ee687303b7a"
      },
      "source": [
        "### Parámetros de la petición a GPT"
      ]
    },
    {
      "cell_type": "code",
      "execution_count": 31,
      "id": "0c3023c6",
      "metadata": {
        "id": "0c3023c6",
        "colab": {
          "base_uri": "https://localhost:8080/"
        },
        "outputId": "1bcb31d0-cf3c-4740-c5a5-590936641344"
      },
      "outputs": [
        {
          "output_type": "stream",
          "name": "stdout",
          "text": [
            "La UTA convocó a un paro de colectivos en todo el país por 24 horas a partir de la medianoche por un reclamo salarial. [laboral]\n",
            "Cantidad de palabras:  25\n"
          ]
        }
      ],
      "source": [
        "prompt = f\"\"\"\n",
        "Su tarea es generar un breve resumen de una nota \\\n",
        "periodística sobre acciones de protesta en Argentina. \\\n",
        "Debe concentrarse en cualquier aspecto que sea relevantes para \\\n",
        "identificar el hecho de protesta. El resumen debe incluir \\\n",
        "los sujetos las acciones, los motivos, los objetivos, el \\\n",
        "contra quién o qué, el lugar de los hechos. \n",
        "\n",
        "Resuma la nota que aparece a continuación en un máximo de 35 palabras. \n",
        "Luego defina el tópico de la nota según  estas etiquetas: \\\n",
        "'laboral', 'abiental', 'vecinal', 'otro'. Incluya la etiqueta \\\n",
        "entre [...] al final del resumen.\n",
        "\n",
        "La nota a resumir (máximo de 35 palabras) aparece a continuación \\\n",
        "delimitada por '```': ```{nota_completa}```\n",
        "\"\"\"\n",
        "\n",
        "respuesta = get_completion(prompt)\n",
        "print(respuesta)\n",
        "print(\"Cantidad de palabras: \", len(respuesta.split()))\n",
        "\n",
        "# La UTA convocó a un paro de colectivos en todo el país por 24 horas a       # La UTA convocó a un paro de colectivos en todo el país por 24 horas a \n",
        "# partir de la medianoche por un reclamo salarial. El gremio argumentó        # partir de la medianoche por un reclamo salarial. La medida de fuerza es \n",
        "# que las empresas niegan la posibilidad de un aumento salarial y que los     # empujada por la falta de acuerdo salarial y la responsabilidad de solucionar \n",
        "# sueldos de los trabajadores requieren un aumento urgente. La medida de      # la crisis en el transporte. El inicio del paro dependerá de la decisión del \n",
        "# fuerza dependerá de la decisión que adopte el Ministerio de Trabajo         # Ministerio de Trabajo.\n",
        "# hasta las 0 de este viernes.\n",
        "\n",
        "# La UTA convocó a un paro de colectivos en todo el país por 24 horas a       # La UTA convocó a un paro de colectivos en todo el país por 24 horas a partir \n",
        "# partir de la medianoche por un reclamo salarial. La medida de fuerza es     # de la medianoche por un reclamo salarial. La medida de fuerza es empujada por \n",
        "# empujada por las empresas que niegan la posibilidad de un aumento salarial  # la falta de acuerdo salarial y la responsabilidad de solucionar la crisis en \n",
        "# y afecta a los 10 millones de usuarios diarios del AMBA y 9 millones en el  # el transporte. El inicio del paro dependerá de la decisión del Ministerio de Trabajo.\n",
        "# interior del país.\n"
      ]
    },
    {
      "cell_type": "markdown",
      "id": "f513da2e-f89c-4c91-8456-b79c630e70c9",
      "metadata": {
        "id": "f513da2e-f89c-4c91-8456-b79c630e70c9"
      },
      "source": [
        "## Resumir varias notas sobre protesta"
      ]
    },
    {
      "cell_type": "markdown",
      "source": [
        "### Notas"
      ],
      "metadata": {
        "id": "4JdB4UBpRWnF"
      },
      "id": "4JdB4UBpRWnF"
    },
    {
      "cell_type": "code",
      "execution_count": 13,
      "id": "027822c2",
      "metadata": {
        "id": "027822c2"
      },
      "outputs": [],
      "source": [
        "# Amenaza de paro\n",
        "nota_1 = nota_completa \n",
        "\n",
        "# paro docente\n",
        "nota_2 = \"\"\"\n",
        "El paro de 48 horas de Suteba Multicolor, que comenzó este miércoles y se \\\n",
        "extenderá durante el jueves, afecta a más de 50 escuelas y jardines de Mar \\\n",
        "del Plata, aseguraron desde la propia organización sindical que impulsó la \\\n",
        "medida de fuerza en reclamo de mejoras salariales.\n",
        "\n",
        "El acatamiento es dispar en distintos establecimientos de educación inicial, \\\n",
        "primaria y secundaria dependientes de la Provincia, aunque en algunos es total, \\\n",
        "agregaron desde la facción disidente a Roberto Baradel en la gestión del \\\n",
        "Sindicato Unificado de Trabajadores de la Educación de Buenos Aires (Suteba).\n",
        "\n",
        "“La jornada se está desarrollando muy bien, con un alto acatamiento al paro \\\n",
        "en el distrito de General Puyrredon. Hay escuelas que directamente no tienen \\\n",
        "actividad”, indicó una de las referentes de Suteba Multicolor en Mar del Plata, \\\n",
        "Fernanda Díaz, en diálogo con LA CAPITAL.\n",
        "\n",
        "“Al no tener respuestas seguramente va a haber otra medida de fuerza, porque no \\\n",
        "solamente es el reclamo salarial, sino que hay muchos reclamos. Como se ha \\\n",
        "resuelto este paro, seguramente habrá una nueva instancia de reunión y \\\n",
        "democráticamente se verá cómo se sigue”, agregó Díaz.\n",
        "\n",
        "Desde Suteba Mulitcolor solicitan “un salario inicial igual a la canasta \\\n",
        "familiar por cargo, en blanco e indexado por inflación”.\n",
        "\n",
        "“Rechazamos el último acuerdo del Gobierno con el Suteba y todo el Frente de \\\n",
        "Unidad Docente Bonaerense (FUDB) por insuficiente e inconsulto. El mismo no \\\n",
        "representa un aumento, solo un adelanto dividido en 2 partes, que hace que la \\\n",
        "docencia continúe con salarios por debajo de la canasta familiar de pobreza \\\n",
        "por cargo. Este ajuste se paga con salud, teniendo que trabajar doble o triple \\\n",
        "cargo”, remarcan los docentes.\n",
        "\n",
        "Además, entre los reclamamos figuran el pedido de una “plena cobertura del º\n",
        "IOMA sin co-pagos” y el rechazo a la “precarización y sobrecarga laboral”.\n",
        "\n",
        "“Queremos escuelas en condiciones, dignas para trabajar y estudiar, no \\\n",
        "podemos seguir tolerando las demoras en los trámites jubilatorios y queremos \\\n",
        "ejercer el derecho a huelga, contra las amenazas y aprietes que hemos sufrido \\\n",
        "y estamos soportando por ejercer este legítimo derecho”, expresaron desde \\\n",
        "Suteba Multicolor a través de un comunicado.\n",
        "\n",
        "Para visibilizar su reclamo, los docentes se concentraron este miércoles \\\n",
        "desde las 10.30 en Luro e Yrigoyen y el jueves a la misma hora lo harán \\\n",
        "en el Consejo Escolar. \n",
        "\"\"\"\n",
        "\n",
        "# protesta ambientalista\n",
        "nota_3 = \"\"\"\n",
        "Un grupo de militantes ambientalistas volvieron a vandalizar la sede de la \\\n",
        "Confederación General del Trabajo (CGT) Regional Mar del Plata en repudio al \\\n",
        "apoyo de la central obrera al proyecto de exploración petrolera que se \\\n",
        "realizará a 300 km de la costa local.\n",
        "\n",
        "Al igual que hace un año, en puerta de la sede de la CGT ubicada en la calle \\\n",
        "Catamarca se colgó una bandera con la leyenda “Clausurado por Ecocidas”, \\\n",
        "mientras que también se pegaron carteles apuntando a los dirigentes sindicales \\\n",
        "Miguel Guglielmotti y Adriana Donzelli.\n",
        "\n",
        "“El avance de las petroleras sobre el mar es posible por la complicidad de las \\\n",
        "burocracias sindicales al frente de la CGT”, señalaron los ambientalistas y \\\n",
        "agregaron que “actuando como representantes de las empresas  estuvieron \\\n",
        "presentes en encuentros como el GIAL o ADN Marítimo, y la recientemente creada \\\n",
        "“mesa del offshore “, para explicar los supuestos beneficios que traería el \\\n",
        "proyecto ecocida a nuestra ciudad: miles de puestos de trabajo  que se crearían \\\n",
        "a partir de la instalación de petroleras costa afuera y petrodólares que se van \\\n",
        "a llevar Equinor y los accionistas de YPF, como si fueran propios”.\n",
        "\n",
        "Por último, anunciaron que “a pesar de la campaña propetrolera que impulsan \\\n",
        "estos burócratas entreguistas, seguiremos en las calles que son y serán \\\n",
        "nuestras, de los pueblos que luchan”.\n",
        "\n",
        "El proyecto \n",
        "\n",
        "En diciembre del año pasado, la Cámara Federal de Apelaciones de Mar del Plata \\\n",
        "resolvió dejar sin efecto una medida cautelar y habilitó las operaciones a más \\\n",
        "de 300 kilómetros de las costas marplatenses para la exploración petrolera, \\\n",
        "al considerar que el Gobierno y la empresa Equinor cumplieron con los \\\n",
        "requisitos que les fueron requeridos.\n",
        "\n",
        "El proyecto implica la perforación de un pozo exploratorio en el bloque \\\n",
        "CAN-100 de la Cuenca Argentina Norte.\n",
        "\n",
        "El pozo exploratorio Argerich es el primer pozo de aguas profundas que se \\\n",
        "realizará a 300 kilómetros mar adentro, en el bloque CAN-100, operado por \\\n",
        "Equinor en consorcio con las empresas YPF y Shell Argentina.\n",
        "\n",
        "Los estudios preliminares realizados por YPF consideran que podría existir un \\\n",
        "yacimiento con capacidad de producir 200.000 barriles de petróleo día, \\\n",
        "equivalente a casi al 40% del petróleo que hoy produce la Argentina. \n",
        "\"\"\"\n",
        "\n",
        "# Protesta de familiares\n",
        "nota_4 = \"\"\"\n",
        "Familiares de integrantes de la Unidad Táctica de Operaciones Inmediatas \\\n",
        "(UTOI) de la Policía de la Provincia de Buenos Aires reclamaron que 235 \\\n",
        "efectivos no sean trasladados a La Matanza, como les indica una orden que \\\n",
        "recibieron en las últimas horas.\n",
        "\n",
        "Madres y hermanas de los policías explicaron que ayer llegaron las \\\n",
        "notificaciones. “Muchos ya están allá. Les están dando para hacer un 3 por 6: \\\n",
        "tres días de guardia y seis de franco”, dijo una de ellas en declaraciones a \\\n",
        "Canal 8, en el marco de una protesta a las puertas de la Municipalidad. “Es \\\n",
        "una locura. No les da para el tiempo de volver a sus lugares de destino”, agregó.\n",
        "\n",
        "Los familiares dicen que se trataría de “una decisión del ministro de \\\n",
        "Seguridad”, Sergio Berni, que está de licencia. “En la base de acá les dicen \\\n",
        "que no pueden hacer absolutamente nada, que es una decisión de más arriba. \\\n",
        "Suponemos que del ministro, pero como está de licencia no sabemos a quién \\\n",
        "reclamarle”, afirmó.\n",
        "\n",
        "Mensajes como “Mar del Plata también necesita seguridad” o “No a los traslados \\\n",
        "a La Matanza” figuraban en los carteles que las familias llevaron a la protesta. \\\n",
        "“¿Por qué recibir a esos chicos recién recibidos a La Matanza, que es un \\\n",
        "matadero”, se quejó otra de las manifestantes. “En Mar del Plata necesitamos \\\n",
        "más seguridad y esos chicos recén están saliendo y tienen familia acá”, explicó.\n",
        "\n",
        "Al tanto de la situación, en el gobierno municipal se limitaron a decir que se \\\n",
        "están realizando las gestiones necesarias para “evitar los traslados”.\n",
        "\"\"\"\n",
        "\n",
        "notas = [nota_1, nota_2, nota_3, nota_4]\n",
        "\n"
      ]
    },
    {
      "cell_type": "markdown",
      "source": [
        "### Petición"
      ],
      "metadata": {
        "id": "NYxOoBYORUz1"
      },
      "id": "NYxOoBYORUz1"
    },
    {
      "cell_type": "code",
      "execution_count": 39,
      "id": "b7c39cc8",
      "metadata": {
        "id": "b7c39cc8",
        "colab": {
          "base_uri": "https://localhost:8080/"
        },
        "outputId": "05425d00-4b7a-4d39-8642-cdf919803554"
      },
      "outputs": [
        {
          "output_type": "stream",
          "name": "stdout",
          "text": [
            "{\n",
            "    \"resumen\": \"La UTA convocó a un paro de colectivos en todo el país por un reclamo salarial, argumentando que las empresas niegan la posibilidad de un aumento salarial y los sueldos de los trabajadores requieren un aumento urgente. La medida de fuerza es por 24 horas y comenzará a primera hora de este viernes en todo el territorio nacional.\",\n",
            "    \"etiqueta\": \"laboral\"\n",
            "}\n",
            "{\n",
            "    \"resumen\": \"El paro de 48 horas de Suteba Multicolor en Mar del Plata afecta a más de 50 escuelas y jardines en reclamo de mejoras salariales, plena cobertura del IOMA sin co-pagos y contra la precarización y sobrecarga laboral.\",\n",
            "    \"etiqueta\": \"laboral\"\n",
            "}\n",
            "{\n",
            "    \"resumen\": \"Militantes ambientalistas vandalizaron la sede de la CGT Regional Mar del Plata en repudio al apoyo de la central obrera al proyecto de exploración petrolera a 300 km de la costa local. Se colgó una bandera con la leyenda “Clausurado por Ecocidas” y se pegaron carteles apuntando a los dirigentes sindicales Miguel Guglielmotti y Adriana Donzelli. Los ambientalistas señalaron la complicidad de las burocracias sindicales con las petroleras y anunciaron que seguirán en las calles. El proyecto implica la perforación de un pozo exploratorio en el bloque CAN-100 de la Cuenca Argentina Norte.\", \n",
            "    \"etiqueta\": \"ambiental\"\n",
            "}\n",
            "{\n",
            "  \"resumen\": \"Familiares de policías de la UTOI de la Policía de la Provincia de Buenos Aires protestan contra el traslado de 235 efectivos a La Matanza, alegando que no les da tiempo para volver a sus hogares. Se quejan de la falta de seguridad en Mar del Plata y culpan al ministro de Seguridad, Sergio Berni, que está de licencia.\",\n",
            "  \"etiqueta\": \"familiar\"\n",
            "}\n"
          ]
        }
      ],
      "source": [
        "json_notas = []\n",
        "for i in range(len(notas)):\n",
        "    prompt = f\"\"\"\n",
        "    Su tarea es generar un JSON que incluya solo 2 claves: 'resumen', 'etiqueta'\\\n",
        "    La clave 'resumen' debe ser un resumen de una nota \\\n",
        "    periodística sobre acciones de protesta en Argentina. \\\n",
        "    Debe concentrarse en cualquier aspecto que sea relevantes para \\\n",
        "    identificar el hecho de protesta. El resumen debe incluir \\\n",
        "    los sujetos las acciones, los motivos, los objetivos, el \\\n",
        "    contra quién o qué, el lugar de los hechos. \n",
        "    \n",
        "    Luego defina el tópico de la nota según  estas etiquetas: \\\n",
        "    'laboral', 'abiental', 'vecinal', 'familiar', 'otro'. \n",
        "    Incluya la etiqueta en la clave 'etiqueta'.\n",
        "\n",
        "    La nota a resumir (máximo de 35 palabras) aparece a continuación \\\n",
        "    delimitada por '```': ```{notas[i]}```\n",
        "    \"\"\"\n",
        "\n",
        "    respuesta = get_completion(prompt)\n",
        "\n",
        "    json_notas.append(respuesta)\n",
        "\n",
        "    print(respuesta)\n"
      ]
    },
    {
      "cell_type": "markdown",
      "source": [
        "### De json a formato tabular"
      ],
      "metadata": {
        "id": "xKsXGLTMRdO1"
      },
      "id": "xKsXGLTMRdO1"
    },
    {
      "cell_type": "code",
      "source": [
        "import pandas as pd\n",
        "import json\n",
        "from google.colab import data_table\n",
        "data_table.enable_dataframe_formatter()\n",
        "\n",
        "# Convertir cada elemento JSON en un diccionario\n",
        "jsons = [json.loads(item) for item in json_notas]\n",
        "\n",
        "# Crear el DataFrame\n",
        "df = pd.DataFrame(jsons)\n",
        "\n",
        "df"
      ],
      "metadata": {
        "colab": {
          "base_uri": "https://localhost:8080/",
          "height": 241
        },
        "id": "7tsgydvSEGqJ",
        "outputId": "7d03a59d-8b2c-4a6f-8c3b-7d2111e6b92a"
      },
      "id": "7tsgydvSEGqJ",
      "execution_count": 40,
      "outputs": [
        {
          "output_type": "execute_result",
          "data": {
            "text/plain": [
              "                                             resumen   etiqueta\n",
              "0  La UTA convocó a un paro de colectivos en todo...    laboral\n",
              "1  El paro de 48 horas de Suteba Multicolor en Ma...    laboral\n",
              "2  Militantes ambientalistas vandalizaron la sede...  ambiental\n",
              "3  Familiares de policías de la UTOI de la Policí...   familiar"
            ],
            "text/html": [
              "\n",
              "  <div id=\"df-ea7ef5f0-1813-451c-b7d1-eb3e1f82fcef\">\n",
              "    <div class=\"colab-df-container\">\n",
              "      <div>\n",
              "<style scoped>\n",
              "    .dataframe tbody tr th:only-of-type {\n",
              "        vertical-align: middle;\n",
              "    }\n",
              "\n",
              "    .dataframe tbody tr th {\n",
              "        vertical-align: top;\n",
              "    }\n",
              "\n",
              "    .dataframe thead th {\n",
              "        text-align: right;\n",
              "    }\n",
              "</style>\n",
              "<table border=\"1\" class=\"dataframe\">\n",
              "  <thead>\n",
              "    <tr style=\"text-align: right;\">\n",
              "      <th></th>\n",
              "      <th>resumen</th>\n",
              "      <th>etiqueta</th>\n",
              "    </tr>\n",
              "  </thead>\n",
              "  <tbody>\n",
              "    <tr>\n",
              "      <th>0</th>\n",
              "      <td>La UTA convocó a un paro de colectivos en todo...</td>\n",
              "      <td>laboral</td>\n",
              "    </tr>\n",
              "    <tr>\n",
              "      <th>1</th>\n",
              "      <td>El paro de 48 horas de Suteba Multicolor en Ma...</td>\n",
              "      <td>laboral</td>\n",
              "    </tr>\n",
              "    <tr>\n",
              "      <th>2</th>\n",
              "      <td>Militantes ambientalistas vandalizaron la sede...</td>\n",
              "      <td>ambiental</td>\n",
              "    </tr>\n",
              "    <tr>\n",
              "      <th>3</th>\n",
              "      <td>Familiares de policías de la UTOI de la Policí...</td>\n",
              "      <td>familiar</td>\n",
              "    </tr>\n",
              "  </tbody>\n",
              "</table>\n",
              "</div>\n",
              "      <button class=\"colab-df-convert\" onclick=\"convertToInteractive('df-ea7ef5f0-1813-451c-b7d1-eb3e1f82fcef')\"\n",
              "              title=\"Convert this dataframe to an interactive table.\"\n",
              "              style=\"display:none;\">\n",
              "        \n",
              "  <svg xmlns=\"http://www.w3.org/2000/svg\" height=\"24px\"viewBox=\"0 0 24 24\"\n",
              "       width=\"24px\">\n",
              "    <path d=\"M0 0h24v24H0V0z\" fill=\"none\"/>\n",
              "    <path d=\"M18.56 5.44l.94 2.06.94-2.06 2.06-.94-2.06-.94-.94-2.06-.94 2.06-2.06.94zm-11 1L8.5 8.5l.94-2.06 2.06-.94-2.06-.94L8.5 2.5l-.94 2.06-2.06.94zm10 10l.94 2.06.94-2.06 2.06-.94-2.06-.94-.94-2.06-.94 2.06-2.06.94z\"/><path d=\"M17.41 7.96l-1.37-1.37c-.4-.4-.92-.59-1.43-.59-.52 0-1.04.2-1.43.59L10.3 9.45l-7.72 7.72c-.78.78-.78 2.05 0 2.83L4 21.41c.39.39.9.59 1.41.59.51 0 1.02-.2 1.41-.59l7.78-7.78 2.81-2.81c.8-.78.8-2.07 0-2.86zM5.41 20L4 18.59l7.72-7.72 1.47 1.35L5.41 20z\"/>\n",
              "  </svg>\n",
              "      </button>\n",
              "      \n",
              "  <style>\n",
              "    .colab-df-container {\n",
              "      display:flex;\n",
              "      flex-wrap:wrap;\n",
              "      gap: 12px;\n",
              "    }\n",
              "\n",
              "    .colab-df-convert {\n",
              "      background-color: #E8F0FE;\n",
              "      border: none;\n",
              "      border-radius: 50%;\n",
              "      cursor: pointer;\n",
              "      display: none;\n",
              "      fill: #1967D2;\n",
              "      height: 32px;\n",
              "      padding: 0 0 0 0;\n",
              "      width: 32px;\n",
              "    }\n",
              "\n",
              "    .colab-df-convert:hover {\n",
              "      background-color: #E2EBFA;\n",
              "      box-shadow: 0px 1px 2px rgba(60, 64, 67, 0.3), 0px 1px 3px 1px rgba(60, 64, 67, 0.15);\n",
              "      fill: #174EA6;\n",
              "    }\n",
              "\n",
              "    [theme=dark] .colab-df-convert {\n",
              "      background-color: #3B4455;\n",
              "      fill: #D2E3FC;\n",
              "    }\n",
              "\n",
              "    [theme=dark] .colab-df-convert:hover {\n",
              "      background-color: #434B5C;\n",
              "      box-shadow: 0px 1px 3px 1px rgba(0, 0, 0, 0.15);\n",
              "      filter: drop-shadow(0px 1px 2px rgba(0, 0, 0, 0.3));\n",
              "      fill: #FFFFFF;\n",
              "    }\n",
              "  </style>\n",
              "\n",
              "      <script>\n",
              "        const buttonEl =\n",
              "          document.querySelector('#df-ea7ef5f0-1813-451c-b7d1-eb3e1f82fcef button.colab-df-convert');\n",
              "        buttonEl.style.display =\n",
              "          google.colab.kernel.accessAllowed ? 'block' : 'none';\n",
              "\n",
              "        async function convertToInteractive(key) {\n",
              "          const element = document.querySelector('#df-ea7ef5f0-1813-451c-b7d1-eb3e1f82fcef');\n",
              "          const dataTable =\n",
              "            await google.colab.kernel.invokeFunction('convertToInteractive',\n",
              "                                                     [key], {});\n",
              "          if (!dataTable) return;\n",
              "\n",
              "          const docLinkHtml = 'Like what you see? Visit the ' +\n",
              "            '<a target=\"_blank\" href=https://colab.research.google.com/notebooks/data_table.ipynb>data table notebook</a>'\n",
              "            + ' to learn more about interactive tables.';\n",
              "          element.innerHTML = '';\n",
              "          dataTable['output_type'] = 'display_data';\n",
              "          await google.colab.output.renderOutput(dataTable, element);\n",
              "          const docLink = document.createElement('div');\n",
              "          docLink.innerHTML = docLinkHtml;\n",
              "          element.appendChild(docLink);\n",
              "        }\n",
              "      </script>\n",
              "    </div>\n",
              "  </div>\n",
              "  "
            ],
            "application/vnd.google.colaboratory.module+javascript": "\n      import \"https://ssl.gstatic.com/colaboratory/data_table/99dac6621f6ae8c4/data_table.js\";\n\n      window.createDataTable({\n        data: [[{\n            'v': 0,\n            'f': \"0\",\n        },\n\"La UTA convoc\\u00f3 a un paro de colectivos en todo el pa\\u00eds por un reclamo salarial, argumentando que las empresas niegan la posibilidad de un aumento salarial y los sueldos de los trabajadores requieren un aumento urgente. La medida de fuerza es por 24 horas y comenzar\\u00e1 a primera hora de este viernes en todo el territorio nacional.\",\n\"laboral\"],\n [{\n            'v': 1,\n            'f': \"1\",\n        },\n\"El paro de 48 horas de Suteba Multicolor en Mar del Plata afecta a m\\u00e1s de 50 escuelas y jardines en reclamo de mejoras salariales, plena cobertura del IOMA sin co-pagos y contra la precarizaci\\u00f3n y sobrecarga laboral.\",\n\"laboral\"],\n [{\n            'v': 2,\n            'f': \"2\",\n        },\n\"Militantes ambientalistas vandalizaron la sede de la CGT Regional Mar del Plata en repudio al apoyo de la central obrera al proyecto de exploraci\\u00f3n petrolera a 300 km de la costa local. Se colg\\u00f3 una bandera con la leyenda \\u201cClausurado por Ecocidas\\u201d y se pegaron carteles apuntando a los dirigentes sindicales Miguel Guglielmotti y Adriana Donzelli. Los ambientalistas se\\u00f1alaron la complicidad de las burocracias sindicales con las petroleras y anunciaron que seguir\\u00e1n en las calles. El proyecto implica la perforaci\\u00f3n de un pozo exploratorio en el bloque CAN-100 de la Cuenca Argentina Norte.\",\n\"ambiental\"],\n [{\n            'v': 3,\n            'f': \"3\",\n        },\n\"Familiares de polic\\u00edas de la UTOI de la Polic\\u00eda de la Provincia de Buenos Aires protestan contra el traslado de 235 efectivos a La Matanza, alegando que no les da tiempo para volver a sus hogares. Se quejan de la falta de seguridad en Mar del Plata y culpan al ministro de Seguridad, Sergio Berni, que est\\u00e1 de licencia.\",\n\"familiar\"]],\n        columns: [[\"number\", \"index\"], [\"string\", \"resumen\"], [\"string\", \"etiqueta\"]],\n        columnOptions: [{\"width\": \"1px\", \"className\": \"index_column\"}],\n        rowsPerPage: 25,\n        helpUrl: \"https://colab.research.google.com/notebooks/data_table.ipynb\",\n        suppressOutputScrolling: true,\n        minimumWidth: undefined,\n      });\n    "
          },
          "metadata": {},
          "execution_count": 40
        }
      ]
    },
    {
      "cell_type": "markdown",
      "source": [
        "### Procesamos los resúmenes"
      ],
      "metadata": {
        "id": "3GVhTNzeRvMe"
      },
      "id": "3GVhTNzeRvMe"
    },
    {
      "cell_type": "code",
      "source": [
        "json_eventos = []\n",
        "for i in range(len(df.resumen)):\n",
        "    prompt = f\"\"\"\n",
        "    Su tarea es generar un JSON que incluya solo 4 claves: 'sujeto', 'accion', 'objeto', 'lugar'\\\n",
        "    La clave 'sujeto' debe identificar en un máximo de 5 palabras \\\n",
        "    quién realiza la acción de protesta descripta en el resumen. \n",
        "    La clave 'accion' debe identificar en un máximo de 3 palabras \\\n",
        "    el formato de la acción de protesta descripta en el resumen.\n",
        "    La clave 'objeto' debe identificar en un máximo de 6 palabras \\\n",
        "    contra quién o contra qué se realiza la acción de protesta \\\n",
        "    descripta en el resumen.\n",
        "    La clave 'lugar' debe identificar en un máximo de 4 palabras \\\n",
        "    la localización geográfica dónde se realiza la acción de protesta \\\n",
        "    descripta en el resumen. Si el resumen no informa sobre el lugar de \\\n",
        "    la protesta debe escribir 'sin datos'.\n",
        "\n",
        "    El resumen a analizar aparece a continuación \\\n",
        "    delimitado por '```': ```{df.resumen[i]}```\n",
        "    \"\"\"\n",
        "\n",
        "    respuesta = get_completion(prompt)\n",
        "\n",
        "    json_eventos.append(respuesta)\n",
        "\n",
        "    print(respuesta)"
      ],
      "metadata": {
        "colab": {
          "base_uri": "https://localhost:8080/"
        },
        "id": "IoDwZ0XrHeIa",
        "outputId": "290ae879-95d9-44e1-c0c2-853fc8519ae7"
      },
      "id": "IoDwZ0XrHeIa",
      "execution_count": 41,
      "outputs": [
        {
          "output_type": "stream",
          "name": "stdout",
          "text": [
            "{\n",
            "  \"sujeto\": \"La UTA\",\n",
            "  \"accion\": \"paro de colectivos\",\n",
            "  \"objeto\": \"empresas por reclamo salarial\",\n",
            "  \"lugar\": \"todo el país\"\n",
            "}\n",
            "{\n",
            "  \"sujeto\": \"Suteba Multicolor\",\n",
            "  \"accion\": \"Paro de 48 horas\",\n",
            "  \"objeto\": \"mejoras salariales, plena cobertura del IOMA sin co-pagos y contra la precarización y sobrecarga laboral\",\n",
            "  \"lugar\": \"Mar del Plata\"\n",
            "}\n",
            "{\n",
            "  \"sujeto\": \"Militantes ambientalistas\",\n",
            "  \"accion\": \"Vandalizaron la sede\",\n",
            "  \"objeto\": \"Apoyo de la CGT Regional Mar del Plata al proyecto de exploración petrolera\",\n",
            "  \"lugar\": \"Mar del Plata\"\n",
            "}\n",
            "{\n",
            "  \"sujeto\": \"Familiares de policías\",\n",
            "  \"accion\": \"protestan contra\",\n",
            "  \"objeto\": \"el traslado de 235 efectivos\",\n",
            "  \"lugar\": \"La Matanza\"\n",
            "}\n"
          ]
        }
      ]
    },
    {
      "cell_type": "markdown",
      "source": [
        "### De json a formato tabular"
      ],
      "metadata": {
        "id": "IGpQY8LqR4t9"
      },
      "id": "IGpQY8LqR4t9"
    },
    {
      "cell_type": "code",
      "source": [
        "json_s = [json.loads(item) for item in json_eventos]\n",
        "\n",
        "# Crear el DataFrame\n",
        "df = pd.DataFrame(json_s)\n",
        "\n",
        "df"
      ],
      "metadata": {
        "colab": {
          "base_uri": "https://localhost:8080/",
          "height": 174
        },
        "id": "S16J0oFKL62E",
        "outputId": "161fe973-60e6-4d69-b191-602600b8d06b"
      },
      "id": "S16J0oFKL62E",
      "execution_count": 42,
      "outputs": [
        {
          "output_type": "execute_result",
          "data": {
            "text/plain": [
              "                      sujeto                accion  \\\n",
              "0                     La UTA    paro de colectivos   \n",
              "1          Suteba Multicolor      Paro de 48 horas   \n",
              "2  Militantes ambientalistas  Vandalizaron la sede   \n",
              "3     Familiares de policías      protestan contra   \n",
              "\n",
              "                                              objeto          lugar  \n",
              "0                      empresas por reclamo salarial   todo el país  \n",
              "1  mejoras salariales, plena cobertura del IOMA s...  Mar del Plata  \n",
              "2  Apoyo de la CGT Regional Mar del Plata al proy...  Mar del Plata  \n",
              "3                       el traslado de 235 efectivos     La Matanza  "
            ],
            "text/html": [
              "\n",
              "  <div id=\"df-717ec465-1fb0-4335-84a4-542cc465a624\">\n",
              "    <div class=\"colab-df-container\">\n",
              "      <div>\n",
              "<style scoped>\n",
              "    .dataframe tbody tr th:only-of-type {\n",
              "        vertical-align: middle;\n",
              "    }\n",
              "\n",
              "    .dataframe tbody tr th {\n",
              "        vertical-align: top;\n",
              "    }\n",
              "\n",
              "    .dataframe thead th {\n",
              "        text-align: right;\n",
              "    }\n",
              "</style>\n",
              "<table border=\"1\" class=\"dataframe\">\n",
              "  <thead>\n",
              "    <tr style=\"text-align: right;\">\n",
              "      <th></th>\n",
              "      <th>sujeto</th>\n",
              "      <th>accion</th>\n",
              "      <th>objeto</th>\n",
              "      <th>lugar</th>\n",
              "    </tr>\n",
              "  </thead>\n",
              "  <tbody>\n",
              "    <tr>\n",
              "      <th>0</th>\n",
              "      <td>La UTA</td>\n",
              "      <td>paro de colectivos</td>\n",
              "      <td>empresas por reclamo salarial</td>\n",
              "      <td>todo el país</td>\n",
              "    </tr>\n",
              "    <tr>\n",
              "      <th>1</th>\n",
              "      <td>Suteba Multicolor</td>\n",
              "      <td>Paro de 48 horas</td>\n",
              "      <td>mejoras salariales, plena cobertura del IOMA s...</td>\n",
              "      <td>Mar del Plata</td>\n",
              "    </tr>\n",
              "    <tr>\n",
              "      <th>2</th>\n",
              "      <td>Militantes ambientalistas</td>\n",
              "      <td>Vandalizaron la sede</td>\n",
              "      <td>Apoyo de la CGT Regional Mar del Plata al proy...</td>\n",
              "      <td>Mar del Plata</td>\n",
              "    </tr>\n",
              "    <tr>\n",
              "      <th>3</th>\n",
              "      <td>Familiares de policías</td>\n",
              "      <td>protestan contra</td>\n",
              "      <td>el traslado de 235 efectivos</td>\n",
              "      <td>La Matanza</td>\n",
              "    </tr>\n",
              "  </tbody>\n",
              "</table>\n",
              "</div>\n",
              "      <button class=\"colab-df-convert\" onclick=\"convertToInteractive('df-717ec465-1fb0-4335-84a4-542cc465a624')\"\n",
              "              title=\"Convert this dataframe to an interactive table.\"\n",
              "              style=\"display:none;\">\n",
              "        \n",
              "  <svg xmlns=\"http://www.w3.org/2000/svg\" height=\"24px\"viewBox=\"0 0 24 24\"\n",
              "       width=\"24px\">\n",
              "    <path d=\"M0 0h24v24H0V0z\" fill=\"none\"/>\n",
              "    <path d=\"M18.56 5.44l.94 2.06.94-2.06 2.06-.94-2.06-.94-.94-2.06-.94 2.06-2.06.94zm-11 1L8.5 8.5l.94-2.06 2.06-.94-2.06-.94L8.5 2.5l-.94 2.06-2.06.94zm10 10l.94 2.06.94-2.06 2.06-.94-2.06-.94-.94-2.06-.94 2.06-2.06.94z\"/><path d=\"M17.41 7.96l-1.37-1.37c-.4-.4-.92-.59-1.43-.59-.52 0-1.04.2-1.43.59L10.3 9.45l-7.72 7.72c-.78.78-.78 2.05 0 2.83L4 21.41c.39.39.9.59 1.41.59.51 0 1.02-.2 1.41-.59l7.78-7.78 2.81-2.81c.8-.78.8-2.07 0-2.86zM5.41 20L4 18.59l7.72-7.72 1.47 1.35L5.41 20z\"/>\n",
              "  </svg>\n",
              "      </button>\n",
              "      \n",
              "  <style>\n",
              "    .colab-df-container {\n",
              "      display:flex;\n",
              "      flex-wrap:wrap;\n",
              "      gap: 12px;\n",
              "    }\n",
              "\n",
              "    .colab-df-convert {\n",
              "      background-color: #E8F0FE;\n",
              "      border: none;\n",
              "      border-radius: 50%;\n",
              "      cursor: pointer;\n",
              "      display: none;\n",
              "      fill: #1967D2;\n",
              "      height: 32px;\n",
              "      padding: 0 0 0 0;\n",
              "      width: 32px;\n",
              "    }\n",
              "\n",
              "    .colab-df-convert:hover {\n",
              "      background-color: #E2EBFA;\n",
              "      box-shadow: 0px 1px 2px rgba(60, 64, 67, 0.3), 0px 1px 3px 1px rgba(60, 64, 67, 0.15);\n",
              "      fill: #174EA6;\n",
              "    }\n",
              "\n",
              "    [theme=dark] .colab-df-convert {\n",
              "      background-color: #3B4455;\n",
              "      fill: #D2E3FC;\n",
              "    }\n",
              "\n",
              "    [theme=dark] .colab-df-convert:hover {\n",
              "      background-color: #434B5C;\n",
              "      box-shadow: 0px 1px 3px 1px rgba(0, 0, 0, 0.15);\n",
              "      filter: drop-shadow(0px 1px 2px rgba(0, 0, 0, 0.3));\n",
              "      fill: #FFFFFF;\n",
              "    }\n",
              "  </style>\n",
              "\n",
              "      <script>\n",
              "        const buttonEl =\n",
              "          document.querySelector('#df-717ec465-1fb0-4335-84a4-542cc465a624 button.colab-df-convert');\n",
              "        buttonEl.style.display =\n",
              "          google.colab.kernel.accessAllowed ? 'block' : 'none';\n",
              "\n",
              "        async function convertToInteractive(key) {\n",
              "          const element = document.querySelector('#df-717ec465-1fb0-4335-84a4-542cc465a624');\n",
              "          const dataTable =\n",
              "            await google.colab.kernel.invokeFunction('convertToInteractive',\n",
              "                                                     [key], {});\n",
              "          if (!dataTable) return;\n",
              "\n",
              "          const docLinkHtml = 'Like what you see? Visit the ' +\n",
              "            '<a target=\"_blank\" href=https://colab.research.google.com/notebooks/data_table.ipynb>data table notebook</a>'\n",
              "            + ' to learn more about interactive tables.';\n",
              "          element.innerHTML = '';\n",
              "          dataTable['output_type'] = 'display_data';\n",
              "          await google.colab.output.renderOutput(dataTable, element);\n",
              "          const docLink = document.createElement('div');\n",
              "          docLink.innerHTML = docLinkHtml;\n",
              "          element.appendChild(docLink);\n",
              "        }\n",
              "      </script>\n",
              "    </div>\n",
              "  </div>\n",
              "  "
            ],
            "application/vnd.google.colaboratory.module+javascript": "\n      import \"https://ssl.gstatic.com/colaboratory/data_table/99dac6621f6ae8c4/data_table.js\";\n\n      window.createDataTable({\n        data: [[{\n            'v': 0,\n            'f': \"0\",\n        },\n\"La UTA\",\n\"paro de colectivos\",\n\"empresas por reclamo salarial\",\n\"todo el pa\\u00eds\"],\n [{\n            'v': 1,\n            'f': \"1\",\n        },\n\"Suteba Multicolor\",\n\"Paro de 48 horas\",\n\"mejoras salariales, plena cobertura del IOMA sin co-pagos y contra la precarizaci\\u00f3n y sobrecarga laboral\",\n\"Mar del Plata\"],\n [{\n            'v': 2,\n            'f': \"2\",\n        },\n\"Militantes ambientalistas\",\n\"Vandalizaron la sede\",\n\"Apoyo de la CGT Regional Mar del Plata al proyecto de exploraci\\u00f3n petrolera\",\n\"Mar del Plata\"],\n [{\n            'v': 3,\n            'f': \"3\",\n        },\n\"Familiares de polic\\u00edas\",\n\"protestan contra\",\n\"el traslado de 235 efectivos\",\n\"La Matanza\"]],\n        columns: [[\"number\", \"index\"], [\"string\", \"sujeto\"], [\"string\", \"accion\"], [\"string\", \"objeto\"], [\"string\", \"lugar\"]],\n        columnOptions: [{\"width\": \"1px\", \"className\": \"index_column\"}],\n        rowsPerPage: 25,\n        helpUrl: \"https://colab.research.google.com/notebooks/data_table.ipynb\",\n        suppressOutputScrolling: true,\n        minimumWidth: undefined,\n      });\n    "
          },
          "metadata": {},
          "execution_count": 42
        }
      ]
    }
  ],
  "metadata": {
    "kernelspec": {
      "display_name": "Python 3 (ipykernel)",
      "language": "python",
      "name": "python3"
    },
    "language_info": {
      "codemirror_mode": {
        "name": "ipython",
        "version": 3
      },
      "file_extension": ".py",
      "mimetype": "text/x-python",
      "name": "python",
      "nbconvert_exporter": "python",
      "pygments_lexer": "ipython3",
      "version": "3.10.9"
    },
    "colab": {
      "provenance": [],
      "include_colab_link": true
    }
  },
  "nbformat": 4,
  "nbformat_minor": 5
}
