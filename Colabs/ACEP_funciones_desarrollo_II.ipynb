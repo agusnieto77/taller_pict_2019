{
  "nbformat": 4,
  "nbformat_minor": 0,
  "metadata": {
    "colab": {
      "provenance": [],
      "authorship_tag": "ABX9TyOy04k/ETCmXC0gIjR8tkdG",
      "include_colab_link": true
    },
    "kernelspec": {
      "name": "ir",
      "display_name": "R"
    },
    "language_info": {
      "name": "R"
    }
  },
  "cells": [
    {
      "cell_type": "markdown",
      "metadata": {
        "id": "view-in-github",
        "colab_type": "text"
      },
      "source": [
        "<a href=\"https://colab.research.google.com/github/agusnieto77/taller_pict_2019/blob/main/Colabs/ACEP_funciones_desarrollo_II.ipynb\" target=\"_parent\"><img src=\"https://colab.research.google.com/assets/colab-badge.svg\" alt=\"Open In Colab\"/></a>"
      ]
    },
    {
      "cell_type": "markdown",
      "source": [
        "# Ejercicio 4"
      ],
      "metadata": {
        "id": "mxHA5aNWT3pn"
      }
    },
    {
      "cell_type": "code",
      "source": [
        "devtools::install_github(\"agusnieto77/ACEP\")"
      ],
      "metadata": {
        "id": "ofBoKSw3HNcE",
        "outputId": "5aa481f5-686e-427f-984b-50e504a5ccb5",
        "colab": {
          "base_uri": "https://localhost:8080/"
        }
      },
      "execution_count": 1,
      "outputs": [
        {
          "output_type": "stream",
          "name": "stderr",
          "text": [
            "Downloading GitHub repo agusnieto77/ACEP@HEAD\n",
            "\n"
          ]
        },
        {
          "output_type": "stream",
          "name": "stdout",
          "text": [
            "sys          (3.4.1  -> 3.4.2 ) [CRAN]\n",
            "jsonlite     (1.8.3  -> 1.8.4 ) [CRAN]\n",
            "png          (NA     -> 0.1-8 ) [CRAN]\n",
            "here         (NA     -> 1.0.1 ) [CRAN]\n",
            "RcppTOML     (NA     -> 0.2.2 ) [CRAN]\n",
            "Rcpp         (NA     -> 1.0.10) [CRAN]\n",
            "reticulate   (NA     -> 1.28  ) [CRAN]\n",
            "tokenbrowser (NA     -> 0.1.5 ) [CRAN]\n",
            "digest       (0.6.30 -> 0.6.31) [CRAN]\n",
            "igraph       (NA     -> 1.4.3 ) [CRAN]\n",
            "tidygeocoder (NA     -> 1.0.5 ) [CRAN]\n",
            "udpipe       (NA     -> 0.8.11) [CRAN]\n",
            "spacyr       (NA     -> 1.2.1 ) [CRAN]\n",
            "rsyntax      (NA     -> 0.1.4 ) [CRAN]\n"
          ]
        },
        {
          "output_type": "stream",
          "name": "stderr",
          "text": [
            "Installing 14 packages: sys, jsonlite, png, here, RcppTOML, Rcpp, reticulate, tokenbrowser, digest, igraph, tidygeocoder, udpipe, spacyr, rsyntax\n",
            "\n",
            "Installing packages into ‘/usr/local/lib/R/site-library’\n",
            "(as ‘lib’ is unspecified)\n",
            "\n"
          ]
        },
        {
          "output_type": "stream",
          "name": "stdout",
          "text": [
            "\u001b[36m──\u001b[39m \u001b[36mR CMD build\u001b[39m \u001b[36m─────────────────────────────────────────────────────────────────\u001b[39m\n",
            "* checking for file ‘/tmp/Rtmptz149o/remotesd65e2e2ea6/agusnieto77-ACEP-f401cfe/DESCRIPTION’ ... OK\n",
            "* preparing ‘ACEP’:\n",
            "* checking DESCRIPTION meta-information ... OK\n",
            "* checking for LF line-endings in source and make files and shell scripts\n",
            "* checking for empty or unneeded directories\n",
            "* building ‘ACEP_0.0.3.9001.tar.gz’\n",
            "\n"
          ]
        },
        {
          "output_type": "stream",
          "name": "stderr",
          "text": [
            "Installing package into ‘/usr/local/lib/R/site-library’\n",
            "(as ‘lib’ is unspecified)\n",
            "\n"
          ]
        }
      ]
    },
    {
      "cell_type": "code",
      "source": [
        "require(ACEP)"
      ],
      "metadata": {
        "id": "yvhkmoqEjvZO",
        "outputId": "8fd0133e-dfb4-4755-bc18-94e4cc4555c2",
        "colab": {
          "base_uri": "https://localhost:8080/"
        }
      },
      "execution_count": 2,
      "outputs": [
        {
          "output_type": "stream",
          "name": "stderr",
          "text": [
            "Loading required package: ACEP\n",
            "\n"
          ]
        }
      ]
    },
    {
      "cell_type": "code",
      "source": [
        "texto <- \"El SOIP declara la huelga en demanda de aumento salarial.\"\n",
        "texto_svo <- acep_svo_udpipe(texto)"
      ],
      "metadata": {
        "id": "VQ6sBePJVNCX"
      },
      "execution_count": 4,
      "outputs": []
    },
    {
      "cell_type": "code",
      "source": [
        "print(texto_svo)"
      ],
      "metadata": {
        "colab": {
          "base_uri": "https://localhost:8080/"
        },
        "id": "PIA5MvH1YuDe",
        "outputId": "c685191b-8db8-48bb-ae2b-467e2f9d83ed"
      },
      "execution_count": 18,
      "outputs": [
        {
          "output_type": "stream",
          "name": "stdout",
          "text": [
            "$acep_annotate_svo\n",
            "\u001b[90m# A tibble: 11 × 22\u001b[39m\n",
            "   doc_id paragraph_id sentence start   end term_id token_id token   lemma upos \n",
            "    \u001b[3m\u001b[90m<int>\u001b[39m\u001b[23m        \u001b[3m\u001b[90m<int>\u001b[39m\u001b[23m    \u001b[3m\u001b[90m<int>\u001b[39m\u001b[23m \u001b[3m\u001b[90m<int>\u001b[39m\u001b[23m \u001b[3m\u001b[90m<int>\u001b[39m\u001b[23m   \u001b[3m\u001b[90m<int>\u001b[39m\u001b[23m    \u001b[3m\u001b[90m<dbl>\u001b[39m\u001b[23m \u001b[3m\u001b[90m<chr>\u001b[39m\u001b[23m   \u001b[3m\u001b[90m<chr>\u001b[39m\u001b[23m \u001b[3m\u001b[90m<chr>\u001b[39m\u001b[23m\n",
            "\u001b[90m 1\u001b[39m      1            1        1     1     2       1        1 El      el    DET  \n",
            "\u001b[90m 2\u001b[39m      1            1        1     4     7       2        2 SOIP    SOIP  PROPN\n",
            "\u001b[90m 3\u001b[39m      1            1        1     9    15       3        3 declara decl… VERB \n",
            "\u001b[90m 4\u001b[39m      1            1        1    17    18       4        4 la      el    DET  \n",
            "\u001b[90m 5\u001b[39m      1            1        1    20    25       5        5 huelga  huel… NOUN \n",
            "\u001b[90m 6\u001b[39m      1            1        1    27    28       6        6 en      en    ADP  \n",
            "\u001b[90m 7\u001b[39m      1            1        1    30    36       7        7 demanda dema… NOUN \n",
            "\u001b[90m 8\u001b[39m      1            1        1    38    39       8        8 de      de    ADP  \n",
            "\u001b[90m 9\u001b[39m      1            1        1    41    47       9        9 aumento aume… NOUN \n",
            "\u001b[90m10\u001b[39m      1            1        1    49    56      10       10 salari… sala… ADJ  \n",
            "\u001b[90m11\u001b[39m      1            1        1    57    57      11       11 .       .     PUNCT\n",
            "\u001b[90m# ℹ 12 more variables: xpos <chr>, feats <chr>, parent <dbl>, relation <chr>,\u001b[39m\n",
            "\u001b[90m#   deps <chr>, misc <chr>, sentence_txt <chr>, s_v_o <fct>, s_v_o_id <fct>,\u001b[39m\n",
            "\u001b[90m#   s_v_o_fill <dbl>, s_p <chr>, conjugaciones <chr>\u001b[39m\n",
            "\n",
            "$acep_pro_svo\n",
            "\u001b[90m# A tibble: 1 × 16\u001b[39m\n",
            "  doc_id parrafo_id oracion_id oracion    eventos sujeto_svo root  objeto sujeto\n",
            "   \u001b[3m\u001b[90m<int>\u001b[39m\u001b[23m      \u001b[3m\u001b[90m<int>\u001b[39m\u001b[23m      \u001b[3m\u001b[90m<int>\u001b[39m\u001b[23m \u001b[3m\u001b[90m<chr>\u001b[39m\u001b[23m      \u001b[3m\u001b[90m<chr>\u001b[39m\u001b[23m   \u001b[3m\u001b[90m<chr>\u001b[39m\u001b[23m      \u001b[3m\u001b[90m<chr>\u001b[39m\u001b[23m \u001b[3m\u001b[90m<chr>\u001b[39m\u001b[23m  \u001b[3m\u001b[90m<chr>\u001b[39m\u001b[23m \n",
            "\u001b[90m1\u001b[39m      1          1          1 El SOIP d… SOIP -… SOIP       decl… huelga SOIP  \n",
            "\u001b[90m# ℹ 7 more variables: predicado <chr>, verbo <chr>, lemma_verb <chr>,\u001b[39m\n",
            "\u001b[90m#   conjugaciones <chr>, aux_verbos <chr>, entidades <chr>, sust_pred <chr>\u001b[39m\n",
            "\n",
            "$acep_list_svo\n",
            "\u001b[90m# A tibble: 1 × 7\u001b[39m\n",
            "  doc_id parrafo_id oracion_id eventos                   sujeto verbo   objeto\n",
            "   \u001b[3m\u001b[90m<int>\u001b[39m\u001b[23m      \u001b[3m\u001b[90m<int>\u001b[39m\u001b[23m      \u001b[3m\u001b[90m<int>\u001b[39m\u001b[23m \u001b[3m\u001b[90m<chr>\u001b[39m\u001b[23m                     \u001b[3m\u001b[90m<chr>\u001b[39m\u001b[23m  \u001b[3m\u001b[90m<chr>\u001b[39m\u001b[23m   \u001b[3m\u001b[90m<chr>\u001b[39m\u001b[23m \n",
            "\u001b[90m1\u001b[39m      1          1          1 SOIP -> declara -> huelga SOIP   declara huelga\n",
            "\n",
            "$acep_sp\n",
            "\u001b[90m# A tibble: 1 × 11\u001b[39m\n",
            "  doc_id parrafo_id oracion_id sujeto predicado   verbo lemma_verb conjugaciones\n",
            "   \u001b[3m\u001b[90m<int>\u001b[39m\u001b[23m      \u001b[3m\u001b[90m<int>\u001b[39m\u001b[23m      \u001b[3m\u001b[90m<int>\u001b[39m\u001b[23m \u001b[3m\u001b[90m<chr>\u001b[39m\u001b[23m  \u001b[3m\u001b[90m<chr>\u001b[39m\u001b[23m       \u001b[3m\u001b[90m<chr>\u001b[39m\u001b[23m \u001b[3m\u001b[90m<chr>\u001b[39m\u001b[23m      \u001b[3m\u001b[90m<chr>\u001b[39m\u001b[23m        \n",
            "\u001b[90m1\u001b[39m      1          1          1 SOIP   declara hu… decl… declarar   presente     \n",
            "\u001b[90m# ℹ 3 more variables: aux_verbos <chr>, entidades <chr>, sust_pred <chr>\u001b[39m\n",
            "\n",
            "$acep_lista_lemmas\n",
            "\u001b[90m# A tibble: 6 × 3\u001b[39m\n",
            "  token    lemma        n\n",
            "  \u001b[3m\u001b[90m<chr>\u001b[39m\u001b[23m    \u001b[3m\u001b[90m<chr>\u001b[39m\u001b[23m    \u001b[3m\u001b[90m<int>\u001b[39m\u001b[23m\n",
            "\u001b[90m1\u001b[39m SOIP     SOIP         1\n",
            "\u001b[90m2\u001b[39m aumento  aumento      1\n",
            "\u001b[90m3\u001b[39m declara  declarar     1\n",
            "\u001b[90m4\u001b[39m demanda  demanda      1\n",
            "\u001b[90m5\u001b[39m huelga   huelga       1\n",
            "\u001b[90m6\u001b[39m salarial salarial     1\n",
            "\n",
            "$acep_no_procesadas\n",
            "\u001b[90m# A tibble: 0 × 4\u001b[39m\n",
            "\u001b[90m# ℹ 4 variables: doc_id <int>, parrafo_id <int>, oracion_id <int>,\u001b[39m\n",
            "\u001b[90m#   oracion <chr>\u001b[39m\n",
            "\n"
          ]
        }
      ]
    },
    {
      "cell_type": "code",
      "source": [
        "cat(\"Sujeto:\", texto_svo$acep_pro_svo$sujeto)\n",
        "cat(\"\\nAcción:\", paste(texto_svo$acep_pro_svo$root, texto_svo$acep_pro_svo$objeto, collapse = \" \")) \n",
        "cat(\"\\nObjeto\", gsub(paste(texto_svo$acep_pro_svo$root, texto_svo$acep_pro_svo$objeto, collapse = \" \"), \"\", texto_svo$acep_pro_svo$predicado))"
      ],
      "metadata": {
        "id": "fvZJCNWDZxYl",
        "outputId": "4129f14b-528c-4d30-b534-fa95e4801cb2",
        "colab": {
          "base_uri": "https://localhost:8080/"
        }
      },
      "execution_count": 17,
      "outputs": [
        {
          "output_type": "stream",
          "name": "stdout",
          "text": [
            "Sujeto: SOIP\n",
            "Acción: declara huelga\n",
            "Objeto  demanda aumento"
          ]
        }
      ]
    }
  ]
}