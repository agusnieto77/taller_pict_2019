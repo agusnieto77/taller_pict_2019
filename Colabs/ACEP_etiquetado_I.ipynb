{
  "nbformat": 4,
  "nbformat_minor": 0,
  "metadata": {
    "colab": {
      "provenance": [],
      "authorship_tag": "ABX9TyP1fyFGfbFTc1UNQfsyQ+SP",
      "include_colab_link": true
    },
    "kernelspec": {
      "name": "ir",
      "display_name": "R"
    },
    "language_info": {
      "name": "R"
    }
  },
  "cells": [
    {
      "cell_type": "markdown",
      "metadata": {
        "id": "view-in-github",
        "colab_type": "text"
      },
      "source": [
        "<a href=\"https://colab.research.google.com/github/agusnieto77/taller_pict_2019/blob/main/Colabs/ACEP_etiquetado_I.ipynb\" target=\"_parent\"><img src=\"https://colab.research.google.com/assets/colab-badge.svg\" alt=\"Open In Colab\"/></a>"
      ]
    },
    {
      "cell_type": "code",
      "source": [
        "install.packages(\"RMySQL\")"
      ],
      "metadata": {
        "id": "RgX3MXvk89S9"
      },
      "execution_count": null,
      "outputs": []
    },
    {
      "cell_type": "code",
      "source": [
        "install.packages(\"RMariaDB\")"
      ],
      "metadata": {
        "id": "kLiZBlivhf4_"
      },
      "execution_count": null,
      "outputs": []
    },
    {
      "cell_type": "code",
      "execution_count": null,
      "metadata": {
        "id": "m1pYgDpz81Yo"
      },
      "outputs": [],
      "source": [
        "#require(RMySQL)\n",
        "require(RMariaDB)\n",
        "require(DBI)\n",
        "require(dplyr)"
      ]
    },
    {
      "cell_type": "code",
      "source": [
        "con <- dbConnect(MariaDB(), \n",
        "                 dbname = \"estiquetados\", \n",
        "                 host = 'db4free.net', \n",
        "                 port = 3306,\n",
        "                 user = 'sismos',\n",
        "                 password = 'sismos@2012')"
      ],
      "metadata": {
        "id": "EcPp-dx2hQOw"
      },
      "execution_count": 6,
      "outputs": []
    },
    {
      "cell_type": "code",
      "source": [
        "usuarios <- tbl(con, \"usuarios\")\n",
        "usuarios"
      ],
      "metadata": {
        "colab": {
          "base_uri": "https://localhost:8080/",
          "height": 156
        },
        "id": "PdK_X7btOnEB",
        "outputId": "7c0b377b-bcd9-427c-b843-113b04c0a656"
      },
      "execution_count": 7,
      "outputs": [
        {
          "output_type": "display_data",
          "data": {
            "text/plain": [
              "\u001b[90m# Source:   table<usuarios> [4 x 10]\u001b[39m\n",
              "\u001b[90m# Database: mysql  [sismos@db4free.net:NA/estiquetados]\u001b[39m\n",
              "     id uname upwd  nombre email telefono perfil fecha_alta          rol   tabla\n",
              "  \u001b[3m\u001b[90m<int>\u001b[39m\u001b[23m \u001b[3m\u001b[90m<chr>\u001b[39m\u001b[23m \u001b[3m\u001b[90m<chr>\u001b[39m\u001b[23m \u001b[3m\u001b[90m<chr>\u001b[39m\u001b[23m  \u001b[3m\u001b[90m<chr>\u001b[39m\u001b[23m \u001b[3m\u001b[90m<chr>\u001b[39m\u001b[23m    \u001b[3m\u001b[90m<chr>\u001b[39m\u001b[23m  \u001b[3m\u001b[90m<dttm>\u001b[39m\u001b[23m              \u001b[3m\u001b[90m<chr>\u001b[39m\u001b[23m \u001b[3m\u001b[90m<chr>\u001b[39m\u001b[23m\n",
              "\u001b[90m1\u001b[39m     7 luci… a7ab… Lucía  \u001b[31mNA\u001b[39m    \u001b[31mNA\u001b[39m       1      -1-11-30 \u001b[90m00:00:00\u001b[39m   Etiq… corta\n",
              "\u001b[90m2\u001b[39m    13 nico… 8552… Nicol… \u001b[31mNA\u001b[39m    \u001b[31mNA\u001b[39m       1      -1-11-30 \u001b[90m00:00:00\u001b[39m   Etiq… corta\n",
              "\u001b[90m3\u001b[39m    16 ivana 08a3… Ivana  \u001b[31mNA\u001b[39m    \u001b[31mNA\u001b[39m       1      -1-11-30 \u001b[90m00:00:00\u001b[39m   Etiq… corta\n",
              "\u001b[90m4\u001b[39m    17 pablo 79b4… Pablo  \u001b[31mNA\u001b[39m    \u001b[31mNA\u001b[39m       2      2022-07-11 \u001b[90m09:11:38\u001b[39m Etiq… nueva"
            ]
          },
          "metadata": {}
        }
      ]
    },
    {
      "cell_type": "code",
      "source": [
        "notas_etiquetadas <- tbl(con, \"notas_etiquetadas\")\n",
        "notas_etiquetadas"
      ],
      "metadata": {
        "colab": {
          "base_uri": "https://localhost:8080/",
          "height": 312
        },
        "id": "yaabpFpKAE4l",
        "outputId": "fc35b491-b6b4-4cea-a7e4-c7acf07f2a74"
      },
      "execution_count": 8,
      "outputs": [
        {
          "output_type": "display_data",
          "data": {
            "text/plain": [
              "\u001b[90m# Source:   table<notas_etiquetadas> [?? x 11]\u001b[39m\n",
              "\u001b[90m# Database: mysql  [sismos@db4free.net:NA/estiquetados]\u001b[39m\n",
              "      id id_usuario id_nota es_conflicto es_comunicacional es_principal\n",
              "   \u001b[3m\u001b[90m<int>\u001b[39m\u001b[23m      \u001b[3m\u001b[90m<int>\u001b[39m\u001b[23m   \u001b[3m\u001b[90m<int>\u001b[39m\u001b[23m \u001b[3m\u001b[90m<chr>\u001b[39m\u001b[23m        \u001b[3m\u001b[90m<chr>\u001b[39m\u001b[23m             \u001b[3m\u001b[90m<chr>\u001b[39m\u001b[23m       \n",
              "\u001b[90m 1\u001b[39m     1         13  \u001b[4m1\u001b[24m\u001b[4m0\u001b[24m\u001b[4m6\u001b[24m582 N            \u001b[31mNA\u001b[39m                \u001b[31mNA\u001b[39m          \n",
              "\u001b[90m 2\u001b[39m     2         13  \u001b[4m1\u001b[24m\u001b[4m0\u001b[24m\u001b[4m5\u001b[24m430 N            \u001b[31mNA\u001b[39m                \u001b[31mNA\u001b[39m          \n",
              "\u001b[90m 3\u001b[39m     3         13  \u001b[4m1\u001b[24m\u001b[4m0\u001b[24m\u001b[4m5\u001b[24m428 N            \u001b[31mNA\u001b[39m                \u001b[31mNA\u001b[39m          \n",
              "\u001b[90m 4\u001b[39m     4         13  \u001b[4m1\u001b[24m\u001b[4m0\u001b[24m\u001b[4m5\u001b[24m433 N            \u001b[31mNA\u001b[39m                \u001b[31mNA\u001b[39m          \n",
              "\u001b[90m 5\u001b[39m     5         13  \u001b[4m1\u001b[24m\u001b[4m0\u001b[24m\u001b[4m5\u001b[24m427 N            \u001b[31mNA\u001b[39m                \u001b[31mNA\u001b[39m          \n",
              "\u001b[90m 6\u001b[39m     6         13  \u001b[4m1\u001b[24m\u001b[4m0\u001b[24m\u001b[4m4\u001b[24m432 N            \u001b[31mNA\u001b[39m                \u001b[31mNA\u001b[39m          \n",
              "\u001b[90m 7\u001b[39m     8          7  \u001b[4m1\u001b[24m\u001b[4m0\u001b[24m\u001b[4m6\u001b[24m582 N            \u001b[31mNA\u001b[39m                \u001b[31mNA\u001b[39m          \n",
              "\u001b[90m 8\u001b[39m     9          7  \u001b[4m1\u001b[24m\u001b[4m0\u001b[24m\u001b[4m5\u001b[24m430 N            \u001b[31mNA\u001b[39m                \u001b[31mNA\u001b[39m          \n",
              "\u001b[90m 9\u001b[39m    10          7  \u001b[4m1\u001b[24m\u001b[4m0\u001b[24m\u001b[4m5\u001b[24m428 N            \u001b[31mNA\u001b[39m                \u001b[31mNA\u001b[39m          \n",
              "\u001b[90m10\u001b[39m    11          7  \u001b[4m1\u001b[24m\u001b[4m0\u001b[24m\u001b[4m5\u001b[24m433 N            \u001b[31mNA\u001b[39m                \u001b[31mNA\u001b[39m          \n",
              "\u001b[90m# ℹ more rows\u001b[39m\n",
              "\u001b[90m# ℹ 5 more variables: es_laboral <chr>, es_vecinal <chr>, tipo <chr>,\u001b[39m\n",
              "\u001b[90m#   observaciones <chr>, fecha <dttm>\u001b[39m"
            ]
          },
          "metadata": {}
        }
      ]
    },
    {
      "cell_type": "code",
      "source": [
        "notas_lc <- tbl(con, \"notas_la_corta\")\n",
        "notas_lc"
      ],
      "metadata": {
        "colab": {
          "base_uri": "https://localhost:8080/",
          "height": 277
        },
        "id": "OXg7IwUuOqPQ",
        "outputId": "e9b96004-231f-43b7-8c1d-389b9edcc33a"
      },
      "execution_count": 9,
      "outputs": [
        {
          "output_type": "display_data",
          "data": {
            "text/plain": [
              "\u001b[90m# Source:   table<notas_la_corta> [?? x 6]\u001b[39m\n",
              "\u001b[90m# Database: mysql  [sismos@db4free.net:NA/estiquetados]\u001b[39m\n",
              "      id fechasql   tag       titulo                                bajada nota \n",
              "   \u001b[3m\u001b[90m<int>\u001b[39m\u001b[23m \u001b[3m\u001b[90m<date>\u001b[39m\u001b[23m     \u001b[3m\u001b[90m<chr>\u001b[39m\u001b[23m     \u001b[3m\u001b[90m<chr>\u001b[39m\u001b[23m                                 \u001b[3m\u001b[90m<chr>\u001b[39m\u001b[23m  \u001b[3m\u001b[90m<chr>\u001b[39m\u001b[23m\n",
              "\u001b[90m 1\u001b[39m \u001b[4m7\u001b[24m\u001b[4m8\u001b[24m527 2016-09-05 La Ciudad Acción Marplatense reclama la apertu… \u001b[90m\"\u001b[39mEl s… \u001b[90m\"\u001b[39mAcc…\n",
              "\u001b[90m 2\u001b[39m \u001b[4m6\u001b[24m\u001b[4m8\u001b[24m013 2019-01-07 La Ciudad “Síntesis verde” de nanopartículas a… \u001b[90m\"\u001b[39mInve… \u001b[90m\"\u001b[39mMed…\n",
              "\u001b[90m 3\u001b[39m \u001b[4m1\u001b[24m\u001b[4m3\u001b[24m835 2020-08-14 La Ciudad Sigue la suma de casos sin nexo epid… \u001b[90m\"\u001b[39mSurg… \u001b[90m\"\u001b[39mEn …\n",
              "\u001b[90m 4\u001b[39m \u001b[4m1\u001b[24m\u001b[4m0\u001b[24m441 2021-04-04 La Ciudad Éxodo turístico: Mil autos por hora … \u001b[90m\"\u001b[39mHay … \u001b[90m\"\u001b[39mCon…\n",
              "\u001b[90m 5\u001b[39m \u001b[4m1\u001b[24m\u001b[4m6\u001b[24m527 2020-03-10 La Ciudad Montenegro elevó la emergencia sanit… \u001b[90m\"\u001b[39mEl g… \u001b[90m\"\u001b[39mEl …\n",
              "\u001b[90m 6\u001b[39m \u001b[4m6\u001b[24m\u001b[4m9\u001b[24m017 2018-10-08 La Ciudad En medio de las denuncias de Carrió,… \u001b[90m\"\u001b[39mManu… \u001b[90m\"\u001b[39mEl …\n",
              "\u001b[90m 7\u001b[39m \u001b[4m6\u001b[24m\u001b[4m5\u001b[24m283 2019-08-19 La Ciudad Los reyes del streaming: un boom en … \u001b[90m\"\u001b[39m\u001b[90m\"\u001b[39m     \u001b[90m\"\u001b[39mEl …\n",
              "\u001b[90m 8\u001b[39m \u001b[4m1\u001b[24m\u001b[4m2\u001b[24m390 2020-12-04 La Ciudad Confirman dos muertes y 104 nuevos c… \u001b[90m\"\u001b[39mHubo… \u001b[90m\"\u001b[39m&nb…\n",
              "\u001b[90m 9\u001b[39m \u001b[4m6\u001b[24m\u001b[4m5\u001b[24m524 2019-07-31 La Ciudad Urtubey: &#8220;Hay que poner plata … \u001b[90m\"\u001b[39mEl c… \u001b[90m\"\u001b[39mEl …\n",
              "\u001b[90m10\u001b[39m \u001b[4m8\u001b[24m\u001b[4m1\u001b[24m377 2016-03-19 La Ciudad Con la cremá de la falla, culmina la… \u001b[90m\"\u001b[39mCon … \u001b[90m\"\u001b[39mLa …\n",
              "\u001b[90m# ℹ more rows\u001b[39m"
            ]
          },
          "metadata": {}
        }
      ]
    }
  ]
}