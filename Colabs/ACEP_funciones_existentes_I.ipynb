{
  "nbformat": 4,
  "nbformat_minor": 0,
  "metadata": {
    "colab": {
      "provenance": [],
      "authorship_tag": "ABX9TyMpNTqsf1y0jElil5/4bFD3",
      "include_colab_link": true
    },
    "kernelspec": {
      "name": "ir",
      "display_name": "R"
    },
    "language_info": {
      "name": "R"
    }
  },
  "cells": [
    {
      "cell_type": "markdown",
      "metadata": {
        "id": "view-in-github",
        "colab_type": "text"
      },
      "source": [
        "<a href=\"https://colab.research.google.com/github/agusnieto77/taller_pict_2019/blob/main/Colabs/ACEP_funciones_existentes_I.ipynb\" target=\"_parent\"><img src=\"https://colab.research.google.com/assets/colab-badge.svg\" alt=\"Open In Colab\"/></a>"
      ]
    },
    {
      "cell_type": "code",
      "execution_count": 1,
      "metadata": {
        "id": "ThmpIJYljSTT",
        "outputId": "e56c070f-1b37-4061-db23-2a2efb42f3d3",
        "colab": {
          "base_uri": "https://localhost:8080/"
        }
      },
      "outputs": [
        {
          "output_type": "stream",
          "name": "stderr",
          "text": [
            "Installing package into ‘/usr/local/lib/R/site-library’\n",
            "(as ‘lib’ is unspecified)\n",
            "\n"
          ]
        }
      ],
      "source": [
        "install.packages(\"ACEP\")"
      ]
    },
    {
      "cell_type": "code",
      "source": [
        "require(ACEP)"
      ],
      "metadata": {
        "id": "yvhkmoqEjvZO",
        "outputId": "d3db605f-ca01-4c82-f340-289ff086b2a6",
        "colab": {
          "base_uri": "https://localhost:8080/"
        }
      },
      "execution_count": 2,
      "outputs": [
        {
          "output_type": "stream",
          "name": "stderr",
          "text": [
            "Loading required package: ACEP\n",
            "\n"
          ]
        }
      ]
    },
    {
      "cell_type": "code",
      "source": [
        "acep_clean(\"La UTA inició un paro de colectivos por tiempo indeterminado\")"
      ],
      "metadata": {
        "id": "ubZxi3WJj2Se",
        "outputId": "b3a3c59c-f072-489b-aa8f-95fba23b750b",
        "colab": {
          "base_uri": "https://localhost:8080/",
          "height": 34
        }
      },
      "execution_count": 3,
      "outputs": [
        {
          "output_type": "display_data",
          "data": {
            "text/html": [
              "'uta inicio paro colectivos tiempo indeterminado'"
            ],
            "text/markdown": "'uta inicio paro colectivos tiempo indeterminado'",
            "text/latex": "'uta inicio paro colectivos tiempo indeterminado'",
            "text/plain": [
              "[1] \"uta inicio paro colectivos tiempo indeterminado\""
            ]
          },
          "metadata": {}
        }
      ]
    },
    {
      "cell_type": "code",
      "source": [
        "uta <- acep_token(c(\"uta inicio paro colectivos tiempo indeterminado\",\n",
        "\"uta inicio paro colectivos tiempo\",\n",
        "\"uta inicio paro colectivos\",\n",
        "\"uta inicio paro\",\n",
        "\"uta inicio\",\n",
        "\"uta\"))\n",
        "uta"
      ],
      "metadata": {
        "id": "uhOCAIp4kOAm",
        "outputId": "b664ba7a-f8e2-4f09-9037-f0b1186f5bc7",
        "colab": {
          "base_uri": "https://localhost:8080/",
          "height": 756
        }
      },
      "execution_count": 5,
      "outputs": [
        {
          "output_type": "display_data",
          "data": {
            "text/html": [
              "<table class=\"dataframe\">\n",
              "<caption>A data.frame: 21 × 5</caption>\n",
              "<thead>\n",
              "\t<tr><th scope=col>id_doc</th><th scope=col>texto</th><th scope=col>id_token</th><th scope=col>id_token_doc</th><th scope=col>token</th></tr>\n",
              "\t<tr><th scope=col>&lt;int&gt;</th><th scope=col>&lt;chr&gt;</th><th scope=col>&lt;int&gt;</th><th scope=col>&lt;int&gt;</th><th scope=col>&lt;chr&gt;</th></tr>\n",
              "</thead>\n",
              "<tbody>\n",
              "\t<tr><td>1</td><td>uta inicio paro colectivos tiempo indeterminado</td><td> 1</td><td>1</td><td>uta          </td></tr>\n",
              "\t<tr><td>1</td><td>uta inicio paro colectivos tiempo indeterminado</td><td> 2</td><td>2</td><td>inicio       </td></tr>\n",
              "\t<tr><td>1</td><td>uta inicio paro colectivos tiempo indeterminado</td><td> 3</td><td>3</td><td>paro         </td></tr>\n",
              "\t<tr><td>1</td><td>uta inicio paro colectivos tiempo indeterminado</td><td> 4</td><td>4</td><td>colectivos   </td></tr>\n",
              "\t<tr><td>1</td><td>uta inicio paro colectivos tiempo indeterminado</td><td> 5</td><td>5</td><td>tiempo       </td></tr>\n",
              "\t<tr><td>1</td><td>uta inicio paro colectivos tiempo indeterminado</td><td> 6</td><td>6</td><td>indeterminado</td></tr>\n",
              "\t<tr><td>2</td><td>uta inicio paro colectivos tiempo              </td><td> 7</td><td>1</td><td>uta          </td></tr>\n",
              "\t<tr><td>2</td><td>uta inicio paro colectivos tiempo              </td><td> 8</td><td>2</td><td>inicio       </td></tr>\n",
              "\t<tr><td>2</td><td>uta inicio paro colectivos tiempo              </td><td> 9</td><td>3</td><td>paro         </td></tr>\n",
              "\t<tr><td>2</td><td>uta inicio paro colectivos tiempo              </td><td>10</td><td>4</td><td>colectivos   </td></tr>\n",
              "\t<tr><td>2</td><td>uta inicio paro colectivos tiempo              </td><td>11</td><td>5</td><td>tiempo       </td></tr>\n",
              "\t<tr><td>3</td><td>uta inicio paro colectivos                     </td><td>12</td><td>1</td><td>uta          </td></tr>\n",
              "\t<tr><td>3</td><td>uta inicio paro colectivos                     </td><td>13</td><td>2</td><td>inicio       </td></tr>\n",
              "\t<tr><td>3</td><td>uta inicio paro colectivos                     </td><td>14</td><td>3</td><td>paro         </td></tr>\n",
              "\t<tr><td>3</td><td>uta inicio paro colectivos                     </td><td>15</td><td>4</td><td>colectivos   </td></tr>\n",
              "\t<tr><td>4</td><td>uta inicio paro                                </td><td>16</td><td>1</td><td>uta          </td></tr>\n",
              "\t<tr><td>4</td><td>uta inicio paro                                </td><td>17</td><td>2</td><td>inicio       </td></tr>\n",
              "\t<tr><td>4</td><td>uta inicio paro                                </td><td>18</td><td>3</td><td>paro         </td></tr>\n",
              "\t<tr><td>5</td><td>uta inicio                                     </td><td>19</td><td>1</td><td>uta          </td></tr>\n",
              "\t<tr><td>5</td><td>uta inicio                                     </td><td>20</td><td>2</td><td>inicio       </td></tr>\n",
              "\t<tr><td>6</td><td>uta                                            </td><td>21</td><td>1</td><td>uta          </td></tr>\n",
              "</tbody>\n",
              "</table>\n"
            ],
            "text/markdown": "\nA data.frame: 21 × 5\n\n| id_doc &lt;int&gt; | texto &lt;chr&gt; | id_token &lt;int&gt; | id_token_doc &lt;int&gt; | token &lt;chr&gt; |\n|---|---|---|---|---|\n| 1 | uta inicio paro colectivos tiempo indeterminado |  1 | 1 | uta           |\n| 1 | uta inicio paro colectivos tiempo indeterminado |  2 | 2 | inicio        |\n| 1 | uta inicio paro colectivos tiempo indeterminado |  3 | 3 | paro          |\n| 1 | uta inicio paro colectivos tiempo indeterminado |  4 | 4 | colectivos    |\n| 1 | uta inicio paro colectivos tiempo indeterminado |  5 | 5 | tiempo        |\n| 1 | uta inicio paro colectivos tiempo indeterminado |  6 | 6 | indeterminado |\n| 2 | uta inicio paro colectivos tiempo               |  7 | 1 | uta           |\n| 2 | uta inicio paro colectivos tiempo               |  8 | 2 | inicio        |\n| 2 | uta inicio paro colectivos tiempo               |  9 | 3 | paro          |\n| 2 | uta inicio paro colectivos tiempo               | 10 | 4 | colectivos    |\n| 2 | uta inicio paro colectivos tiempo               | 11 | 5 | tiempo        |\n| 3 | uta inicio paro colectivos                      | 12 | 1 | uta           |\n| 3 | uta inicio paro colectivos                      | 13 | 2 | inicio        |\n| 3 | uta inicio paro colectivos                      | 14 | 3 | paro          |\n| 3 | uta inicio paro colectivos                      | 15 | 4 | colectivos    |\n| 4 | uta inicio paro                                 | 16 | 1 | uta           |\n| 4 | uta inicio paro                                 | 17 | 2 | inicio        |\n| 4 | uta inicio paro                                 | 18 | 3 | paro          |\n| 5 | uta inicio                                      | 19 | 1 | uta           |\n| 5 | uta inicio                                      | 20 | 2 | inicio        |\n| 6 | uta                                             | 21 | 1 | uta           |\n\n",
            "text/latex": "A data.frame: 21 × 5\n\\begin{tabular}{lllll}\n id\\_doc & texto & id\\_token & id\\_token\\_doc & token\\\\\n <int> & <chr> & <int> & <int> & <chr>\\\\\n\\hline\n\t 1 & uta inicio paro colectivos tiempo indeterminado &  1 & 1 & uta          \\\\\n\t 1 & uta inicio paro colectivos tiempo indeterminado &  2 & 2 & inicio       \\\\\n\t 1 & uta inicio paro colectivos tiempo indeterminado &  3 & 3 & paro         \\\\\n\t 1 & uta inicio paro colectivos tiempo indeterminado &  4 & 4 & colectivos   \\\\\n\t 1 & uta inicio paro colectivos tiempo indeterminado &  5 & 5 & tiempo       \\\\\n\t 1 & uta inicio paro colectivos tiempo indeterminado &  6 & 6 & indeterminado\\\\\n\t 2 & uta inicio paro colectivos tiempo               &  7 & 1 & uta          \\\\\n\t 2 & uta inicio paro colectivos tiempo               &  8 & 2 & inicio       \\\\\n\t 2 & uta inicio paro colectivos tiempo               &  9 & 3 & paro         \\\\\n\t 2 & uta inicio paro colectivos tiempo               & 10 & 4 & colectivos   \\\\\n\t 2 & uta inicio paro colectivos tiempo               & 11 & 5 & tiempo       \\\\\n\t 3 & uta inicio paro colectivos                      & 12 & 1 & uta          \\\\\n\t 3 & uta inicio paro colectivos                      & 13 & 2 & inicio       \\\\\n\t 3 & uta inicio paro colectivos                      & 14 & 3 & paro         \\\\\n\t 3 & uta inicio paro colectivos                      & 15 & 4 & colectivos   \\\\\n\t 4 & uta inicio paro                                 & 16 & 1 & uta          \\\\\n\t 4 & uta inicio paro                                 & 17 & 2 & inicio       \\\\\n\t 4 & uta inicio paro                                 & 18 & 3 & paro         \\\\\n\t 5 & uta inicio                                      & 19 & 1 & uta          \\\\\n\t 5 & uta inicio                                      & 20 & 2 & inicio       \\\\\n\t 6 & uta                                             & 21 & 1 & uta          \\\\\n\\end{tabular}\n",
            "text/plain": [
              "   id_doc texto                                           id_token id_token_doc\n",
              "1  1      uta inicio paro colectivos tiempo indeterminado  1       1           \n",
              "2  1      uta inicio paro colectivos tiempo indeterminado  2       2           \n",
              "3  1      uta inicio paro colectivos tiempo indeterminado  3       3           \n",
              "4  1      uta inicio paro colectivos tiempo indeterminado  4       4           \n",
              "5  1      uta inicio paro colectivos tiempo indeterminado  5       5           \n",
              "6  1      uta inicio paro colectivos tiempo indeterminado  6       6           \n",
              "7  2      uta inicio paro colectivos tiempo                7       1           \n",
              "8  2      uta inicio paro colectivos tiempo                8       2           \n",
              "9  2      uta inicio paro colectivos tiempo                9       3           \n",
              "10 2      uta inicio paro colectivos tiempo               10       4           \n",
              "11 2      uta inicio paro colectivos tiempo               11       5           \n",
              "12 3      uta inicio paro colectivos                      12       1           \n",
              "13 3      uta inicio paro colectivos                      13       2           \n",
              "14 3      uta inicio paro colectivos                      14       3           \n",
              "15 3      uta inicio paro colectivos                      15       4           \n",
              "16 4      uta inicio paro                                 16       1           \n",
              "17 4      uta inicio paro                                 17       2           \n",
              "18 4      uta inicio paro                                 18       3           \n",
              "19 5      uta inicio                                      19       1           \n",
              "20 5      uta inicio                                      20       2           \n",
              "21 6      uta                                             21       1           \n",
              "   token        \n",
              "1  uta          \n",
              "2  inicio       \n",
              "3  paro         \n",
              "4  colectivos   \n",
              "5  tiempo       \n",
              "6  indeterminado\n",
              "7  uta          \n",
              "8  inicio       \n",
              "9  paro         \n",
              "10 colectivos   \n",
              "11 tiempo       \n",
              "12 uta          \n",
              "13 inicio       \n",
              "14 paro         \n",
              "15 colectivos   \n",
              "16 uta          \n",
              "17 inicio       \n",
              "18 paro         \n",
              "19 uta          \n",
              "20 inicio       \n",
              "21 uta          "
            ]
          },
          "metadata": {}
        }
      ]
    },
    {
      "cell_type": "code",
      "source": [
        "acep_token_table(uta$token)"
      ],
      "metadata": {
        "id": "-6YhRzyBk5ln",
        "outputId": "fb2a830a-8344-49ad-856d-aa2dc825fcb8",
        "colab": {
          "base_uri": "https://localhost:8080/",
          "height": 286
        }
      },
      "execution_count": 6,
      "outputs": [
        {
          "output_type": "display_data",
          "data": {
            "text/html": [
              "<table class=\"dataframe\">\n",
              "<caption>A data.frame: 6 × 3</caption>\n",
              "<thead>\n",
              "\t<tr><th></th><th scope=col>token</th><th scope=col>frec</th><th scope=col>prop</th></tr>\n",
              "\t<tr><th></th><th scope=col>&lt;fct&gt;</th><th scope=col>&lt;int&gt;</th><th scope=col>&lt;dbl&gt;</th></tr>\n",
              "</thead>\n",
              "<tbody>\n",
              "\t<tr><th scope=row>1</th><td>uta          </td><td>6</td><td>0.28571429</td></tr>\n",
              "\t<tr><th scope=row>2</th><td>inicio       </td><td>5</td><td>0.23809524</td></tr>\n",
              "\t<tr><th scope=row>3</th><td>paro         </td><td>4</td><td>0.19047619</td></tr>\n",
              "\t<tr><th scope=row>4</th><td>colectivos   </td><td>3</td><td>0.14285714</td></tr>\n",
              "\t<tr><th scope=row>5</th><td>tiempo       </td><td>2</td><td>0.09523810</td></tr>\n",
              "\t<tr><th scope=row>6</th><td>indeterminado</td><td>1</td><td>0.04761905</td></tr>\n",
              "</tbody>\n",
              "</table>\n"
            ],
            "text/markdown": "\nA data.frame: 6 × 3\n\n| <!--/--> | token &lt;fct&gt; | frec &lt;int&gt; | prop &lt;dbl&gt; |\n|---|---|---|---|\n| 1 | uta           | 6 | 0.28571429 |\n| 2 | inicio        | 5 | 0.23809524 |\n| 3 | paro          | 4 | 0.19047619 |\n| 4 | colectivos    | 3 | 0.14285714 |\n| 5 | tiempo        | 2 | 0.09523810 |\n| 6 | indeterminado | 1 | 0.04761905 |\n\n",
            "text/latex": "A data.frame: 6 × 3\n\\begin{tabular}{r|lll}\n  & token & frec & prop\\\\\n  & <fct> & <int> & <dbl>\\\\\n\\hline\n\t1 & uta           & 6 & 0.28571429\\\\\n\t2 & inicio        & 5 & 0.23809524\\\\\n\t3 & paro          & 4 & 0.19047619\\\\\n\t4 & colectivos    & 3 & 0.14285714\\\\\n\t5 & tiempo        & 2 & 0.09523810\\\\\n\t6 & indeterminado & 1 & 0.04761905\\\\\n\\end{tabular}\n",
            "text/plain": [
              "  token         frec prop      \n",
              "1 uta           6    0.28571429\n",
              "2 inicio        5    0.23809524\n",
              "3 paro          4    0.19047619\n",
              "4 colectivos    3    0.14285714\n",
              "5 tiempo        2    0.09523810\n",
              "6 indeterminado 1    0.04761905"
            ]
          },
          "metadata": {}
        }
      ]
    },
    {
      "cell_type": "code",
      "source": [
        "acep_token_plot(uta$token)"
      ],
      "metadata": {
        "id": "cEG8Iam6lebX",
        "outputId": "5507b7ee-307d-4a32-fb25-38e6a5236d18",
        "colab": {
          "base_uri": "https://localhost:8080/",
          "height": 437
        }
      },
      "execution_count": 7,
      "outputs": [
        {
          "output_type": "display_data",
          "data": {
            "text/plain": [
              "Plot with title “Top 10 de palabras frecuentes”"
            ],
            "image/png": "[encoded data removed]"
          },
          "metadata": {
            "image/png": {
              "width": 420,
              "height": 420
            }
          }
        }
      ]
    },
    {
      "cell_type": "code",
      "source": [
        "acep_frec(\"uta inicio paro colectivos tiempo indeterminado\")"
      ],
      "metadata": {
        "id": "CC5nEuN_B0Ms",
        "outputId": "398147a4-e4a0-4c59-fe31-1e2c49cf619f",
        "colab": {
          "base_uri": "https://localhost:8080/",
          "height": 34
        }
      },
      "execution_count": 8,
      "outputs": [
        {
          "output_type": "display_data",
          "data": {
            "text/html": [
              "6"
            ],
            "text/markdown": "6",
            "text/latex": "6",
            "text/plain": [
              "[1] 6"
            ]
          },
          "metadata": {}
        }
      ]
    },
    {
      "cell_type": "code",
      "source": [
        "acep_detect(\"uta inicio paro colectivos tiempo indeterminado. en la sede de la uta hubo una asamblea.\", \"uta\")"
      ],
      "metadata": {
        "id": "Rp1e50lZCVxt",
        "outputId": "3da0d91d-1b46-448b-b470-9336a8d5429a",
        "colab": {
          "base_uri": "https://localhost:8080/",
          "height": 34
        }
      },
      "execution_count": 11,
      "outputs": [
        {
          "output_type": "display_data",
          "data": {
            "text/html": [
              "1"
            ],
            "text/markdown": "1",
            "text/latex": "1",
            "text/plain": [
              "[1] 1"
            ]
          },
          "metadata": {}
        }
      ]
    },
    {
      "cell_type": "code",
      "source": [
        "acep_men(\"uta inicio paro colectivos tiempo indeterminado. en la sede de la uta hubo una asamblea.\", \"uta\")"
      ],
      "metadata": {
        "id": "b5YL5WYWCenM",
        "outputId": "0e7410a3-cff4-4484-e8f5-46cec3d0040b",
        "colab": {
          "base_uri": "https://localhost:8080/",
          "height": 34
        }
      },
      "execution_count": 12,
      "outputs": [
        {
          "output_type": "display_data",
          "data": {
            "text/html": [
              "2"
            ],
            "text/markdown": "2",
            "text/latex": "2",
            "text/plain": [
              "[1] 2"
            ]
          },
          "metadata": {}
        }
      ]
    },
    {
      "cell_type": "code",
      "source": [
        "acep_bases"
      ],
      "metadata": {
        "id": "X6NSEn57DSht",
        "outputId": "d11765dc-6360-49a4-8672-18179512a885",
        "colab": {
          "base_uri": "https://localhost:8080/",
          "height": 1000
        }
      },
      "execution_count": 13,
      "outputs": [
        {
          "output_type": "display_data",
          "data": {
            "text/html": [
              "<dl>\n",
              "\t<dt>$la_nueva</dt>\n",
              "\t\t<dd>'https://observatoriodeconflictividad.org/basesdatos/la_nueva.rds'</dd>\n",
              "\t<dt>$rev_puerto</dt>\n",
              "\t\t<dd>'https://observatoriodeconflictividad.org/basesdatos/rev_puerto.rds'</dd>\n",
              "\t<dt>$rp_procesada</dt>\n",
              "\t\t<dd><table class=\"dataframe\">\n",
              "<caption>A tibble: 7816 × 4</caption>\n",
              "<thead>\n",
              "\t<tr><th scope=col>fecha</th><th scope=col>n_palabras</th><th scope=col>conflictos</th><th scope=col>intensidad</th></tr>\n",
              "\t<tr><th scope=col>&lt;date&gt;</th><th scope=col>&lt;int&gt;</th><th scope=col>&lt;int&gt;</th><th scope=col>&lt;dbl&gt;</th></tr>\n",
              "</thead>\n",
              "<tbody>\n",
              "\t<tr><td>2020-12-29</td><td>  31</td><td>0</td><td>0.0000</td></tr>\n",
              "\t<tr><td>2020-12-28</td><td>1128</td><td>4</td><td>0.0035</td></tr>\n",
              "\t<tr><td>2020-12-24</td><td> 530</td><td>0</td><td>0.0000</td></tr>\n",
              "\t<tr><td>2020-12-24</td><td> 483</td><td>3</td><td>0.0062</td></tr>\n",
              "\t<tr><td>2020-12-23</td><td> 525</td><td>1</td><td>0.0019</td></tr>\n",
              "\t<tr><td>2020-12-23</td><td> 462</td><td>0</td><td>0.0000</td></tr>\n",
              "\t<tr><td>2020-12-22</td><td> 650</td><td>2</td><td>0.0031</td></tr>\n",
              "\t<tr><td>2020-12-22</td><td> 830</td><td>0</td><td>0.0000</td></tr>\n",
              "\t<tr><td>2020-12-21</td><td>1434</td><td>4</td><td>0.0028</td></tr>\n",
              "\t<tr><td>2020-12-21</td><td>1056</td><td>0</td><td>0.0000</td></tr>\n",
              "\t<tr><td>2020-12-18</td><td>1257</td><td>1</td><td>0.0008</td></tr>\n",
              "\t<tr><td>2020-12-18</td><td>1024</td><td>4</td><td>0.0039</td></tr>\n",
              "\t<tr><td>2020-12-18</td><td> 553</td><td>0</td><td>0.0000</td></tr>\n",
              "\t<tr><td>2020-12-17</td><td> 308</td><td>0</td><td>0.0000</td></tr>\n",
              "\t<tr><td>2020-12-17</td><td> 646</td><td>0</td><td>0.0000</td></tr>\n",
              "\t<tr><td>2020-12-16</td><td> 416</td><td>3</td><td>0.0072</td></tr>\n",
              "\t<tr><td>2020-12-15</td><td> 747</td><td>5</td><td>0.0067</td></tr>\n",
              "\t<tr><td>2020-12-15</td><td> 726</td><td>1</td><td>0.0014</td></tr>\n",
              "\t<tr><td>2020-12-15</td><td> 482</td><td>1</td><td>0.0021</td></tr>\n",
              "\t<tr><td>2020-12-14</td><td> 896</td><td>0</td><td>0.0000</td></tr>\n",
              "\t<tr><td>2020-12-14</td><td> 774</td><td>1</td><td>0.0013</td></tr>\n",
              "\t<tr><td>2020-12-14</td><td> 652</td><td>0</td><td>0.0000</td></tr>\n",
              "\t<tr><td>2020-12-11</td><td> 607</td><td>0</td><td>0.0000</td></tr>\n",
              "\t<tr><td>2020-12-11</td><td> 500</td><td>0</td><td>0.0000</td></tr>\n",
              "\t<tr><td>2020-12-11</td><td> 507</td><td>1</td><td>0.0020</td></tr>\n",
              "\t<tr><td>2020-12-10</td><td> 855</td><td>2</td><td>0.0023</td></tr>\n",
              "\t<tr><td>2020-12-10</td><td> 554</td><td>2</td><td>0.0036</td></tr>\n",
              "\t<tr><td>2020-12-09</td><td> 978</td><td>0</td><td>0.0000</td></tr>\n",
              "\t<tr><td>2020-12-08</td><td> 681</td><td>1</td><td>0.0015</td></tr>\n",
              "\t<tr><td>2020-12-08</td><td> 522</td><td>1</td><td>0.0019</td></tr>\n",
              "\t<tr><td>⋮</td><td>⋮</td><td>⋮</td><td>⋮</td></tr>\n",
              "\t<tr><td>2009-03-10</td><td> 515</td><td>1</td><td>0.0019</td></tr>\n",
              "\t<tr><td>2009-03-09</td><td>1145</td><td>0</td><td>0.0000</td></tr>\n",
              "\t<tr><td>2009-03-09</td><td> 289</td><td>0</td><td>0.0000</td></tr>\n",
              "\t<tr><td>2009-03-09</td><td> 597</td><td>2</td><td>0.0034</td></tr>\n",
              "\t<tr><td>2009-03-06</td><td> 266</td><td>0</td><td>0.0000</td></tr>\n",
              "\t<tr><td>2009-03-06</td><td> 686</td><td>0</td><td>0.0000</td></tr>\n",
              "\t<tr><td>2009-03-06</td><td>1121</td><td>1</td><td>0.0009</td></tr>\n",
              "\t<tr><td>2009-03-06</td><td> 754</td><td>6</td><td>0.0080</td></tr>\n",
              "\t<tr><td>2009-03-06</td><td>1068</td><td>1</td><td>0.0009</td></tr>\n",
              "\t<tr><td>2009-03-05</td><td> 955</td><td>5</td><td>0.0052</td></tr>\n",
              "\t<tr><td>2009-03-05</td><td> 848</td><td>1</td><td>0.0012</td></tr>\n",
              "\t<tr><td>2009-03-05</td><td> 386</td><td>1</td><td>0.0026</td></tr>\n",
              "\t<tr><td>2009-03-04</td><td> 433</td><td>1</td><td>0.0023</td></tr>\n",
              "\t<tr><td>2009-03-04</td><td>1535</td><td>9</td><td>0.0059</td></tr>\n",
              "\t<tr><td>2009-03-04</td><td>1034</td><td>1</td><td>0.0010</td></tr>\n",
              "\t<tr><td>2009-03-04</td><td> 927</td><td>0</td><td>0.0000</td></tr>\n",
              "\t<tr><td>2009-03-04</td><td> 239</td><td>0</td><td>0.0000</td></tr>\n",
              "\t<tr><td>2009-03-03</td><td> 564</td><td>0</td><td>0.0000</td></tr>\n",
              "\t<tr><td>2009-03-03</td><td> 700</td><td>0</td><td>0.0000</td></tr>\n",
              "\t<tr><td>2009-03-03</td><td>1049</td><td>2</td><td>0.0019</td></tr>\n",
              "\t<tr><td>2009-03-02</td><td>1387</td><td>3</td><td>0.0022</td></tr>\n",
              "\t<tr><td>2009-03-02</td><td>1171</td><td>5</td><td>0.0043</td></tr>\n",
              "\t<tr><td>2009-03-02</td><td> 952</td><td>0</td><td>0.0000</td></tr>\n",
              "\t<tr><td>2009-03-02</td><td>1977</td><td>7</td><td>0.0035</td></tr>\n",
              "\t<tr><td>2009-03-02</td><td>1315</td><td>4</td><td>0.0030</td></tr>\n",
              "\t<tr><td>2009-03-02</td><td>1228</td><td>0</td><td>0.0000</td></tr>\n",
              "\t<tr><td>2009-03-02</td><td> 722</td><td>0</td><td>0.0000</td></tr>\n",
              "\t<tr><td>2009-03-02</td><td> 605</td><td>2</td><td>0.0033</td></tr>\n",
              "\t<tr><td>2009-03-02</td><td> 820</td><td>1</td><td>0.0012</td></tr>\n",
              "\t<tr><td>2009-03-02</td><td> 764</td><td>2</td><td>0.0026</td></tr>\n",
              "</tbody>\n",
              "</table>\n",
              "</dd>\n",
              "\t<dt>$lc_mdp</dt>\n",
              "\t\t<dd>'https://observatoriodeconflictividad.org/basesdatos/lc_mdp.rds'</dd>\n",
              "\t<dt>$rp_mdp</dt>\n",
              "\t\t<dd>'https://github.com/HDyCSC/datos/raw/9ffd8723d407f749a0ae51cb589983534b4e3c10/rp_mdp.rds'</dd>\n",
              "\t<dt>$ed_neco</dt>\n",
              "\t\t<dd>'https://github.com/HDyCSC/datos/raw/57658bfaf670b1d552fd03a5b13402c987bbd690/ed_neco.rds'</dd>\n",
              "\t<dt>$ln_bb</dt>\n",
              "\t\t<dd>'https://observatoriodeconflictividad.org/basesdatos/ln_bb.rds'</dd>\n",
              "\t<dt>$ln_arg</dt>\n",
              "\t\t<dd>'https://observatoriodeconflictividad.org/basesdatos/ln_arg_subset.rds'</dd>\n",
              "</dl>\n"
            ],
            "text/markdown": "$la_nueva\n:   'https://observatoriodeconflictividad.org/basesdatos/la_nueva.rds'\n$rev_puerto\n:   'https://observatoriodeconflictividad.org/basesdatos/rev_puerto.rds'\n$rp_procesada\n:   \nA tibble: 7816 × 4\n\n| fecha &lt;date&gt; | n_palabras &lt;int&gt; | conflictos &lt;int&gt; | intensidad &lt;dbl&gt; |\n|---|---|---|---|\n| 2020-12-29 |   31 | 0 | 0.0000 |\n| 2020-12-28 | 1128 | 4 | 0.0035 |\n| 2020-12-24 |  530 | 0 | 0.0000 |\n| 2020-12-24 |  483 | 3 | 0.0062 |\n| 2020-12-23 |  525 | 1 | 0.0019 |\n| 2020-12-23 |  462 | 0 | 0.0000 |\n| 2020-12-22 |  650 | 2 | 0.0031 |\n| 2020-12-22 |  830 | 0 | 0.0000 |\n| 2020-12-21 | 1434 | 4 | 0.0028 |\n| 2020-12-21 | 1056 | 0 | 0.0000 |\n| 2020-12-18 | 1257 | 1 | 0.0008 |\n| 2020-12-18 | 1024 | 4 | 0.0039 |\n| 2020-12-18 |  553 | 0 | 0.0000 |\n| 2020-12-17 |  308 | 0 | 0.0000 |\n| 2020-12-17 |  646 | 0 | 0.0000 |\n| 2020-12-16 |  416 | 3 | 0.0072 |\n| 2020-12-15 |  747 | 5 | 0.0067 |\n| 2020-12-15 |  726 | 1 | 0.0014 |\n| 2020-12-15 |  482 | 1 | 0.0021 |\n| 2020-12-14 |  896 | 0 | 0.0000 |\n| 2020-12-14 |  774 | 1 | 0.0013 |\n| 2020-12-14 |  652 | 0 | 0.0000 |\n| 2020-12-11 |  607 | 0 | 0.0000 |\n| 2020-12-11 |  500 | 0 | 0.0000 |\n| 2020-12-11 |  507 | 1 | 0.0020 |\n| 2020-12-10 |  855 | 2 | 0.0023 |\n| 2020-12-10 |  554 | 2 | 0.0036 |\n| 2020-12-09 |  978 | 0 | 0.0000 |\n| 2020-12-08 |  681 | 1 | 0.0015 |\n| 2020-12-08 |  522 | 1 | 0.0019 |\n| ⋮ | ⋮ | ⋮ | ⋮ |\n| 2009-03-10 |  515 | 1 | 0.0019 |\n| 2009-03-09 | 1145 | 0 | 0.0000 |\n| 2009-03-09 |  289 | 0 | 0.0000 |\n| 2009-03-09 |  597 | 2 | 0.0034 |\n| 2009-03-06 |  266 | 0 | 0.0000 |\n| 2009-03-06 |  686 | 0 | 0.0000 |\n| 2009-03-06 | 1121 | 1 | 0.0009 |\n| 2009-03-06 |  754 | 6 | 0.0080 |\n| 2009-03-06 | 1068 | 1 | 0.0009 |\n| 2009-03-05 |  955 | 5 | 0.0052 |\n| 2009-03-05 |  848 | 1 | 0.0012 |\n| 2009-03-05 |  386 | 1 | 0.0026 |\n| 2009-03-04 |  433 | 1 | 0.0023 |\n| 2009-03-04 | 1535 | 9 | 0.0059 |\n| 2009-03-04 | 1034 | 1 | 0.0010 |\n| 2009-03-04 |  927 | 0 | 0.0000 |\n| 2009-03-04 |  239 | 0 | 0.0000 |\n| 2009-03-03 |  564 | 0 | 0.0000 |\n| 2009-03-03 |  700 | 0 | 0.0000 |\n| 2009-03-03 | 1049 | 2 | 0.0019 |\n| 2009-03-02 | 1387 | 3 | 0.0022 |\n| 2009-03-02 | 1171 | 5 | 0.0043 |\n| 2009-03-02 |  952 | 0 | 0.0000 |\n| 2009-03-02 | 1977 | 7 | 0.0035 |\n| 2009-03-02 | 1315 | 4 | 0.0030 |\n| 2009-03-02 | 1228 | 0 | 0.0000 |\n| 2009-03-02 |  722 | 0 | 0.0000 |\n| 2009-03-02 |  605 | 2 | 0.0033 |\n| 2009-03-02 |  820 | 1 | 0.0012 |\n| 2009-03-02 |  764 | 2 | 0.0026 |\n\n\n$lc_mdp\n:   'https://observatoriodeconflictividad.org/basesdatos/lc_mdp.rds'\n$rp_mdp\n:   'https://github.com/HDyCSC/datos/raw/9ffd8723d407f749a0ae51cb589983534b4e3c10/rp_mdp.rds'\n$ed_neco\n:   'https://github.com/HDyCSC/datos/raw/57658bfaf670b1d552fd03a5b13402c987bbd690/ed_neco.rds'\n$ln_bb\n:   'https://observatoriodeconflictividad.org/basesdatos/ln_bb.rds'\n$ln_arg\n:   'https://observatoriodeconflictividad.org/basesdatos/ln_arg_subset.rds'\n\n\n",
            "text/latex": "\\begin{description}\n\\item[\\$la\\_nueva] 'https://observatoriodeconflictividad.org/basesdatos/la\\_nueva.rds'\n\\item[\\$rev\\_puerto] 'https://observatoriodeconflictividad.org/basesdatos/rev\\_puerto.rds'\n\\item[\\$rp\\_procesada] A tibble: 7816 × 4\n\\begin{tabular}{llll}\n fecha & n\\_palabras & conflictos & intensidad\\\\\n <date> & <int> & <int> & <dbl>\\\\\n\\hline\n\t 2020-12-29 &   31 & 0 & 0.0000\\\\\n\t 2020-12-28 & 1128 & 4 & 0.0035\\\\\n\t 2020-12-24 &  530 & 0 & 0.0000\\\\\n\t 2020-12-24 &  483 & 3 & 0.0062\\\\\n\t 2020-12-23 &  525 & 1 & 0.0019\\\\\n\t 2020-12-23 &  462 & 0 & 0.0000\\\\\n\t 2020-12-22 &  650 & 2 & 0.0031\\\\\n\t 2020-12-22 &  830 & 0 & 0.0000\\\\\n\t 2020-12-21 & 1434 & 4 & 0.0028\\\\\n\t 2020-12-21 & 1056 & 0 & 0.0000\\\\\n\t 2020-12-18 & 1257 & 1 & 0.0008\\\\\n\t 2020-12-18 & 1024 & 4 & 0.0039\\\\\n\t 2020-12-18 &  553 & 0 & 0.0000\\\\\n\t 2020-12-17 &  308 & 0 & 0.0000\\\\\n\t 2020-12-17 &  646 & 0 & 0.0000\\\\\n\t 2020-12-16 &  416 & 3 & 0.0072\\\\\n\t 2020-12-15 &  747 & 5 & 0.0067\\\\\n\t 2020-12-15 &  726 & 1 & 0.0014\\\\\n\t 2020-12-15 &  482 & 1 & 0.0021\\\\\n\t 2020-12-14 &  896 & 0 & 0.0000\\\\\n\t 2020-12-14 &  774 & 1 & 0.0013\\\\\n\t 2020-12-14 &  652 & 0 & 0.0000\\\\\n\t 2020-12-11 &  607 & 0 & 0.0000\\\\\n\t 2020-12-11 &  500 & 0 & 0.0000\\\\\n\t 2020-12-11 &  507 & 1 & 0.0020\\\\\n\t 2020-12-10 &  855 & 2 & 0.0023\\\\\n\t 2020-12-10 &  554 & 2 & 0.0036\\\\\n\t 2020-12-09 &  978 & 0 & 0.0000\\\\\n\t 2020-12-08 &  681 & 1 & 0.0015\\\\\n\t 2020-12-08 &  522 & 1 & 0.0019\\\\\n\t ⋮ & ⋮ & ⋮ & ⋮\\\\\n\t 2009-03-10 &  515 & 1 & 0.0019\\\\\n\t 2009-03-09 & 1145 & 0 & 0.0000\\\\\n\t 2009-03-09 &  289 & 0 & 0.0000\\\\\n\t 2009-03-09 &  597 & 2 & 0.0034\\\\\n\t 2009-03-06 &  266 & 0 & 0.0000\\\\\n\t 2009-03-06 &  686 & 0 & 0.0000\\\\\n\t 2009-03-06 & 1121 & 1 & 0.0009\\\\\n\t 2009-03-06 &  754 & 6 & 0.0080\\\\\n\t 2009-03-06 & 1068 & 1 & 0.0009\\\\\n\t 2009-03-05 &  955 & 5 & 0.0052\\\\\n\t 2009-03-05 &  848 & 1 & 0.0012\\\\\n\t 2009-03-05 &  386 & 1 & 0.0026\\\\\n\t 2009-03-04 &  433 & 1 & 0.0023\\\\\n\t 2009-03-04 & 1535 & 9 & 0.0059\\\\\n\t 2009-03-04 & 1034 & 1 & 0.0010\\\\\n\t 2009-03-04 &  927 & 0 & 0.0000\\\\\n\t 2009-03-04 &  239 & 0 & 0.0000\\\\\n\t 2009-03-03 &  564 & 0 & 0.0000\\\\\n\t 2009-03-03 &  700 & 0 & 0.0000\\\\\n\t 2009-03-03 & 1049 & 2 & 0.0019\\\\\n\t 2009-03-02 & 1387 & 3 & 0.0022\\\\\n\t 2009-03-02 & 1171 & 5 & 0.0043\\\\\n\t 2009-03-02 &  952 & 0 & 0.0000\\\\\n\t 2009-03-02 & 1977 & 7 & 0.0035\\\\\n\t 2009-03-02 & 1315 & 4 & 0.0030\\\\\n\t 2009-03-02 & 1228 & 0 & 0.0000\\\\\n\t 2009-03-02 &  722 & 0 & 0.0000\\\\\n\t 2009-03-02 &  605 & 2 & 0.0033\\\\\n\t 2009-03-02 &  820 & 1 & 0.0012\\\\\n\t 2009-03-02 &  764 & 2 & 0.0026\\\\\n\\end{tabular}\n\n\\item[\\$lc\\_mdp] 'https://observatoriodeconflictividad.org/basesdatos/lc\\_mdp.rds'\n\\item[\\$rp\\_mdp] 'https://github.com/HDyCSC/datos/raw/9ffd8723d407f749a0ae51cb589983534b4e3c10/rp\\_mdp.rds'\n\\item[\\$ed\\_neco] 'https://github.com/HDyCSC/datos/raw/57658bfaf670b1d552fd03a5b13402c987bbd690/ed\\_neco.rds'\n\\item[\\$ln\\_bb] 'https://observatoriodeconflictividad.org/basesdatos/ln\\_bb.rds'\n\\item[\\$ln\\_arg] 'https://observatoriodeconflictividad.org/basesdatos/ln\\_arg\\_subset.rds'\n\\end{description}\n",
            "text/plain": [
              "$la_nueva\n",
              "[1] \"https://observatoriodeconflictividad.org/basesdatos/la_nueva.rds\"\n",
              "\n",
              "$rev_puerto\n",
              "[1] \"https://observatoriodeconflictividad.org/basesdatos/rev_puerto.rds\"\n",
              "\n",
              "$rp_procesada\n",
              "\u001b[90m# A data frame: 7,816 × 4\u001b[39m\n",
              "   fecha      n_palabras conflictos intensidad\n",
              "   \u001b[3m\u001b[90m<date>\u001b[39m\u001b[23m          \u001b[3m\u001b[90m<int>\u001b[39m\u001b[23m      \u001b[3m\u001b[90m<int>\u001b[39m\u001b[23m      \u001b[3m\u001b[90m<dbl>\u001b[39m\u001b[23m\n",
              "\u001b[90m 1\u001b[39m 2020-12-29         31          0     0     \n",
              "\u001b[90m 2\u001b[39m 2020-12-28       \u001b[4m1\u001b[24m128          4     0.003\u001b[4m5\u001b[24m\n",
              "\u001b[90m 3\u001b[39m 2020-12-24        530          0     0     \n",
              "\u001b[90m 4\u001b[39m 2020-12-24        483          3     0.006\u001b[4m2\u001b[24m\n",
              "\u001b[90m 5\u001b[39m 2020-12-23        525          1     0.001\u001b[4m9\u001b[24m\n",
              "\u001b[90m 6\u001b[39m 2020-12-23        462          0     0     \n",
              "\u001b[90m 7\u001b[39m 2020-12-22        650          2     0.003\u001b[4m1\u001b[24m\n",
              "\u001b[90m 8\u001b[39m 2020-12-22        830          0     0     \n",
              "\u001b[90m 9\u001b[39m 2020-12-21       \u001b[4m1\u001b[24m434          4     0.002\u001b[4m8\u001b[24m\n",
              "\u001b[90m10\u001b[39m 2020-12-21       \u001b[4m1\u001b[24m056          0     0     \n",
              "\u001b[90m# ℹ 7,806 more rows\u001b[39m\n",
              "\n",
              "$lc_mdp\n",
              "[1] \"https://observatoriodeconflictividad.org/basesdatos/lc_mdp.rds\"\n",
              "\n",
              "$rp_mdp\n",
              "[1] \"https://github.com/HDyCSC/datos/raw/9ffd8723d407f749a0ae51cb589983534b4e3c10/rp_mdp.rds\"\n",
              "\n",
              "$ed_neco\n",
              "[1] \"https://github.com/HDyCSC/datos/raw/57658bfaf670b1d552fd03a5b13402c987bbd690/ed_neco.rds\"\n",
              "\n",
              "$ln_bb\n",
              "[1] \"https://observatoriodeconflictividad.org/basesdatos/ln_bb.rds\"\n",
              "\n",
              "$ln_arg\n",
              "[1] \"https://observatoriodeconflictividad.org/basesdatos/ln_arg_subset.rds\"\n"
            ]
          },
          "metadata": {}
        }
      ]
    },
    {
      "cell_type": "code",
      "source": [
        "df <- data.frame(texto = c(\"El SUTEBA fue al paro. Reclaman mejoras salariales.\",\n",
        "\"El SOIP lleva adelante un plan de lucha con paros y piquetes.\"))\n",
        "diccionario <- c(\"paro\", \"lucha\", \"piquetes\")\n",
        "acep_db(df, df$texto, diccionario, 4)"
      ],
      "metadata": {
        "id": "ISIpi3CqDgvU",
        "outputId": "d4ffc10d-f2c9-4c69-adf2-f97e29c3e5be",
        "colab": {
          "base_uri": "https://localhost:8080/",
          "height": 161
        }
      },
      "execution_count": 15,
      "outputs": [
        {
          "output_type": "display_data",
          "data": {
            "text/html": [
              "<table class=\"dataframe\">\n",
              "<caption>A data.frame: 2 × 4</caption>\n",
              "<thead>\n",
              "\t<tr><th scope=col>texto</th><th scope=col>n_palabras</th><th scope=col>conflictos</th><th scope=col>intensidad</th></tr>\n",
              "\t<tr><th scope=col>&lt;chr&gt;</th><th scope=col>&lt;dbl&gt;</th><th scope=col>&lt;dbl&gt;</th><th scope=col>&lt;dbl&gt;</th></tr>\n",
              "</thead>\n",
              "<tbody>\n",
              "\t<tr><td>El SUTEBA fue al paro. Reclaman mejoras salariales.          </td><td> 8</td><td>1</td><td>0.125</td></tr>\n",
              "\t<tr><td>El SOIP lleva adelante un plan de lucha con paros y piquetes.</td><td>12</td><td>3</td><td>0.250</td></tr>\n",
              "</tbody>\n",
              "</table>\n"
            ],
            "text/markdown": "\nA data.frame: 2 × 4\n\n| texto &lt;chr&gt; | n_palabras &lt;dbl&gt; | conflictos &lt;dbl&gt; | intensidad &lt;dbl&gt; |\n|---|---|---|---|\n| El SUTEBA fue al paro. Reclaman mejoras salariales.           |  8 | 1 | 0.125 |\n| El SOIP lleva adelante un plan de lucha con paros y piquetes. | 12 | 3 | 0.250 |\n\n",
            "text/latex": "A data.frame: 2 × 4\n\\begin{tabular}{llll}\n texto & n\\_palabras & conflictos & intensidad\\\\\n <chr> & <dbl> & <dbl> & <dbl>\\\\\n\\hline\n\t El SUTEBA fue al paro. Reclaman mejoras salariales.           &  8 & 1 & 0.125\\\\\n\t El SOIP lleva adelante un plan de lucha con paros y piquetes. & 12 & 3 & 0.250\\\\\n\\end{tabular}\n",
            "text/plain": [
              "  texto                                                         n_palabras\n",
              "1 El SUTEBA fue al paro. Reclaman mejoras salariales.            8        \n",
              "2 El SOIP lleva adelante un plan de lucha con paros y piquetes. 12        \n",
              "  conflictos intensidad\n",
              "1 1          0.125     \n",
              "2 3          0.250     "
            ]
          },
          "metadata": {}
        }
      ]
    },
    {
      "cell_type": "code",
      "source": [
        "acep_diccionarios"
      ],
      "metadata": {
        "id": "9slePgSKEj0s",
        "outputId": "2fa56a27-1404-4b26-80a7-34f1c0c0d795",
        "colab": {
          "base_uri": "https://localhost:8080/",
          "height": 149
        }
      },
      "execution_count": 16,
      "outputs": [
        {
          "output_type": "display_data",
          "data": {
            "text/html": [
              "<dl>\n",
              "\t<dt>$dicc_confl_gp</dt>\n",
              "\t\t<dd>'https://observatoriodeconflictividad.org/basesdatos/dicc_confl_gp.rds'</dd>\n",
              "\t<dt>$dicc_viol_gp</dt>\n",
              "\t\t<dd>'https://observatoriodeconflictividad.org/basesdatos/dicc_viol_gp.rds'</dd>\n",
              "\t<dt>$dicc_confl_sismos</dt>\n",
              "\t\t<dd>'https://observatoriodeconflictividad.org/basesdatos/dicc_confl_sismos.rds'</dd>\n",
              "</dl>\n"
            ],
            "text/markdown": "$dicc_confl_gp\n:   'https://observatoriodeconflictividad.org/basesdatos/dicc_confl_gp.rds'\n$dicc_viol_gp\n:   'https://observatoriodeconflictividad.org/basesdatos/dicc_viol_gp.rds'\n$dicc_confl_sismos\n:   'https://observatoriodeconflictividad.org/basesdatos/dicc_confl_sismos.rds'\n\n\n",
            "text/latex": "\\begin{description}\n\\item[\\$dicc\\_confl\\_gp] 'https://observatoriodeconflictividad.org/basesdatos/dicc\\_confl\\_gp.rds'\n\\item[\\$dicc\\_viol\\_gp] 'https://observatoriodeconflictividad.org/basesdatos/dicc\\_viol\\_gp.rds'\n\\item[\\$dicc\\_confl\\_sismos] 'https://observatoriodeconflictividad.org/basesdatos/dicc\\_confl\\_sismos.rds'\n\\end{description}\n",
            "text/plain": [
              "$dicc_confl_gp\n",
              "[1] \"https://observatoriodeconflictividad.org/basesdatos/dicc_confl_gp.rds\"\n",
              "\n",
              "$dicc_viol_gp\n",
              "[1] \"https://observatoriodeconflictividad.org/basesdatos/dicc_viol_gp.rds\"\n",
              "\n",
              "$dicc_confl_sismos\n",
              "[1] \"https://observatoriodeconflictividad.org/basesdatos/dicc_confl_sismos.rds\"\n"
            ]
          },
          "metadata": {}
        }
      ]
    },
    {
      "cell_type": "code",
      "source": [
        "dicc_sismos <- acep_load_base(acep_diccionarios$dicc_confl_sismos)\n",
        "dicc_sismos"
      ],
      "metadata": {
        "colab": {
          "base_uri": "https://localhost:8080/",
          "height": 347
        },
        "id": "-ZUVx4p7Epy0",
        "outputId": "4e0b4bd3-a6bb-448d-bbc3-07c5fa6d9c61"
      },
      "execution_count": 17,
      "outputs": [
        {
          "output_type": "stream",
          "name": "stderr",
          "text": [
            "Descargando...\n",
            "\n"
          ]
        },
        {
          "output_type": "display_data",
          "data": {
            "text/html": [
              "<style>\n",
              ".list-inline {list-style: none; margin:0; padding: 0}\n",
              ".list-inline>li {display: inline-block}\n",
              ".list-inline>li:not(:last-child)::after {content: \"\\00b7\"; padding: 0 .5ex}\n",
              "</style>\n",
              "<ol class=list-inline><li>' twittazo'</li><li>' twitazo'</li><li>' semaforazo'</li><li>' ladrillazo'</li><li>' tractorazo'</li><li>' banderazo'</li><li>' camionetazo'</li><li>' imput'</li><li>' acampando'</li><li>' acampar'</li><li>' acampe'</li><li>' acciones de violencia'</li><li>' acciones violentas'</li><li>' actos violentos'</li><li>' adviert'</li><li>' advert'</li><li>' advirt'</li><li>' agredi'</li><li>' agredie'</li><li>' agredir'</li><li>' agresión'</li><li>' agresion'</li><li>' agresiones'</li><li>' alerta de'</li><li>' alertan'</li><li>' amenaz'</li><li>' apalea'</li><li>' apaleó'</li><li>' apaleo'</li><li>' apedre'</li><li>' asamblea'</li><li>' ataca'</li><li>' ataque'</li><li>' banca 25'</li><li>' banca abierta'</li><li>' barricada'</li><li>' batalla'</li><li>' bloquea'</li><li>' bloqueo'</li><li>' bloqueó'</li><li>' bocinazo'</li><li>' caravana'</li><li>' besazo'</li><li>' tetazo'</li><li>' boicot'</li><li>' bronca'</li><li>' cacerolazo'</li><li>' calle cortada'</li><li>' calles cortada'</li><li>' carner'</li><li>' conciliación obligatoria'</li><li>' conciliacion obligatoria'</li><li>' conciliación no obligatoria'</li><li>' conciliacion no obligatoria'</li><li>' conferencia de prensa'</li><li>' rueda de prensa'</li><li>' continua la ocupación'</li><li>' continua la toma'</li><li>' continúa la ocupación'</li><li>' continúa la toma'</li><li>' continua el acampe'</li><li>' continúa el acampe'</li><li>' continua la usurp'</li><li>' continúa la usurp'</li><li>' cortarán el acceso'</li><li>' cortarán el puerto'</li><li>' cortarán el tránsito'</li><li>' cortarán la avenida'</li><li>' cortarán la calle'</li><li>' cortarán la intersección'</li><li>' cortarán la ruta'</li><li>' cortarán las avenidas'</li><li>' cortarán las calles'</li><li>' cortarán las intersecciones'</li><li>' cortarán las rutas'</li><li>' cortarán los accesos'</li><li>' cortaran el acceso'</li><li>' cortaran el puerto'</li><li>' cortaran el tránsito'</li><li>' cortaran el transito'</li><li>' cortaran la avenida'</li><li>' cortaran la calle'</li><li>' cortaran la intersecc'</li><li>' cortaran la ruta'</li><li>' cortaran las avenidas'</li><li>' cortaran las calles'</li><li>' cortaran las rutas'</li><li>' cortaran los accesos'</li><li>' cortaron el acceso'</li><li>' cortaron el puerto'</li><li>' cortaron el tránsito'</li><li>' cortaron el transito'</li><li>' cortaron la avenida'</li><li>' cortaron la calle'</li><li>' cortaron la intersecc'</li><li>' cortaron la ruta'</li><li>' cortaron las avenidas'</li><li>' cortaron las calles'</li><li>' cortaron las rutas'</li><li>' cortaron los accesos'</li><li>' corte de calle'</li><li>' corte de la av'</li><li>' corte de la calle'</li><li>' corte de la ruta'</li><li>' corte de ruta'</li><li>' corte en la av'</li><li>' corte en la calle'</li><li>' corte en la ruta'</li><li>' corte en las calles'</li><li>' corte en las rutas'</li><li>' cortes de calle'</li><li>' cortes de las av'</li><li>' cortes de las calles'</li><li>' cortes de las rutas'</li><li>' cortes de ruta'</li><li>' cortes en las av'</li><li>' crumir'</li><li>' demanda'</li><li>' denunci'</li><li>' pedir'</li><li>' pidie'</li><li>' pedido'</li><li>' manifestar su preocupa'</li><li>' manifestaron su preocupa'</li><li>' manifestar la preocupa'</li><li>' manifestaron la preocupa'</li><li>' desaloj'</li><li>' enfrentamiento'</li><li>' se enfrentaron'</li><li>' escrach'</li><li>' estado de alerta'</li><li>' fue agredid'</li><li>' fue atacad'</li><li>' fue bloque'</li><li>' fue ocupad'</li><li>' fue tomad'</li><li>' fueron agredid'</li><li>' fueron bloquead'</li><li>' golpiza'</li><li>' hechos de violencia'</li><li>' hechos violentos'</li><li>' huelga'</li><li>' acatamiento'</li><li>' incendiar'</li><li>' incidentes'</li><li>' justicia por mano propia'</li><li>' krumi'</li><li>' lincha'</li><li>' lockout'</li><li>' lucha'</li><li>' malestar'</li><li>' manifestaci'</li><li>' para manifes'</li><li>' marcha'</li><li>' medida de fuerza'</li><li>' medidas de fuerza'</li><li>' motín'</li><li>' motin'</li><li>' amotin'</li><li>' movilizaci'</li><li>' concentraci'</li><li>' negociación colectiva'</li><li>' negociacion colectiva'</li><li>' paran'</li><li>' pararon'</li><li>' paritaria'</li><li>' paro'</li><li>' paró'</li><li>' petici'</li><li>' pide'</li><li>' piquete'</li><li>' plan de lucha'</li><li>' protesta'</li><li>' quema'</li><li>' rebeli'</li><li>' rechaz'</li><li>' reclam'</li><li>' represi'</li><li>' reprime'</li><li>' reprimie'</li><li>' repudian'</li><li>' retención de servicios'</li><li>' retención de tarea'</li><li>' retencion de servicios'</li><li>' retencion de tarea'</li><li>' revuelta'</li><li>' rompehuelga'</li><li>' rompieron'</li><li>' ruta cortada'</li><li>' rutas cortadas'</li><li>' avenida cortada'</li><li>' avenidas cortadas'</li><li>' tránsito cortado'</li><li>' transito cortado'</li><li>' sabot'</li><li>' se concentrarán'</li><li>' se concentraran'</li><li>' se concentraron'</li><li>' se concentran'</li><li>' se encaden'</li><li>' se enfren'</li><li>' se manifestaron'</li><li>' se manifestaran'</li><li>' se manifestarán'</li><li>' se reuniran'</li><li>' se reunirán'</li><li>' se reunieron'</li><li>' será bloquead'</li><li>' serán bloquead'</li><li>' sera bloquead'</li><li>' seran bloquead'</li><li>' sirenazo'</li><li>' solicita '</li><li>' trabajo a reglamento'</li><li>' trabajo a tristeza'</li><li>' tregua'</li><li>' resisten'</li><li>' ira '</li><li>' tuitazo'</li></ol>\n"
            ],
            "text/markdown": "1. ' twittazo'\n2. ' twitazo'\n3. ' semaforazo'\n4. ' ladrillazo'\n5. ' tractorazo'\n6. ' banderazo'\n7. ' camionetazo'\n8. ' imput'\n9. ' acampando'\n10. ' acampar'\n11. ' acampe'\n12. ' acciones de violencia'\n13. ' acciones violentas'\n14. ' actos violentos'\n15. ' adviert'\n16. ' advert'\n17. ' advirt'\n18. ' agredi'\n19. ' agredie'\n20. ' agredir'\n21. ' agresión'\n22. ' agresion'\n23. ' agresiones'\n24. ' alerta de'\n25. ' alertan'\n26. ' amenaz'\n27. ' apalea'\n28. ' apaleó'\n29. ' apaleo'\n30. ' apedre'\n31. ' asamblea'\n32. ' ataca'\n33. ' ataque'\n34. ' banca 25'\n35. ' banca abierta'\n36. ' barricada'\n37. ' batalla'\n38. ' bloquea'\n39. ' bloqueo'\n40. ' bloqueó'\n41. ' bocinazo'\n42. ' caravana'\n43. ' besazo'\n44. ' tetazo'\n45. ' boicot'\n46. ' bronca'\n47. ' cacerolazo'\n48. ' calle cortada'\n49. ' calles cortada'\n50. ' carner'\n51. ' conciliación obligatoria'\n52. ' conciliacion obligatoria'\n53. ' conciliación no obligatoria'\n54. ' conciliacion no obligatoria'\n55. ' conferencia de prensa'\n56. ' rueda de prensa'\n57. ' continua la ocupación'\n58. ' continua la toma'\n59. ' continúa la ocupación'\n60. ' continúa la toma'\n61. ' continua el acampe'\n62. ' continúa el acampe'\n63. ' continua la usurp'\n64. ' continúa la usurp'\n65. ' cortarán el acceso'\n66. ' cortarán el puerto'\n67. ' cortarán el tránsito'\n68. ' cortarán la avenida'\n69. ' cortarán la calle'\n70. ' cortarán la intersección'\n71. ' cortarán la ruta'\n72. ' cortarán las avenidas'\n73. ' cortarán las calles'\n74. ' cortarán las intersecciones'\n75. ' cortarán las rutas'\n76. ' cortarán los accesos'\n77. ' cortaran el acceso'\n78. ' cortaran el puerto'\n79. ' cortaran el tránsito'\n80. ' cortaran el transito'\n81. ' cortaran la avenida'\n82. ' cortaran la calle'\n83. ' cortaran la intersecc'\n84. ' cortaran la ruta'\n85. ' cortaran las avenidas'\n86. ' cortaran las calles'\n87. ' cortaran las rutas'\n88. ' cortaran los accesos'\n89. ' cortaron el acceso'\n90. ' cortaron el puerto'\n91. ' cortaron el tránsito'\n92. ' cortaron el transito'\n93. ' cortaron la avenida'\n94. ' cortaron la calle'\n95. ' cortaron la intersecc'\n96. ' cortaron la ruta'\n97. ' cortaron las avenidas'\n98. ' cortaron las calles'\n99. ' cortaron las rutas'\n100. ' cortaron los accesos'\n101. ' corte de calle'\n102. ' corte de la av'\n103. ' corte de la calle'\n104. ' corte de la ruta'\n105. ' corte de ruta'\n106. ' corte en la av'\n107. ' corte en la calle'\n108. ' corte en la ruta'\n109. ' corte en las calles'\n110. ' corte en las rutas'\n111. ' cortes de calle'\n112. ' cortes de las av'\n113. ' cortes de las calles'\n114. ' cortes de las rutas'\n115. ' cortes de ruta'\n116. ' cortes en las av'\n117. ' crumir'\n118. ' demanda'\n119. ' denunci'\n120. ' pedir'\n121. ' pidie'\n122. ' pedido'\n123. ' manifestar su preocupa'\n124. ' manifestaron su preocupa'\n125. ' manifestar la preocupa'\n126. ' manifestaron la preocupa'\n127. ' desaloj'\n128. ' enfrentamiento'\n129. ' se enfrentaron'\n130. ' escrach'\n131. ' estado de alerta'\n132. ' fue agredid'\n133. ' fue atacad'\n134. ' fue bloque'\n135. ' fue ocupad'\n136. ' fue tomad'\n137. ' fueron agredid'\n138. ' fueron bloquead'\n139. ' golpiza'\n140. ' hechos de violencia'\n141. ' hechos violentos'\n142. ' huelga'\n143. ' acatamiento'\n144. ' incendiar'\n145. ' incidentes'\n146. ' justicia por mano propia'\n147. ' krumi'\n148. ' lincha'\n149. ' lockout'\n150. ' lucha'\n151. ' malestar'\n152. ' manifestaci'\n153. ' para manifes'\n154. ' marcha'\n155. ' medida de fuerza'\n156. ' medidas de fuerza'\n157. ' motín'\n158. ' motin'\n159. ' amotin'\n160. ' movilizaci'\n161. ' concentraci'\n162. ' negociación colectiva'\n163. ' negociacion colectiva'\n164. ' paran'\n165. ' pararon'\n166. ' paritaria'\n167. ' paro'\n168. ' paró'\n169. ' petici'\n170. ' pide'\n171. ' piquete'\n172. ' plan de lucha'\n173. ' protesta'\n174. ' quema'\n175. ' rebeli'\n176. ' rechaz'\n177. ' reclam'\n178. ' represi'\n179. ' reprime'\n180. ' reprimie'\n181. ' repudian'\n182. ' retención de servicios'\n183. ' retención de tarea'\n184. ' retencion de servicios'\n185. ' retencion de tarea'\n186. ' revuelta'\n187. ' rompehuelga'\n188. ' rompieron'\n189. ' ruta cortada'\n190. ' rutas cortadas'\n191. ' avenida cortada'\n192. ' avenidas cortadas'\n193. ' tránsito cortado'\n194. ' transito cortado'\n195. ' sabot'\n196. ' se concentrarán'\n197. ' se concentraran'\n198. ' se concentraron'\n199. ' se concentran'\n200. ' se encaden'\n201. ' se enfren'\n202. ' se manifestaron'\n203. ' se manifestaran'\n204. ' se manifestarán'\n205. ' se reuniran'\n206. ' se reunirán'\n207. ' se reunieron'\n208. ' será bloquead'\n209. ' serán bloquead'\n210. ' sera bloquead'\n211. ' seran bloquead'\n212. ' sirenazo'\n213. ' solicita '\n214. ' trabajo a reglamento'\n215. ' trabajo a tristeza'\n216. ' tregua'\n217. ' resisten'\n218. ' ira '\n219. ' tuitazo'\n\n\n",
            "text/latex": "\\begin{enumerate*}\n\\item ' twittazo'\n\\item ' twitazo'\n\\item ' semaforazo'\n\\item ' ladrillazo'\n\\item ' tractorazo'\n\\item ' banderazo'\n\\item ' camionetazo'\n\\item ' imput'\n\\item ' acampando'\n\\item ' acampar'\n\\item ' acampe'\n\\item ' acciones de violencia'\n\\item ' acciones violentas'\n\\item ' actos violentos'\n\\item ' adviert'\n\\item ' advert'\n\\item ' advirt'\n\\item ' agredi'\n\\item ' agredie'\n\\item ' agredir'\n\\item ' agresión'\n\\item ' agresion'\n\\item ' agresiones'\n\\item ' alerta de'\n\\item ' alertan'\n\\item ' amenaz'\n\\item ' apalea'\n\\item ' apaleó'\n\\item ' apaleo'\n\\item ' apedre'\n\\item ' asamblea'\n\\item ' ataca'\n\\item ' ataque'\n\\item ' banca 25'\n\\item ' banca abierta'\n\\item ' barricada'\n\\item ' batalla'\n\\item ' bloquea'\n\\item ' bloqueo'\n\\item ' bloqueó'\n\\item ' bocinazo'\n\\item ' caravana'\n\\item ' besazo'\n\\item ' tetazo'\n\\item ' boicot'\n\\item ' bronca'\n\\item ' cacerolazo'\n\\item ' calle cortada'\n\\item ' calles cortada'\n\\item ' carner'\n\\item ' conciliación obligatoria'\n\\item ' conciliacion obligatoria'\n\\item ' conciliación no obligatoria'\n\\item ' conciliacion no obligatoria'\n\\item ' conferencia de prensa'\n\\item ' rueda de prensa'\n\\item ' continua la ocupación'\n\\item ' continua la toma'\n\\item ' continúa la ocupación'\n\\item ' continúa la toma'\n\\item ' continua el acampe'\n\\item ' continúa el acampe'\n\\item ' continua la usurp'\n\\item ' continúa la usurp'\n\\item ' cortarán el acceso'\n\\item ' cortarán el puerto'\n\\item ' cortarán el tránsito'\n\\item ' cortarán la avenida'\n\\item ' cortarán la calle'\n\\item ' cortarán la intersección'\n\\item ' cortarán la ruta'\n\\item ' cortarán las avenidas'\n\\item ' cortarán las calles'\n\\item ' cortarán las intersecciones'\n\\item ' cortarán las rutas'\n\\item ' cortarán los accesos'\n\\item ' cortaran el acceso'\n\\item ' cortaran el puerto'\n\\item ' cortaran el tránsito'\n\\item ' cortaran el transito'\n\\item ' cortaran la avenida'\n\\item ' cortaran la calle'\n\\item ' cortaran la intersecc'\n\\item ' cortaran la ruta'\n\\item ' cortaran las avenidas'\n\\item ' cortaran las calles'\n\\item ' cortaran las rutas'\n\\item ' cortaran los accesos'\n\\item ' cortaron el acceso'\n\\item ' cortaron el puerto'\n\\item ' cortaron el tránsito'\n\\item ' cortaron el transito'\n\\item ' cortaron la avenida'\n\\item ' cortaron la calle'\n\\item ' cortaron la intersecc'\n\\item ' cortaron la ruta'\n\\item ' cortaron las avenidas'\n\\item ' cortaron las calles'\n\\item ' cortaron las rutas'\n\\item ' cortaron los accesos'\n\\item ' corte de calle'\n\\item ' corte de la av'\n\\item ' corte de la calle'\n\\item ' corte de la ruta'\n\\item ' corte de ruta'\n\\item ' corte en la av'\n\\item ' corte en la calle'\n\\item ' corte en la ruta'\n\\item ' corte en las calles'\n\\item ' corte en las rutas'\n\\item ' cortes de calle'\n\\item ' cortes de las av'\n\\item ' cortes de las calles'\n\\item ' cortes de las rutas'\n\\item ' cortes de ruta'\n\\item ' cortes en las av'\n\\item ' crumir'\n\\item ' demanda'\n\\item ' denunci'\n\\item ' pedir'\n\\item ' pidie'\n\\item ' pedido'\n\\item ' manifestar su preocupa'\n\\item ' manifestaron su preocupa'\n\\item ' manifestar la preocupa'\n\\item ' manifestaron la preocupa'\n\\item ' desaloj'\n\\item ' enfrentamiento'\n\\item ' se enfrentaron'\n\\item ' escrach'\n\\item ' estado de alerta'\n\\item ' fue agredid'\n\\item ' fue atacad'\n\\item ' fue bloque'\n\\item ' fue ocupad'\n\\item ' fue tomad'\n\\item ' fueron agredid'\n\\item ' fueron bloquead'\n\\item ' golpiza'\n\\item ' hechos de violencia'\n\\item ' hechos violentos'\n\\item ' huelga'\n\\item ' acatamiento'\n\\item ' incendiar'\n\\item ' incidentes'\n\\item ' justicia por mano propia'\n\\item ' krumi'\n\\item ' lincha'\n\\item ' lockout'\n\\item ' lucha'\n\\item ' malestar'\n\\item ' manifestaci'\n\\item ' para manifes'\n\\item ' marcha'\n\\item ' medida de fuerza'\n\\item ' medidas de fuerza'\n\\item ' motín'\n\\item ' motin'\n\\item ' amotin'\n\\item ' movilizaci'\n\\item ' concentraci'\n\\item ' negociación colectiva'\n\\item ' negociacion colectiva'\n\\item ' paran'\n\\item ' pararon'\n\\item ' paritaria'\n\\item ' paro'\n\\item ' paró'\n\\item ' petici'\n\\item ' pide'\n\\item ' piquete'\n\\item ' plan de lucha'\n\\item ' protesta'\n\\item ' quema'\n\\item ' rebeli'\n\\item ' rechaz'\n\\item ' reclam'\n\\item ' represi'\n\\item ' reprime'\n\\item ' reprimie'\n\\item ' repudian'\n\\item ' retención de servicios'\n\\item ' retención de tarea'\n\\item ' retencion de servicios'\n\\item ' retencion de tarea'\n\\item ' revuelta'\n\\item ' rompehuelga'\n\\item ' rompieron'\n\\item ' ruta cortada'\n\\item ' rutas cortadas'\n\\item ' avenida cortada'\n\\item ' avenidas cortadas'\n\\item ' tránsito cortado'\n\\item ' transito cortado'\n\\item ' sabot'\n\\item ' se concentrarán'\n\\item ' se concentraran'\n\\item ' se concentraron'\n\\item ' se concentran'\n\\item ' se encaden'\n\\item ' se enfren'\n\\item ' se manifestaron'\n\\item ' se manifestaran'\n\\item ' se manifestarán'\n\\item ' se reuniran'\n\\item ' se reunirán'\n\\item ' se reunieron'\n\\item ' será bloquead'\n\\item ' serán bloquead'\n\\item ' sera bloquead'\n\\item ' seran bloquead'\n\\item ' sirenazo'\n\\item ' solicita '\n\\item ' trabajo a reglamento'\n\\item ' trabajo a tristeza'\n\\item ' tregua'\n\\item ' resisten'\n\\item ' ira '\n\\item ' tuitazo'\n\\end{enumerate*}\n",
            "text/plain": [
              "  [1] \" twittazo\"                    \" twitazo\"                    \n",
              "  [3] \" semaforazo\"                  \" ladrillazo\"                 \n",
              "  [5] \" tractorazo\"                  \" banderazo\"                  \n",
              "  [7] \" camionetazo\"                 \" imput\"                      \n",
              "  [9] \" acampando\"                   \" acampar\"                    \n",
              " [11] \" acampe\"                      \" acciones de violencia\"      \n",
              " [13] \" acciones violentas\"          \" actos violentos\"            \n",
              " [15] \" adviert\"                     \" advert\"                     \n",
              " [17] \" advirt\"                      \" agredi\"                     \n",
              " [19] \" agredie\"                     \" agredir\"                    \n",
              " [21] \" agresión\"                    \" agresion\"                   \n",
              " [23] \" agresiones\"                  \" alerta de\"                  \n",
              " [25] \" alertan\"                     \" amenaz\"                     \n",
              " [27] \" apalea\"                      \" apaleó\"                     \n",
              " [29] \" apaleo\"                      \" apedre\"                     \n",
              " [31] \" asamblea\"                    \" ataca\"                      \n",
              " [33] \" ataque\"                      \" banca 25\"                   \n",
              " [35] \" banca abierta\"               \" barricada\"                  \n",
              " [37] \" batalla\"                     \" bloquea\"                    \n",
              " [39] \" bloqueo\"                     \" bloqueó\"                    \n",
              " [41] \" bocinazo\"                    \" caravana\"                   \n",
              " [43] \" besazo\"                      \" tetazo\"                     \n",
              " [45] \" boicot\"                      \" bronca\"                     \n",
              " [47] \" cacerolazo\"                  \" calle cortada\"              \n",
              " [49] \" calles cortada\"              \" carner\"                     \n",
              " [51] \" conciliación obligatoria\"    \" conciliacion obligatoria\"   \n",
              " [53] \" conciliación no obligatoria\" \" conciliacion no obligatoria\"\n",
              " [55] \" conferencia de prensa\"       \" rueda de prensa\"            \n",
              " [57] \" continua la ocupación\"       \" continua la toma\"           \n",
              " [59] \" continúa la ocupación\"       \" continúa la toma\"           \n",
              " [61] \" continua el acampe\"          \" continúa el acampe\"         \n",
              " [63] \" continua la usurp\"           \" continúa la usurp\"          \n",
              " [65] \" cortarán el acceso\"          \" cortarán el puerto\"         \n",
              " [67] \" cortarán el tránsito\"        \" cortarán la avenida\"        \n",
              " [69] \" cortarán la calle\"           \" cortarán la intersección\"   \n",
              " [71] \" cortarán la ruta\"            \" cortarán las avenidas\"      \n",
              " [73] \" cortarán las calles\"         \" cortarán las intersecciones\"\n",
              " [75] \" cortarán las rutas\"          \" cortarán los accesos\"       \n",
              " [77] \" cortaran el acceso\"          \" cortaran el puerto\"         \n",
              " [79] \" cortaran el tránsito\"        \" cortaran el transito\"       \n",
              " [81] \" cortaran la avenida\"         \" cortaran la calle\"          \n",
              " [83] \" cortaran la intersecc\"       \" cortaran la ruta\"           \n",
              " [85] \" cortaran las avenidas\"       \" cortaran las calles\"        \n",
              " [87] \" cortaran las rutas\"          \" cortaran los accesos\"       \n",
              " [89] \" cortaron el acceso\"          \" cortaron el puerto\"         \n",
              " [91] \" cortaron el tránsito\"        \" cortaron el transito\"       \n",
              " [93] \" cortaron la avenida\"         \" cortaron la calle\"          \n",
              " [95] \" cortaron la intersecc\"       \" cortaron la ruta\"           \n",
              " [97] \" cortaron las avenidas\"       \" cortaron las calles\"        \n",
              " [99] \" cortaron las rutas\"          \" cortaron los accesos\"       \n",
              "[101] \" corte de calle\"              \" corte de la av\"             \n",
              "[103] \" corte de la calle\"           \" corte de la ruta\"           \n",
              "[105] \" corte de ruta\"               \" corte en la av\"             \n",
              "[107] \" corte en la calle\"           \" corte en la ruta\"           \n",
              "[109] \" corte en las calles\"         \" corte en las rutas\"         \n",
              "[111] \" cortes de calle\"             \" cortes de las av\"           \n",
              "[113] \" cortes de las calles\"        \" cortes de las rutas\"        \n",
              "[115] \" cortes de ruta\"              \" cortes en las av\"           \n",
              "[117] \" crumir\"                      \" demanda\"                    \n",
              "[119] \" denunci\"                     \" pedir\"                      \n",
              "[121] \" pidie\"                       \" pedido\"                     \n",
              "[123] \" manifestar su preocupa\"      \" manifestaron su preocupa\"   \n",
              "[125] \" manifestar la preocupa\"      \" manifestaron la preocupa\"   \n",
              "[127] \" desaloj\"                     \" enfrentamiento\"             \n",
              "[129] \" se enfrentaron\"              \" escrach\"                    \n",
              "[131] \" estado de alerta\"            \" fue agredid\"                \n",
              "[133] \" fue atacad\"                  \" fue bloque\"                 \n",
              "[135] \" fue ocupad\"                  \" fue tomad\"                  \n",
              "[137] \" fueron agredid\"              \" fueron bloquead\"            \n",
              "[139] \" golpiza\"                     \" hechos de violencia\"        \n",
              "[141] \" hechos violentos\"            \" huelga\"                     \n",
              "[143] \" acatamiento\"                 \" incendiar\"                  \n",
              "[145] \" incidentes\"                  \" justicia por mano propia\"   \n",
              "[147] \" krumi\"                       \" lincha\"                     \n",
              "[149] \" lockout\"                     \" lucha\"                      \n",
              "[151] \" malestar\"                    \" manifestaci\"                \n",
              "[153] \" para manifes\"                \" marcha\"                     \n",
              "[155] \" medida de fuerza\"            \" medidas de fuerza\"          \n",
              "[157] \" motín\"                       \" motin\"                      \n",
              "[159] \" amotin\"                      \" movilizaci\"                 \n",
              "[161] \" concentraci\"                 \" negociación colectiva\"      \n",
              "[163] \" negociacion colectiva\"       \" paran\"                      \n",
              "[165] \" pararon\"                     \" paritaria\"                  \n",
              "[167] \" paro\"                        \" paró\"                       \n",
              "[169] \" petici\"                      \" pide\"                       \n",
              "[171] \" piquete\"                     \" plan de lucha\"              \n",
              "[173] \" protesta\"                    \" quema\"                      \n",
              "[175] \" rebeli\"                      \" rechaz\"                     \n",
              "[177] \" reclam\"                      \" represi\"                    \n",
              "[179] \" reprime\"                     \" reprimie\"                   \n",
              "[181] \" repudian\"                    \" retención de servicios\"     \n",
              "[183] \" retención de tarea\"          \" retencion de servicios\"     \n",
              "[185] \" retencion de tarea\"          \" revuelta\"                   \n",
              "[187] \" rompehuelga\"                 \" rompieron\"                  \n",
              "[189] \" ruta cortada\"                \" rutas cortadas\"             \n",
              "[191] \" avenida cortada\"             \" avenidas cortadas\"          \n",
              "[193] \" tránsito cortado\"            \" transito cortado\"           \n",
              "[195] \" sabot\"                       \" se concentrarán\"            \n",
              "[197] \" se concentraran\"             \" se concentraron\"            \n",
              "[199] \" se concentran\"               \" se encaden\"                 \n",
              "[201] \" se enfren\"                   \" se manifestaron\"            \n",
              "[203] \" se manifestaran\"             \" se manifestarán\"            \n",
              "[205] \" se reuniran\"                 \" se reunirán\"                \n",
              "[207] \" se reunieron\"                \" será bloquead\"              \n",
              "[209] \" serán bloquead\"              \" sera bloquead\"              \n",
              "[211] \" seran bloquead\"              \" sirenazo\"                   \n",
              "[213] \" solicita \"                   \" trabajo a reglamento\"       \n",
              "[215] \" trabajo a tristeza\"          \" tregua\"                     \n",
              "[217] \" resisten\"                    \" ira \"                       \n",
              "[219] \" tuitazo\"                    "
            ]
          },
          "metadata": {}
        }
      ]
    },
    {
      "cell_type": "code",
      "source": [
        "rev_puerto <- acep_load_base(acep_bases$rev_puerto)\n",
        "print(rev_puerto)"
      ],
      "metadata": {
        "id": "ow1qgZWJFEh0",
        "outputId": "eb2d8978-269a-4ab2-a3a3-0ac1edb1bdfe",
        "colab": {
          "base_uri": "https://localhost:8080/"
        }
      },
      "execution_count": 19,
      "outputs": [
        {
          "output_type": "stream",
          "name": "stderr",
          "text": [
            "Descargando...\n",
            "\n"
          ]
        },
        {
          "output_type": "stream",
          "name": "stdout",
          "text": [
            "\u001b[90m# A data frame: 32 × 3\u001b[39m\n",
            "   fecha      titulo                                                       nota \n",
            "   \u001b[3m\u001b[90m<date>\u001b[39m\u001b[23m     \u001b[3m\u001b[90m<chr>\u001b[39m\u001b[23m                                                        \u001b[3m\u001b[90m<chr>\u001b[39m\u001b[23m\n",
            "\u001b[90m 1\u001b[39m 2019-03-29 Astillero Contessi botó al Luca Santino, un fresquero de nu… \u001b[90m\"\u001b[39mTra…\n",
            "\u001b[90m 2\u001b[39m 2019-03-29 Di Leva despidió a trabajadores de El Marisco y Sebastián G… \u001b[90m\"\u001b[39mTra…\n",
            "\u001b[90m 3\u001b[39m 2019-03-29 El Consejo aprobó la apertura al norte para el calamar       \u001b[90m\"\u001b[39mEn …\n",
            "\u001b[90m 4\u001b[39m 2019-03-28 “Todos los empresarios me dicen que tendrían que achicarse”  \u001b[90m\"\u001b[39mCri…\n",
            "\u001b[90m 5\u001b[39m 2019-03-28 En el Puerto de Montevideo siguen bajando un muerto por mes  \u001b[90m\"\u001b[39mLa …\n",
            "\u001b[90m 6\u001b[39m 2019-03-28 Habilitan el muelle Piedra Buena para descarga de congelado… \u001b[90m\"\u001b[39mLa …\n",
            "\u001b[90m 7\u001b[39m 2019-03-27 “Solo hay que esperar el próximo naufragio”                  \u001b[90m\"\u001b[39mSil…\n",
            "\u001b[90m 8\u001b[39m 2019-03-27 Chubut define el cierre de la pesca de langostino            \u001b[90m\"\u001b[39mLa …\n",
            "\u001b[90m 9\u001b[39m 2019-03-27 En Mar del Plata se extiende el conflicto en pesqueras de A… \u001b[90m\"\u001b[39mEst…\n",
            "\u001b[90m10\u001b[39m 2019-03-26 Santa Cruz: El STIA pautó una suba salarial del 40 por cien… \u001b[90m\"\u001b[39mLa …\n",
            "\u001b[90m# ℹ 22 more rows\u001b[39m\n"
          ]
        }
      ]
    },
    {
      "cell_type": "code",
      "source": [
        "conflictos <- c(1, 5, 0, 3, 7)\n",
        "palabras <- c(4, 11, 12, 9, 34)\n",
        "acep_int(conflictos, palabras, 3)"
      ],
      "metadata": {
        "id": "I0wYDcFVFgMc",
        "outputId": "b98b55be-3f8b-4edd-c19b-e3091bdb883c",
        "colab": {
          "base_uri": "https://localhost:8080/",
          "height": 34
        }
      },
      "execution_count": 20,
      "outputs": [
        {
          "output_type": "display_data",
          "data": {
            "text/html": [
              "<style>\n",
              ".list-inline {list-style: none; margin:0; padding: 0}\n",
              ".list-inline>li {display: inline-block}\n",
              ".list-inline>li:not(:last-child)::after {content: \"\\00b7\"; padding: 0 .5ex}\n",
              "</style>\n",
              "<ol class=list-inline><li>0.25</li><li>0.455</li><li>0</li><li>0.333</li><li>0.206</li></ol>\n"
            ],
            "text/markdown": "1. 0.25\n2. 0.455\n3. 0\n4. 0.333\n5. 0.206\n\n\n",
            "text/latex": "\\begin{enumerate*}\n\\item 0.25\n\\item 0.455\n\\item 0\n\\item 0.333\n\\item 0.206\n\\end{enumerate*}\n",
            "text/plain": [
              "[1] 0.250 0.455 0.000 0.333 0.206"
            ]
          },
          "metadata": {}
        }
      ]
    },
    {
      "cell_type": "code",
      "source": [
        "acep_rs"
      ],
      "metadata": {
        "id": "LF9sEnW5GotX",
        "outputId": "17024918-c8e8-4f21-f766-b49298ba6867",
        "colab": {
          "base_uri": "https://localhost:8080/",
          "height": 288
        }
      },
      "execution_count": 21,
      "outputs": [
        {
          "output_type": "display_data",
          "data": {
            "text/html": [
              "<dl>\n",
              "\t<dt>$sintildes</dt>\n",
              "\t\t<dd>'SZszYAAAAAACEEEEIIIIDNOOOOOUUUUYaaaaaaceeeeiiiidnooooouuuuyy'</dd>\n",
              "\t<dt>$url</dt>\n",
              "\t\t<dd>'http\\\\S+|ftp\\\\S+|Http\\\\S+|Ftp\\\\S+|HTTP\\\\S+|FTP\\\\S+'</dd>\n",
              "\t<dt>$users</dt>\n",
              "\t\t<dd>'@\\\\S+'</dd>\n",
              "\t<dt>$saltos</dt>\n",
              "\t\t<dd>'[ \\t\\r\\n]'</dd>\n",
              "\t<dt>$espacios</dt>\n",
              "\t\t<dd>'^ *|(?&lt;= ) | *$'</dd>\n",
              "\t<dt>$hashtag</dt>\n",
              "\t\t<dd>'#\\\\S+'</dd>\n",
              "\t<dt>$num</dt>\n",
              "\t\t<dd>'[[:digit:]]*'</dd>\n",
              "</dl>\n"
            ],
            "text/markdown": "$sintildes\n:   'SZszYAAAAAACEEEEIIIIDNOOOOOUUUUYaaaaaaceeeeiiiidnooooouuuuyy'\n$url\n:   'http\\\\S+|ftp\\\\S+|Http\\\\S+|Ftp\\\\S+|HTTP\\\\S+|FTP\\\\S+'\n$users\n:   '@\\\\S+'\n$saltos\n:   '[ \\t\\r\\n]'\n$espacios\n:   '^ *|(?&lt;= ) | *$'\n$hashtag\n:   '#\\\\S+'\n$num\n:   '[[:digit:]]*'\n\n\n",
            "text/latex": "\\begin{description}\n\\item[\\$sintildes] 'SZszYAAAAAACEEEEIIIIDNOOOOOUUUUYaaaaaaceeeeiiiidnooooouuuuyy'\n\\item[\\$url] 'http\\textbackslash{}\\textbackslash{}S+\\textbar{}ftp\\textbackslash{}\\textbackslash{}S+\\textbar{}Http\\textbackslash{}\\textbackslash{}S+\\textbar{}Ftp\\textbackslash{}\\textbackslash{}S+\\textbar{}HTTP\\textbackslash{}\\textbackslash{}S+\\textbar{}FTP\\textbackslash{}\\textbackslash{}S+'\n\\item[\\$users] '@\\textbackslash{}\\textbackslash{}S+'\n\\item[\\$saltos] '{[} \\textbackslash{}t\\textbackslash{}r\\textbackslash{}n{]}'\n\\item[\\$espacios] '\\textasciicircum{} *\\textbar{}(?<= ) \\textbar{} *\\$'\n\\item[\\$hashtag] '\\#\\textbackslash{}\\textbackslash{}S+'\n\\item[\\$num] '{[}{[}:digit:{]}{]}*'\n\\end{description}\n",
            "text/plain": [
              "$sintildes\n",
              "[1] \"SZszYAAAAAACEEEEIIIIDNOOOOOUUUUYaaaaaaceeeeiiiidnooooouuuuyy\"\n",
              "\n",
              "$url\n",
              "[1] \"http\\\\S+|ftp\\\\S+|Http\\\\S+|Ftp\\\\S+|HTTP\\\\S+|FTP\\\\S+\"\n",
              "\n",
              "$users\n",
              "[1] \"@\\\\S+\"\n",
              "\n",
              "$saltos\n",
              "[1] \"[ \\t\\r\\n]\"\n",
              "\n",
              "$espacios\n",
              "[1] \"^ *|(?<= ) | *$\"\n",
              "\n",
              "$hashtag\n",
              "[1] \"#\\\\S+\"\n",
              "\n",
              "$num\n",
              "[1] \"[[:digit:]]*\"\n"
            ]
          },
          "metadata": {}
        }
      ]
    },
    {
      "cell_type": "code",
      "source": [
        "datos <- acep_bases$rp_procesada\n",
        "fecha <- datos$fecha\n",
        "n_palabras <- datos$n_palabras\n",
        "conflictos <- datos$conflictos\n",
        "datos_procesados_anio <- acep_rst(datos, fecha, n_palabras, conflictos, st = 'anio', u = 4)\n",
        "datos_procesados_anio\n",
        "# int_notas_confl = csn/frecn\n",
        "# intensidad      = frecm/frecp\n",
        "# intac = sum(intensidad = pcxn/ptxn)"
      ],
      "metadata": {
        "id": "ALzH85OsGtPc",
        "outputId": "86a176d5-2791-4368-d485-f851ab66d421",
        "colab": {
          "base_uri": "https://localhost:8080/",
          "height": 474
        }
      },
      "execution_count": 23,
      "outputs": [
        {
          "output_type": "display_data",
          "data": {
            "text/html": [
              "<table class=\"dataframe\">\n",
              "<caption>A data.frame: 12 × 8</caption>\n",
              "<thead>\n",
              "\t<tr><th scope=col>st</th><th scope=col>frecn</th><th scope=col>csn</th><th scope=col>frecp</th><th scope=col>frecm</th><th scope=col>intac</th><th scope=col>intensidad</th><th scope=col>int_notas_confl</th></tr>\n",
              "\t<tr><th scope=col>&lt;chr&gt;</th><th scope=col>&lt;int&gt;</th><th scope=col>&lt;dbl&gt;</th><th scope=col>&lt;int&gt;</th><th scope=col>&lt;int&gt;</th><th scope=col>&lt;dbl&gt;</th><th scope=col>&lt;dbl&gt;</th><th scope=col>&lt;dbl&gt;</th></tr>\n",
              "</thead>\n",
              "<tbody>\n",
              "\t<tr><td>2009</td><td>632</td><td>58</td><td>496110</td><td>1025</td><td>1.2735</td><td>0.0021</td><td>0.0918</td></tr>\n",
              "\t<tr><td>2010</td><td>680</td><td>67</td><td>492231</td><td>1129</td><td>1.6273</td><td>0.0023</td><td>0.0985</td></tr>\n",
              "\t<tr><td>2011</td><td>601</td><td>40</td><td>425747</td><td> 882</td><td>1.2204</td><td>0.0021</td><td>0.0666</td></tr>\n",
              "\t<tr><td>2012</td><td>739</td><td>67</td><td>564270</td><td>1242</td><td>1.6841</td><td>0.0022</td><td>0.0907</td></tr>\n",
              "\t<tr><td>2013</td><td>689</td><td>24</td><td>525718</td><td> 758</td><td>1.0559</td><td>0.0014</td><td>0.0348</td></tr>\n",
              "\t<tr><td>2014</td><td>631</td><td>30</td><td>444823</td><td> 802</td><td>1.2112</td><td>0.0018</td><td>0.0475</td></tr>\n",
              "\t<tr><td>2015</td><td>620</td><td>38</td><td>409791</td><td> 762</td><td>1.2378</td><td>0.0019</td><td>0.0613</td></tr>\n",
              "\t<tr><td>2016</td><td>675</td><td>41</td><td>454776</td><td> 972</td><td>1.5070</td><td>0.0021</td><td>0.0607</td></tr>\n",
              "\t<tr><td>2017</td><td>637</td><td>44</td><td>433212</td><td> 844</td><td>1.2528</td><td>0.0019</td><td>0.0691</td></tr>\n",
              "\t<tr><td>2018</td><td>639</td><td>43</td><td>422204</td><td> 899</td><td>1.4013</td><td>0.0021</td><td>0.0673</td></tr>\n",
              "\t<tr><td>2019</td><td>637</td><td>50</td><td>426511</td><td> 871</td><td>1.3032</td><td>0.0020</td><td>0.0785</td></tr>\n",
              "\t<tr><td>2020</td><td>636</td><td>39</td><td>427276</td><td> 769</td><td>1.1455</td><td>0.0018</td><td>0.0613</td></tr>\n",
              "</tbody>\n",
              "</table>\n"
            ],
            "text/markdown": "\nA data.frame: 12 × 8\n\n| st &lt;chr&gt; | frecn &lt;int&gt; | csn &lt;dbl&gt; | frecp &lt;int&gt; | frecm &lt;int&gt; | intac &lt;dbl&gt; | intensidad &lt;dbl&gt; | int_notas_confl &lt;dbl&gt; |\n|---|---|---|---|---|---|---|---|\n| 2009 | 632 | 58 | 496110 | 1025 | 1.2735 | 0.0021 | 0.0918 |\n| 2010 | 680 | 67 | 492231 | 1129 | 1.6273 | 0.0023 | 0.0985 |\n| 2011 | 601 | 40 | 425747 |  882 | 1.2204 | 0.0021 | 0.0666 |\n| 2012 | 739 | 67 | 564270 | 1242 | 1.6841 | 0.0022 | 0.0907 |\n| 2013 | 689 | 24 | 525718 |  758 | 1.0559 | 0.0014 | 0.0348 |\n| 2014 | 631 | 30 | 444823 |  802 | 1.2112 | 0.0018 | 0.0475 |\n| 2015 | 620 | 38 | 409791 |  762 | 1.2378 | 0.0019 | 0.0613 |\n| 2016 | 675 | 41 | 454776 |  972 | 1.5070 | 0.0021 | 0.0607 |\n| 2017 | 637 | 44 | 433212 |  844 | 1.2528 | 0.0019 | 0.0691 |\n| 2018 | 639 | 43 | 422204 |  899 | 1.4013 | 0.0021 | 0.0673 |\n| 2019 | 637 | 50 | 426511 |  871 | 1.3032 | 0.0020 | 0.0785 |\n| 2020 | 636 | 39 | 427276 |  769 | 1.1455 | 0.0018 | 0.0613 |\n\n",
            "text/latex": "A data.frame: 12 × 8\n\\begin{tabular}{llllllll}\n st & frecn & csn & frecp & frecm & intac & intensidad & int\\_notas\\_confl\\\\\n <chr> & <int> & <dbl> & <int> & <int> & <dbl> & <dbl> & <dbl>\\\\\n\\hline\n\t 2009 & 632 & 58 & 496110 & 1025 & 1.2735 & 0.0021 & 0.0918\\\\\n\t 2010 & 680 & 67 & 492231 & 1129 & 1.6273 & 0.0023 & 0.0985\\\\\n\t 2011 & 601 & 40 & 425747 &  882 & 1.2204 & 0.0021 & 0.0666\\\\\n\t 2012 & 739 & 67 & 564270 & 1242 & 1.6841 & 0.0022 & 0.0907\\\\\n\t 2013 & 689 & 24 & 525718 &  758 & 1.0559 & 0.0014 & 0.0348\\\\\n\t 2014 & 631 & 30 & 444823 &  802 & 1.2112 & 0.0018 & 0.0475\\\\\n\t 2015 & 620 & 38 & 409791 &  762 & 1.2378 & 0.0019 & 0.0613\\\\\n\t 2016 & 675 & 41 & 454776 &  972 & 1.5070 & 0.0021 & 0.0607\\\\\n\t 2017 & 637 & 44 & 433212 &  844 & 1.2528 & 0.0019 & 0.0691\\\\\n\t 2018 & 639 & 43 & 422204 &  899 & 1.4013 & 0.0021 & 0.0673\\\\\n\t 2019 & 637 & 50 & 426511 &  871 & 1.3032 & 0.0020 & 0.0785\\\\\n\t 2020 & 636 & 39 & 427276 &  769 & 1.1455 & 0.0018 & 0.0613\\\\\n\\end{tabular}\n",
            "text/plain": [
              "   st   frecn csn frecp  frecm intac  intensidad int_notas_confl\n",
              "1  2009 632   58  496110 1025  1.2735 0.0021     0.0918         \n",
              "2  2010 680   67  492231 1129  1.6273 0.0023     0.0985         \n",
              "3  2011 601   40  425747  882  1.2204 0.0021     0.0666         \n",
              "4  2012 739   67  564270 1242  1.6841 0.0022     0.0907         \n",
              "5  2013 689   24  525718  758  1.0559 0.0014     0.0348         \n",
              "6  2014 631   30  444823  802  1.2112 0.0018     0.0475         \n",
              "7  2015 620   38  409791  762  1.2378 0.0019     0.0613         \n",
              "8  2016 675   41  454776  972  1.5070 0.0021     0.0607         \n",
              "9  2017 637   44  433212  844  1.2528 0.0019     0.0691         \n",
              "10 2018 639   43  422204  899  1.4013 0.0021     0.0673         \n",
              "11 2019 637   50  426511  871  1.3032 0.0020     0.0785         \n",
              "12 2020 636   39  427276  769  1.1455 0.0018     0.0613         "
            ]
          },
          "metadata": {}
        }
      ]
    },
    {
      "cell_type": "code",
      "source": [
        "acep_plot_st(\n",
        "x = datos_procesados_anio$st, \n",
        "y = datos_procesados_anio$frecm,\n",
        "t = 'Evolución de la conflictividad en el sector pesquero argentino',\n",
        "ejex = 'Años analizados',\n",
        "ejey = 'Menciones de términos del diccionario de conflictos',\n",
        "etiquetax = 'horizontal')"
      ],
      "metadata": {
        "id": "9atKHmRoMz_F",
        "outputId": "8dffb7bb-ff5f-4b50-e38b-1e5c73d4673a",
        "colab": {
          "base_uri": "https://localhost:8080/",
          "height": 437
        }
      },
      "execution_count": 27,
      "outputs": [
        {
          "output_type": "display_data",
          "data": {
            "text/plain": [
              "Plot with title “Evolución de la conflictividad en el sector pesquero argentino”"
            ],
            "image/png": "[encoded data removed]"
          },
          "metadata": {
            "image/png": {
              "width": 420,
              "height": 420
            }
          }
        }
      ]
    },
    {
      "cell_type": "code",
      "source": [
        "acep_plot_rst(datos_procesados_anio, tagx = 'vertical')"
      ],
      "metadata": {
        "id": "iCN5Dr80NW3U",
        "outputId": "b1f3125e-1f3c-4cfd-c75d-6e2d91135548",
        "colab": {
          "base_uri": "https://localhost:8080/",
          "height": 437
        }
      },
      "execution_count": 28,
      "outputs": [
        {
          "output_type": "display_data",
          "data": {
            "text/plain": [
              "Plot with title “Intensidad acumulada de la protesta”"
            ],
            "image/png": "[encoded data removed]"
          },
          "metadata": {
            "image/png": {
              "width": 420,
              "height": 420
            }
          }
        }
      ]
    }
  ]
}